{
 "cells": [
  {
   "cell_type": "markdown",
   "id": "2293ca07",
   "metadata": {},
   "source": [
    "# Homework no.4 Machine Learning\n",
    "**Student Name:** Mohammad Amin Dadgar <br>\n",
    "**Student Id:** 4003624016"
   ]
  },
  {
   "cell_type": "code",
   "execution_count": 3,
   "id": "36fe611d",
   "metadata": {},
   "outputs": [],
   "source": [
    "## importing libraries\n",
    "import tensorflow as tf\n",
    "from tensorflow import keras\n",
    "import numpy as np\n",
    "import matplotlib.pyplot as plt\n",
    "import tensorflow_datasets as tfds\n",
    "import tensorflow_hub as hub"
   ]
  },
  {
   "cell_type": "markdown",
   "id": "55b825a8",
   "metadata": {},
   "source": [
    "# Q1\n",
    "Using MNIST dataset implement multi-layer neural networks and report the accuracy of the classification with requested properties.\n",
    "- Train a neural network with 1, 2 and 3 layers.\n",
    "- Use different neuron counts in each layer, ex: 16, 32, 64\n",
    "- Use `mse` and `cross_entropy` for loss function.\n",
    "- Use the activation functions `relu`, `tanh` and `sigmoid`."
   ]
  },
  {
   "cell_type": "markdown",
   "id": "fccfcbdf",
   "metadata": {},
   "source": [
    "## Answer"
   ]
  },
  {
   "cell_type": "markdown",
   "id": "30782eca",
   "metadata": {},
   "source": [
    "### Loading the MNIST dataset"
   ]
  },
  {
   "cell_type": "code",
   "execution_count": 2,
   "id": "e3912bd2",
   "metadata": {},
   "outputs": [
    {
     "data": {
      "text/plain": [
       "((60000, 28, 28), (60000,))"
      ]
     },
     "execution_count": 2,
     "metadata": {},
     "output_type": "execute_result"
    }
   ],
   "source": [
    "## Loading the dataset\n",
    "(x_train, y_train), (x_test, y_test) = keras.datasets.mnist.load_data()\n",
    "x_train.shape, y_train.shape"
   ]
  },
  {
   "cell_type": "code",
   "execution_count": 17,
   "id": "9e700645",
   "metadata": {},
   "outputs": [
    {
     "data": {
      "text/plain": [
       "array([0, 1, 2, 3, 4, 5, 6, 7, 8, 9], dtype=uint8)"
      ]
     },
     "execution_count": 17,
     "metadata": {},
     "output_type": "execute_result"
    }
   ],
   "source": [
    "np.unique(y_train)"
   ]
  },
  {
   "cell_type": "code",
   "execution_count": 20,
   "id": "ddd0d043",
   "metadata": {},
   "outputs": [
    {
     "data": {
      "text/plain": [
       "array([[0., 0., 0., 0., 0., 1., 0., 0., 0., 0.],\n",
       "       [1., 0., 0., 0., 0., 0., 0., 0., 0., 0.],\n",
       "       [0., 0., 0., 0., 1., 0., 0., 0., 0., 0.],\n",
       "       [0., 1., 0., 0., 0., 0., 0., 0., 0., 0.],\n",
       "       [0., 0., 0., 0., 0., 0., 0., 0., 0., 1.]], dtype=float32)"
      ]
     },
     "execution_count": 20,
     "metadata": {},
     "output_type": "execute_result"
    }
   ],
   "source": [
    "y_train_binray_vec = keras.utils.to_categorical(y_train)\n",
    "y_test_binray_vec = keras.utils.to_categorical(y_test)\n",
    "\n",
    "y_train_binray_vec[:5]"
   ]
  },
  {
   "cell_type": "markdown",
   "id": "b0a84d06",
   "metadata": {},
   "source": [
    "### Creating one layer network with Fully Connected layer"
   ]
  },
  {
   "cell_type": "code",
   "execution_count": 58,
   "id": "e1d19c28",
   "metadata": {},
   "outputs": [
    {
     "name": "stdout",
     "output_type": "stream",
     "text": [
      "Model: \"sequential_10\"\n",
      "_________________________________________________________________\n",
      " Layer (type)                Output Shape              Param #   \n",
      "=================================================================\n",
      " dense_12 (Dense)            (None, 10)                7850      \n",
      "                                                                 \n",
      "=================================================================\n",
      "Total params: 7,850\n",
      "Trainable params: 7,850\n",
      "Non-trainable params: 0\n",
      "_________________________________________________________________\n"
     ]
    }
   ],
   "source": [
    "input_shape = x_train.shape[1]*x_train.shape[2]\n",
    "## Implement sequential leyers\n",
    "model = keras.models.Sequential()\n",
    "model.add(keras.layers.Dense(10, activation='softmax', input_shape=(input_shape,)))\n",
    "\n",
    "\n",
    "model.summary()"
   ]
  },
  {
   "cell_type": "markdown",
   "id": "aefaace0",
   "metadata": {},
   "source": [
    "The parameters are calculated as `28*28*13 + 13`, which 13 is our bias count."
   ]
  },
  {
   "cell_type": "code",
   "execution_count": 59,
   "id": "6d4e131d",
   "metadata": {},
   "outputs": [
    {
     "data": {
      "text/plain": [
       "(TensorShape([60000, 784]), TensorShape([10000, 784]))"
      ]
     },
     "execution_count": 59,
     "metadata": {},
     "output_type": "execute_result"
    }
   ],
   "source": [
    "## reshape the images because we are going to use them as an input of a dense layer\n",
    "x_train_reshaped = tf.reshape(x_train, (x_train.shape[0], input_shape))\n",
    "x_test_reshaped = tf.reshape(x_test, (x_test.shape[0], input_shape))\n",
    "\n",
    "x_train_reshaped.shape, x_test_reshaped.shape"
   ]
  },
  {
   "cell_type": "code",
   "execution_count": 61,
   "id": "ba87b632",
   "metadata": {},
   "outputs": [
    {
     "name": "stdout",
     "output_type": "stream",
     "text": [
      "Epoch 1/15\n",
      "422/422 [==============================] - 2s 3ms/step - loss: 2.4950 - accuracy: 0.8921 - val_loss: 2.5711 - val_accuracy: 0.8965\n",
      "Epoch 2/15\n",
      "422/422 [==============================] - 1s 3ms/step - loss: 2.5098 - accuracy: 0.8911 - val_loss: 2.5870 - val_accuracy: 0.8928\n",
      "Epoch 3/15\n",
      "422/422 [==============================] - 1s 3ms/step - loss: 2.4593 - accuracy: 0.8930 - val_loss: 3.0469 - val_accuracy: 0.8945\n",
      "Epoch 4/15\n",
      "422/422 [==============================] - 1s 3ms/step - loss: 2.3475 - accuracy: 0.8934 - val_loss: 2.6333 - val_accuracy: 0.8992\n",
      "Epoch 5/15\n",
      "422/422 [==============================] - 2s 4ms/step - loss: 2.3496 - accuracy: 0.8925 - val_loss: 2.3867 - val_accuracy: 0.9040\n",
      "Epoch 6/15\n",
      "422/422 [==============================] - 1s 3ms/step - loss: 2.3183 - accuracy: 0.8947 - val_loss: 2.4677 - val_accuracy: 0.9023\n",
      "Epoch 7/15\n",
      "422/422 [==============================] - 1s 3ms/step - loss: 2.3999 - accuracy: 0.8930 - val_loss: 2.7233 - val_accuracy: 0.8983\n",
      "Epoch 8/15\n",
      "422/422 [==============================] - 2s 4ms/step - loss: 2.3814 - accuracy: 0.8940 - val_loss: 2.6585 - val_accuracy: 0.8955\n",
      "Epoch 9/15\n",
      "422/422 [==============================] - 1s 3ms/step - loss: 2.3437 - accuracy: 0.8952 - val_loss: 2.8419 - val_accuracy: 0.8810\n",
      "Epoch 10/15\n",
      "422/422 [==============================] - 1s 3ms/step - loss: 2.2790 - accuracy: 0.8950 - val_loss: 2.6337 - val_accuracy: 0.9010\n",
      "Epoch 11/15\n",
      "422/422 [==============================] - 1s 3ms/step - loss: 2.3262 - accuracy: 0.8938 - val_loss: 2.4994 - val_accuracy: 0.9080\n",
      "Epoch 12/15\n",
      "422/422 [==============================] - 1s 3ms/step - loss: 2.4300 - accuracy: 0.8913 - val_loss: 2.5880 - val_accuracy: 0.9085\n",
      "Epoch 13/15\n",
      "422/422 [==============================] - 1s 3ms/step - loss: 2.4150 - accuracy: 0.8946 - val_loss: 2.4068 - val_accuracy: 0.9000\n",
      "Epoch 14/15\n",
      "422/422 [==============================] - 1s 3ms/step - loss: 2.2448 - accuracy: 0.8949 - val_loss: 2.3580 - val_accuracy: 0.9070\n",
      "Epoch 15/15\n",
      "422/422 [==============================] - 1s 3ms/step - loss: 2.3831 - accuracy: 0.8910 - val_loss: 2.4617 - val_accuracy: 0.9092\n"
     ]
    }
   ],
   "source": [
    "batch_size = 128\n",
    "epochs = 15\n",
    "\n",
    "model.compile(loss=[\"categorical_crossentropy\",'mse'], optimizer='adam'\n",
    "                ,metrics=['accuracy'])\n",
    "\n",
    "history_one_layer = model.fit(\n",
    "    x_train_reshaped , \n",
    "    y_train_binray_vec, \n",
    "    batch_size=batch_size, \n",
    "    epochs=epochs, \n",
    "    validation_split=0.1\n",
    ")"
   ]
  },
  {
   "cell_type": "code",
   "execution_count": 12,
   "id": "dbddcff6",
   "metadata": {},
   "outputs": [
    {
     "ename": "NameError",
     "evalue": "name 'history_one_layer' is not defined",
     "output_type": "error",
     "traceback": [
      "\u001b[0;31m---------------------------------------------------------------------------\u001b[0m",
      "\u001b[0;31mNameError\u001b[0m                                 Traceback (most recent call last)",
      "\u001b[0;32m/tmp/ipykernel_13260/3307764068.py\u001b[0m in \u001b[0;36m<module>\u001b[0;34m\u001b[0m\n\u001b[1;32m     34\u001b[0m     \u001b[0mplt\u001b[0m\u001b[0;34m.\u001b[0m\u001b[0mshow\u001b[0m\u001b[0;34m(\u001b[0m\u001b[0;34m)\u001b[0m\u001b[0;34m\u001b[0m\u001b[0;34m\u001b[0m\u001b[0m\n\u001b[1;32m     35\u001b[0m \u001b[0;34m\u001b[0m\u001b[0m\n\u001b[0;32m---> 36\u001b[0;31m \u001b[0mplot_history\u001b[0m\u001b[0;34m(\u001b[0m\u001b[0mhistory_one_layer\u001b[0m\u001b[0;34m)\u001b[0m\u001b[0;34m\u001b[0m\u001b[0;34m\u001b[0m\u001b[0m\n\u001b[0m",
      "\u001b[0;31mNameError\u001b[0m: name 'history_one_layer' is not defined"
     ]
    }
   ],
   "source": [
    "## plotting the train history\n",
    "# plt.plot(history_one_layer)\n",
    "\n",
    "def plot_history(history, ax1_keys=['accuracy', 'val_accuracy'], ax2_keys=['loss', 'val_loss']):\n",
    "    \"\"\"\n",
    "    Plot the Losses and Accuracies of training history using two subplots in a row\n",
    "    \n",
    "    Parameters:\n",
    "    ------------\n",
    "    history : dictionary\n",
    "        the history of training returned by mode.fit in tensorflow neural network\n",
    "    ax1_keys : string array\n",
    "        array of the keys in history to be plotted for the first plot\n",
    "        default is `['accuracy', 'val_accuracy']`\n",
    "    ax2_keys : string array\n",
    "        array of the keys in history to be plotted for the second plot\n",
    "        default is `['loss', 'val_loss']`\n",
    "    \"\"\"\n",
    "\n",
    "    fig, axes = plt.subplots(1, 2, figsize=(12,4))\n",
    "\n",
    "    axes[0].plot(history.history[ax1_keys[0]])\n",
    "    axes[0].plot(history.history[ax1_keys[1]])\n",
    "    axes[0].legend(ax1_keys)\n",
    "    axes[0].set_xlabel('Epoch')\n",
    "    axes[0].set_ylabel('Accuracy Value')\n",
    "\n",
    "    axes[1].plot(history.history[ax2_keys[0]])\n",
    "    axes[1].plot(history.history[ax2_keys[1]])\n",
    "    axes[1].legend(ax2_keys)\n",
    "    axes[1].set_xlabel('Epoch')\n",
    "    axes[1].set_ylabel('Loss Value')\n",
    "\n",
    "    plt.show()\n",
    "    \n",
    "plot_history(history_one_layer)"
   ]
  },
  {
   "cell_type": "markdown",
   "id": "1310c8e9",
   "metadata": {},
   "source": [
    "### Creating two layer network with Fully Connected layer"
   ]
  },
  {
   "cell_type": "code",
   "execution_count": 72,
   "id": "85e281c8",
   "metadata": {},
   "outputs": [
    {
     "name": "stdout",
     "output_type": "stream",
     "text": [
      "Model: \"sequential_12\"\n",
      "_________________________________________________________________\n",
      " Layer (type)                Output Shape              Param #   \n",
      "=================================================================\n",
      " dense_15 (Dense)            (None, 128)               100480    \n",
      "                                                                 \n",
      " dense_16 (Dense)            (None, 10)                1290      \n",
      "                                                                 \n",
      "=================================================================\n",
      "Total params: 101,770\n",
      "Trainable params: 101,770\n",
      "Non-trainable params: 0\n",
      "_________________________________________________________________\n"
     ]
    }
   ],
   "source": [
    "input_shape = x_train.shape[1]*x_train.shape[2]\n",
    "## Implement sequential leyers\n",
    "model = keras.models.Sequential()\n",
    "model.add(keras.layers.Dense(128, activation='relu', input_shape=(input_shape,)))\n",
    "model.add(keras.layers.Dense(10, activation='softmax'))\n",
    "\n",
    "model.summary()"
   ]
  },
  {
   "cell_type": "code",
   "execution_count": 73,
   "id": "77ebe718",
   "metadata": {},
   "outputs": [
    {
     "name": "stdout",
     "output_type": "stream",
     "text": [
      "Epoch 1/15\n",
      "422/422 [==============================] - 2s 4ms/step - loss: 4.8503 - accuracy: 0.8620 - val_loss: 1.0899 - val_accuracy: 0.9157\n",
      "Epoch 2/15\n",
      "422/422 [==============================] - 1s 3ms/step - loss: 0.7532 - accuracy: 0.9046 - val_loss: 0.5583 - val_accuracy: 0.9060\n",
      "Epoch 3/15\n",
      "422/422 [==============================] - 1s 3ms/step - loss: 0.3887 - accuracy: 0.9221 - val_loss: 0.4070 - val_accuracy: 0.9285\n",
      "Epoch 4/15\n",
      "422/422 [==============================] - 1s 3ms/step - loss: 0.2786 - accuracy: 0.9380 - val_loss: 0.3531 - val_accuracy: 0.9388\n",
      "Epoch 5/15\n",
      "422/422 [==============================] - 1s 3ms/step - loss: 0.2140 - accuracy: 0.9486 - val_loss: 0.3395 - val_accuracy: 0.9420\n",
      "Epoch 6/15\n",
      "422/422 [==============================] - 2s 4ms/step - loss: 0.1769 - accuracy: 0.9564 - val_loss: 0.3007 - val_accuracy: 0.9450\n",
      "Epoch 7/15\n",
      "422/422 [==============================] - 1s 3ms/step - loss: 0.1604 - accuracy: 0.9594 - val_loss: 0.2821 - val_accuracy: 0.9483\n",
      "Epoch 8/15\n",
      "422/422 [==============================] - 1s 3ms/step - loss: 0.1512 - accuracy: 0.9617 - val_loss: 0.2868 - val_accuracy: 0.9475\n",
      "Epoch 9/15\n",
      "422/422 [==============================] - 1s 3ms/step - loss: 0.1441 - accuracy: 0.9617 - val_loss: 0.2575 - val_accuracy: 0.9555\n",
      "Epoch 10/15\n",
      "422/422 [==============================] - 1s 3ms/step - loss: 0.1420 - accuracy: 0.9641 - val_loss: 0.2307 - val_accuracy: 0.9578\n",
      "Epoch 11/15\n",
      "422/422 [==============================] - 1s 3ms/step - loss: 0.1315 - accuracy: 0.9663 - val_loss: 0.2366 - val_accuracy: 0.9558\n",
      "Epoch 12/15\n",
      "422/422 [==============================] - 1s 3ms/step - loss: 0.1285 - accuracy: 0.9671 - val_loss: 0.2246 - val_accuracy: 0.9593\n",
      "Epoch 13/15\n",
      "422/422 [==============================] - 1s 3ms/step - loss: 0.1184 - accuracy: 0.9699 - val_loss: 0.2130 - val_accuracy: 0.9582\n",
      "Epoch 14/15\n",
      "422/422 [==============================] - 1s 3ms/step - loss: 0.1112 - accuracy: 0.9714 - val_loss: 0.2213 - val_accuracy: 0.9610\n",
      "Epoch 15/15\n",
      "422/422 [==============================] - 1s 3ms/step - loss: 0.1045 - accuracy: 0.9729 - val_loss: 0.2163 - val_accuracy: 0.9610\n"
     ]
    }
   ],
   "source": [
    "batch_size = 128\n",
    "epochs = 15\n",
    "\n",
    "model.compile(loss=[\"categorical_crossentropy\",'mse'], optimizer='adam'\n",
    "                ,metrics=['accuracy'])\n",
    "\n",
    "history_two_layer = model.fit(\n",
    "    x_train_reshaped , \n",
    "    y_train_binray_vec, \n",
    "    batch_size=batch_size, \n",
    "    epochs=epochs, \n",
    "    validation_split=0.1\n",
    ")"
   ]
  },
  {
   "cell_type": "code",
   "execution_count": 97,
   "id": "43862731",
   "metadata": {},
   "outputs": [
    {
     "data": {
      "image/png": "[encoded data removed]",
      "text/plain": [
       "<Figure size 864x288 with 2 Axes>"
      ]
     },
     "metadata": {
      "needs_background": "light"
     },
     "output_type": "display_data"
    }
   ],
   "source": [
    "plot_history(history_two_layer)"
   ]
  },
  {
   "cell_type": "markdown",
   "id": "46a4a519",
   "metadata": {},
   "source": [
    "### Creating a three layer network with Fully Connected layer\n"
   ]
  },
  {
   "cell_type": "code",
   "execution_count": 81,
   "id": "f41c88fd",
   "metadata": {},
   "outputs": [
    {
     "name": "stdout",
     "output_type": "stream",
     "text": [
      "Model: \"sequential_15\"\n",
      "_________________________________________________________________\n",
      " Layer (type)                Output Shape              Param #   \n",
      "=================================================================\n",
      " dense_23 (Dense)            (None, 128)               100480    \n",
      "                                                                 \n",
      " dense_24 (Dense)            (None, 64)                8256      \n",
      "                                                                 \n",
      " dense_25 (Dense)            (None, 10)                650       \n",
      "                                                                 \n",
      "=================================================================\n",
      "Total params: 109,386\n",
      "Trainable params: 109,386\n",
      "Non-trainable params: 0\n",
      "_________________________________________________________________\n"
     ]
    }
   ],
   "source": [
    "input_shape = x_train.shape[1]*x_train.shape[2]\n",
    "## Implement sequential leyers\n",
    "model = keras.models.Sequential()\n",
    "model.add(keras.layers.Dense(128, activation='relu', input_shape=(input_shape,)))\n",
    "model.add(keras.layers.Dense(64, activation='relu', ))\n",
    "model.add(keras.layers.Dense(10, activation='softmax'))\n",
    "\n",
    "model.summary()"
   ]
  },
  {
   "cell_type": "code",
   "execution_count": 82,
   "id": "a2984db6",
   "metadata": {},
   "outputs": [
    {
     "name": "stdout",
     "output_type": "stream",
     "text": [
      "Epoch 1/15\n",
      "422/422 [==============================] - 2s 4ms/step - loss: 2.7456 - accuracy: 0.8495 - val_loss: 0.6261 - val_accuracy: 0.9173\n",
      "Epoch 2/15\n",
      "422/422 [==============================] - 1s 3ms/step - loss: 0.4747 - accuracy: 0.9233 - val_loss: 0.3464 - val_accuracy: 0.9427\n",
      "Epoch 3/15\n",
      "422/422 [==============================] - 1s 3ms/step - loss: 0.2718 - accuracy: 0.9432 - val_loss: 0.2914 - val_accuracy: 0.9453\n",
      "Epoch 4/15\n",
      "422/422 [==============================] - 1s 3ms/step - loss: 0.1903 - accuracy: 0.9556 - val_loss: 0.2557 - val_accuracy: 0.9495\n",
      "Epoch 5/15\n",
      "422/422 [==============================] - 1s 4ms/step - loss: 0.1514 - accuracy: 0.9618 - val_loss: 0.2171 - val_accuracy: 0.9575\n",
      "Epoch 6/15\n",
      "422/422 [==============================] - 1s 4ms/step - loss: 0.1296 - accuracy: 0.9657 - val_loss: 0.2458 - val_accuracy: 0.9578\n",
      "Epoch 7/15\n",
      "422/422 [==============================] - 1s 4ms/step - loss: 0.1150 - accuracy: 0.9697 - val_loss: 0.2395 - val_accuracy: 0.9592\n",
      "Epoch 8/15\n",
      "422/422 [==============================] - 1s 4ms/step - loss: 0.1131 - accuracy: 0.9705 - val_loss: 0.2416 - val_accuracy: 0.9555\n",
      "Epoch 9/15\n",
      "422/422 [==============================] - 1s 4ms/step - loss: 0.0966 - accuracy: 0.9740 - val_loss: 0.2131 - val_accuracy: 0.9620\n",
      "Epoch 10/15\n",
      "422/422 [==============================] - 2s 4ms/step - loss: 0.0880 - accuracy: 0.9754 - val_loss: 0.2323 - val_accuracy: 0.9597\n",
      "Epoch 11/15\n",
      "422/422 [==============================] - 2s 4ms/step - loss: 0.0901 - accuracy: 0.9749 - val_loss: 0.2405 - val_accuracy: 0.9527\n",
      "Epoch 12/15\n",
      "422/422 [==============================] - 1s 3ms/step - loss: 0.0856 - accuracy: 0.9766 - val_loss: 0.1803 - val_accuracy: 0.9657\n",
      "Epoch 13/15\n",
      "422/422 [==============================] - 2s 4ms/step - loss: 0.0718 - accuracy: 0.9800 - val_loss: 0.1925 - val_accuracy: 0.9678\n",
      "Epoch 14/15\n",
      "422/422 [==============================] - 2s 4ms/step - loss: 0.0723 - accuracy: 0.9802 - val_loss: 0.1886 - val_accuracy: 0.9673\n",
      "Epoch 15/15\n",
      "422/422 [==============================] - 2s 4ms/step - loss: 0.0644 - accuracy: 0.9818 - val_loss: 0.1691 - val_accuracy: 0.9707\n"
     ]
    }
   ],
   "source": [
    "batch_size = 128\n",
    "epochs = 15\n",
    "\n",
    "model.compile(loss=[\"categorical_crossentropy\",'mse'], optimizer='adam'\n",
    "                ,metrics=['accuracy'])\n",
    "\n",
    "history_three_layer = model.fit(\n",
    "    x_train_reshaped , \n",
    "    y_train_binray_vec, \n",
    "    batch_size=batch_size, \n",
    "    epochs=epochs, \n",
    "    validation_split=0.1\n",
    ")"
   ]
  },
  {
   "cell_type": "code",
   "execution_count": 98,
   "id": "fee8bcfb",
   "metadata": {},
   "outputs": [
    {
     "data": {
      "image/png": "[encoded data removed]",
      "text/plain": [
       "<Figure size 864x288 with 2 Axes>"
      ]
     },
     "metadata": {
      "needs_background": "light"
     },
     "output_type": "display_data"
    }
   ],
   "source": [
    "plot_history(history_three_layer)"
   ]
  },
  {
   "cell_type": "markdown",
   "id": "ae640ade",
   "metadata": {},
   "source": [
    "Let's see how `softmax` activation function works in our three layer network.(If we apply `softmax` function on all the layers)"
   ]
  },
  {
   "cell_type": "code",
   "execution_count": 84,
   "id": "9775c24c",
   "metadata": {},
   "outputs": [
    {
     "name": "stdout",
     "output_type": "stream",
     "text": [
      "Model: \"sequential_16\"\n",
      "_________________________________________________________________\n",
      " Layer (type)                Output Shape              Param #   \n",
      "=================================================================\n",
      " dense_26 (Dense)            (None, 128)               100480    \n",
      "                                                                 \n",
      " dense_27 (Dense)            (None, 64)                8256      \n",
      "                                                                 \n",
      " dense_28 (Dense)            (None, 10)                650       \n",
      "                                                                 \n",
      "=================================================================\n",
      "Total params: 109,386\n",
      "Trainable params: 109,386\n",
      "Non-trainable params: 0\n",
      "_________________________________________________________________\n"
     ]
    }
   ],
   "source": [
    "input_shape = x_train.shape[1]*x_train.shape[2]\n",
    "## Implement sequential leyers\n",
    "model = keras.models.Sequential()\n",
    "model.add(keras.layers.Dense(128, activation='softmax', input_shape=(input_shape,)))\n",
    "model.add(keras.layers.Dense(64, activation='softmax', ))\n",
    "model.add(keras.layers.Dense(10, activation='softmax'))\n",
    "\n",
    "model.summary()"
   ]
  },
  {
   "cell_type": "code",
   "execution_count": 85,
   "id": "a5b4de1c",
   "metadata": {},
   "outputs": [
    {
     "name": "stdout",
     "output_type": "stream",
     "text": [
      "Epoch 1/15\n",
      "422/422 [==============================] - 2s 4ms/step - loss: 2.2584 - accuracy: 0.2709 - val_loss: 2.1583 - val_accuracy: 0.6877\n",
      "Epoch 2/15\n",
      "422/422 [==============================] - 2s 4ms/step - loss: 1.9198 - accuracy: 0.6935 - val_loss: 1.5972 - val_accuracy: 0.7358\n",
      "Epoch 3/15\n",
      "422/422 [==============================] - 2s 4ms/step - loss: 1.3641 - accuracy: 0.7059 - val_loss: 1.0940 - val_accuracy: 0.7348\n",
      "Epoch 4/15\n",
      "422/422 [==============================] - 2s 4ms/step - loss: 1.0376 - accuracy: 0.7140 - val_loss: 0.9237 - val_accuracy: 0.7332\n",
      "Epoch 5/15\n",
      "422/422 [==============================] - 2s 4ms/step - loss: 0.9187 - accuracy: 0.7205 - val_loss: 0.9217 - val_accuracy: 0.7102\n",
      "Epoch 6/15\n",
      "422/422 [==============================] - 2s 4ms/step - loss: 0.8659 - accuracy: 0.7214 - val_loss: 0.8921 - val_accuracy: 0.7103\n",
      "Epoch 7/15\n",
      "422/422 [==============================] - 2s 4ms/step - loss: 0.8235 - accuracy: 0.7226 - val_loss: 0.7432 - val_accuracy: 0.7385\n",
      "Epoch 8/15\n",
      "422/422 [==============================] - 2s 4ms/step - loss: 0.8051 - accuracy: 0.7259 - val_loss: 0.7229 - val_accuracy: 0.7485\n",
      "Epoch 9/15\n",
      "422/422 [==============================] - 2s 4ms/step - loss: 0.7859 - accuracy: 0.7258 - val_loss: 0.7461 - val_accuracy: 0.7443\n",
      "Epoch 10/15\n",
      "422/422 [==============================] - 2s 4ms/step - loss: 0.7729 - accuracy: 0.7332 - val_loss: 0.7027 - val_accuracy: 0.7478\n",
      "Epoch 11/15\n",
      "422/422 [==============================] - 2s 4ms/step - loss: 0.7674 - accuracy: 0.7362 - val_loss: 0.7341 - val_accuracy: 0.7400\n",
      "Epoch 12/15\n",
      "422/422 [==============================] - 2s 4ms/step - loss: 0.7589 - accuracy: 0.7401 - val_loss: 0.7172 - val_accuracy: 0.7553\n",
      "Epoch 13/15\n",
      "422/422 [==============================] - 2s 4ms/step - loss: 0.7445 - accuracy: 0.7433 - val_loss: 0.7035 - val_accuracy: 0.7557\n",
      "Epoch 14/15\n",
      "422/422 [==============================] - 2s 4ms/step - loss: 0.7277 - accuracy: 0.7406 - val_loss: 0.6770 - val_accuracy: 0.7483\n",
      "Epoch 15/15\n",
      "422/422 [==============================] - 2s 4ms/step - loss: 0.7210 - accuracy: 0.7430 - val_loss: 0.6574 - val_accuracy: 0.7598\n"
     ]
    }
   ],
   "source": [
    "batch_size = 128\n",
    "epochs = 15\n",
    "\n",
    "model.compile(loss=[\"categorical_crossentropy\",'mse'], optimizer='adam'\n",
    "                ,metrics=['accuracy'])\n",
    "\n",
    "history_three_layer_softmax_applied = model.fit(\n",
    "    x_train_reshaped , \n",
    "    y_train_binray_vec, \n",
    "    batch_size=batch_size, \n",
    "    epochs=epochs, \n",
    "    validation_split=0.1\n",
    ")"
   ]
  },
  {
   "cell_type": "code",
   "execution_count": 99,
   "id": "c8b036f7",
   "metadata": {},
   "outputs": [
    {
     "data": {
      "image/png": "[encoded data removed]",
      "text/plain": [
       "<Figure size 864x288 with 2 Axes>"
      ]
     },
     "metadata": {
      "needs_background": "light"
     },
     "output_type": "display_data"
    }
   ],
   "source": [
    "plot_history(history_three_layer_softmax_applied)"
   ]
  },
  {
   "cell_type": "markdown",
   "id": "ab6f3861",
   "metadata": {},
   "source": [
    "We can see that using the `softmax` activation function for all layers can achieve much better performance than before, And we can conclude that the `softmax` activation function can represent and save the pixels information way better than `relu`."
   ]
  },
  {
   "cell_type": "markdown",
   "id": "86240e5e",
   "metadata": {},
   "source": [
    "Let's apply the `tanh` activation function for our well behaved three layer network and see the results."
   ]
  },
  {
   "cell_type": "code",
   "execution_count": 87,
   "id": "05175235",
   "metadata": {},
   "outputs": [
    {
     "name": "stdout",
     "output_type": "stream",
     "text": [
      "Model: \"sequential_17\"\n",
      "_________________________________________________________________\n",
      " Layer (type)                Output Shape              Param #   \n",
      "=================================================================\n",
      " dense_29 (Dense)            (None, 128)               100480    \n",
      "                                                                 \n",
      " dense_30 (Dense)            (None, 64)                8256      \n",
      "                                                                 \n",
      " dense_31 (Dense)            (None, 10)                650       \n",
      "                                                                 \n",
      "=================================================================\n",
      "Total params: 109,386\n",
      "Trainable params: 109,386\n",
      "Non-trainable params: 0\n",
      "_________________________________________________________________\n"
     ]
    }
   ],
   "source": [
    "input_shape = x_train.shape[1]*x_train.shape[2]\n",
    "## Implement sequential leyers\n",
    "model = keras.models.Sequential()\n",
    "model.add(keras.layers.Dense(128, activation='tanh', input_shape=(input_shape,)))\n",
    "model.add(keras.layers.Dense(64, activation='tanh', ))\n",
    "model.add(keras.layers.Dense(10, activation='tanh'))\n",
    "\n",
    "model.summary()"
   ]
  },
  {
   "cell_type": "code",
   "execution_count": 88,
   "id": "2ff19b25",
   "metadata": {},
   "outputs": [
    {
     "name": "stdout",
     "output_type": "stream",
     "text": [
      "Epoch 1/15\n",
      "422/422 [==============================] - 2s 4ms/step - loss: 7.9846 - accuracy: 0.1421 - val_loss: 6.6503 - val_accuracy: 0.1108\n",
      "Epoch 2/15\n",
      "422/422 [==============================] - 2s 4ms/step - loss: 7.2211 - accuracy: 0.1014 - val_loss: 7.5003 - val_accuracy: 0.1233\n",
      "Epoch 3/15\n",
      "422/422 [==============================] - 2s 4ms/step - loss: 7.8166 - accuracy: 0.1290 - val_loss: 7.9597 - val_accuracy: 0.1523\n",
      "Epoch 4/15\n",
      "422/422 [==============================] - 2s 4ms/step - loss: 8.1841 - accuracy: 0.1425 - val_loss: 7.9570 - val_accuracy: 0.1528\n",
      "Epoch 5/15\n",
      "422/422 [==============================] - 2s 4ms/step - loss: 8.1642 - accuracy: 0.1446 - val_loss: 7.6170 - val_accuracy: 0.1545\n",
      "Epoch 6/15\n",
      "422/422 [==============================] - 2s 4ms/step - loss: 7.8573 - accuracy: 0.1026 - val_loss: 7.8253 - val_accuracy: 0.0835\n",
      "Epoch 7/15\n",
      "422/422 [==============================] - 2s 4ms/step - loss: 8.0590 - accuracy: 0.0797 - val_loss: 7.8253 - val_accuracy: 0.0835\n",
      "Epoch 8/15\n",
      "422/422 [==============================] - 2s 4ms/step - loss: 8.0590 - accuracy: 0.0797 - val_loss: 7.8253 - val_accuracy: 0.0835\n",
      "Epoch 9/15\n",
      "422/422 [==============================] - 2s 4ms/step - loss: 8.0590 - accuracy: 0.0797 - val_loss: 7.8253 - val_accuracy: 0.0835\n",
      "Epoch 10/15\n",
      "422/422 [==============================] - 2s 4ms/step - loss: 8.0591 - accuracy: 0.0797 - val_loss: 7.8253 - val_accuracy: 0.0835\n",
      "Epoch 11/15\n",
      "422/422 [==============================] - 2s 4ms/step - loss: 8.0590 - accuracy: 0.0797 - val_loss: 7.8253 - val_accuracy: 0.0835\n",
      "Epoch 12/15\n",
      "422/422 [==============================] - 2s 4ms/step - loss: 8.0590 - accuracy: 0.0797 - val_loss: 7.8253 - val_accuracy: 0.0835\n",
      "Epoch 13/15\n",
      "422/422 [==============================] - 2s 4ms/step - loss: 8.0591 - accuracy: 0.0797 - val_loss: 7.8253 - val_accuracy: 0.0835\n",
      "Epoch 14/15\n",
      "422/422 [==============================] - 2s 4ms/step - loss: 8.0591 - accuracy: 0.0797 - val_loss: 7.8253 - val_accuracy: 0.0835\n",
      "Epoch 15/15\n",
      "422/422 [==============================] - 2s 4ms/step - loss: 8.0591 - accuracy: 0.0797 - val_loss: 7.8253 - val_accuracy: 0.0835\n"
     ]
    }
   ],
   "source": [
    "batch_size = 128\n",
    "epochs = 15\n",
    "\n",
    "model.compile(loss=[\"categorical_crossentropy\",'mse'], optimizer='adam'\n",
    "                ,metrics=['accuracy'])\n",
    "\n",
    "history_three_layer_tanh_applied = model.fit(\n",
    "    x_train_reshaped , \n",
    "    y_train_binray_vec, \n",
    "    batch_size=batch_size, \n",
    "    epochs=epochs, \n",
    "    validation_split=0.1\n",
    ")"
   ]
  },
  {
   "cell_type": "code",
   "execution_count": 100,
   "id": "66cef2c0",
   "metadata": {},
   "outputs": [
    {
     "data": {
      "image/png": "[encoded data removed]",
      "text/plain": [
       "<Figure size 864x288 with 2 Axes>"
      ]
     },
     "metadata": {
      "needs_background": "light"
     },
     "output_type": "display_data"
    }
   ],
   "source": [
    "plot_history(history_three_layer_tanh_applied)"
   ]
  },
  {
   "cell_type": "markdown",
   "id": "6d66cdf6",
   "metadata": {},
   "source": [
    "So we could see that the `tanh` activation function also does not have comparable results to `softmax` activation function. To have a final result in question 1 we can say that using the `softmax` activation function can get us to a good accuracy."
   ]
  },
  {
   "cell_type": "markdown",
   "id": "8bba52c9",
   "metadata": {},
   "source": [
    "# Q2"
   ]
  },
  {
   "cell_type": "markdown",
   "id": "c03f281d",
   "metadata": {},
   "source": [
    "## Question\n",
    "Using the imdb dataset try the steps in question 1 and also for tuning try validation dataset.\n",
    "## Answer"
   ]
  },
  {
   "cell_type": "code",
   "execution_count": 51,
   "id": "10dbdcd0",
   "metadata": {},
   "outputs": [],
   "source": [
    "(x_train, y_train), (x_test, y_test) = keras.datasets.imdb.load_data()"
   ]
  },
  {
   "cell_type": "markdown",
   "id": "1aef6153",
   "metadata": {},
   "source": [
    "First Let's have a look at the dataset."
   ]
  },
  {
   "cell_type": "code",
   "execution_count": 52,
   "id": "291723b8",
   "metadata": {},
   "outputs": [
    {
     "data": {
      "text/plain": [
       "(25000,)"
      ]
     },
     "execution_count": 52,
     "metadata": {},
     "output_type": "execute_result"
    }
   ],
   "source": [
    "x_train.shape"
   ]
  },
  {
   "cell_type": "code",
   "execution_count": 53,
   "id": "e6ac0e97",
   "metadata": {},
   "outputs": [
    {
     "data": {
      "text/plain": [
       "array([list([1, 14, 22, 16, 43, 530, 973, 1622, 1385, 65, 458, 4468, 66, 3941, 4, 173, 36, 256, 5, 25, 100, 43, 838, 112, 50, 670, 22665, 9, 35, 480, 284, 5, 150, 4, 172, 112, 167, 21631, 336, 385, 39, 4, 172, 4536, 1111, 17, 546, 38, 13, 447, 4, 192, 50, 16, 6, 147, 2025, 19, 14, 22, 4, 1920, 4613, 469, 4, 22, 71, 87, 12, 16, 43, 530, 38, 76, 15, 13, 1247, 4, 22, 17, 515, 17, 12, 16, 626, 18, 19193, 5, 62, 386, 12, 8, 316, 8, 106, 5, 4, 2223, 5244, 16, 480, 66, 3785, 33, 4, 130, 12, 16, 38, 619, 5, 25, 124, 51, 36, 135, 48, 25, 1415, 33, 6, 22, 12, 215, 28, 77, 52, 5, 14, 407, 16, 82, 10311, 8, 4, 107, 117, 5952, 15, 256, 4, 31050, 7, 3766, 5, 723, 36, 71, 43, 530, 476, 26, 400, 317, 46, 7, 4, 12118, 1029, 13, 104, 88, 4, 381, 15, 297, 98, 32, 2071, 56, 26, 141, 6, 194, 7486, 18, 4, 226, 22, 21, 134, 476, 26, 480, 5, 144, 30, 5535, 18, 51, 36, 28, 224, 92, 25, 104, 4, 226, 65, 16, 38, 1334, 88, 12, 16, 283, 5, 16, 4472, 113, 103, 32, 15, 16, 5345, 19, 178, 32]),\n",
       "       list([1, 194, 1153, 194, 8255, 78, 228, 5, 6, 1463, 4369, 5012, 134, 26, 4, 715, 8, 118, 1634, 14, 394, 20, 13, 119, 954, 189, 102, 5, 207, 110, 3103, 21, 14, 69, 188, 8, 30, 23, 7, 4, 249, 126, 93, 4, 114, 9, 2300, 1523, 5, 647, 4, 116, 9, 35, 8163, 4, 229, 9, 340, 1322, 4, 118, 9, 4, 130, 4901, 19, 4, 1002, 5, 89, 29, 952, 46, 37, 4, 455, 9, 45, 43, 38, 1543, 1905, 398, 4, 1649, 26, 6853, 5, 163, 11, 3215, 10156, 4, 1153, 9, 194, 775, 7, 8255, 11596, 349, 2637, 148, 605, 15358, 8003, 15, 123, 125, 68, 23141, 6853, 15, 349, 165, 4362, 98, 5, 4, 228, 9, 43, 36893, 1157, 15, 299, 120, 5, 120, 174, 11, 220, 175, 136, 50, 9, 4373, 228, 8255, 5, 25249, 656, 245, 2350, 5, 4, 9837, 131, 152, 491, 18, 46151, 32, 7464, 1212, 14, 9, 6, 371, 78, 22, 625, 64, 1382, 9, 8, 168, 145, 23, 4, 1690, 15, 16, 4, 1355, 5, 28, 6, 52, 154, 462, 33, 89, 78, 285, 16, 145, 95])],\n",
       "      dtype=object)"
      ]
     },
     "execution_count": 53,
     "metadata": {},
     "output_type": "execute_result"
    }
   ],
   "source": [
    "x_train[:2]"
   ]
  },
  {
   "cell_type": "code",
   "execution_count": 54,
   "id": "66da0d1e",
   "metadata": {},
   "outputs": [
    {
     "data": {
      "text/plain": [
       "(218, 189)"
      ]
     },
     "execution_count": 54,
     "metadata": {},
     "output_type": "execute_result"
    }
   ],
   "source": [
    "## let's see does each item have same length or not\n",
    "len(x_train[0]), len(x_train[1])"
   ]
  },
  {
   "cell_type": "markdown",
   "id": "b7ffe98c",
   "metadata": {},
   "source": [
    "The description of IMDB datset written in keras docs is as below\n",
    "\n",
    "`This is a dataset of 25,000 movies reviews from IMDB, labeled by sentiment (positive/negative). Reviews have been preprocessed, and each review is encoded as a list of word indexes (integers).\n",
    "For convenience, words are indexed by overall frequency in the dataset, so that for instance the integer \"3\" encodes the 3rd most frequent word in the data. This allows for quick filtering operations such as:\n",
    "\"only consider the top 10,000 most\n",
    "common words, but eliminate the top 20 most common words\".\n",
    "As a convention, \"0\" does not stand for a specific word, but instead is used\n",
    "to encode any unknown word.`\n",
    "\n",
    "So for the EDA step, we will create each sample's length 2500, in order to have same sample lengths. (because the higest sample length is near 2500, we found it by while coding and got errors)"
   ]
  },
  {
   "cell_type": "code",
   "execution_count": 91,
   "id": "ec30b301",
   "metadata": {},
   "outputs": [],
   "source": [
    "def modify_dataset(dataset_x, max_length=2500):\n",
    "    \"\"\"\n",
    "    modify each word in dataset by creating a vector for each sample with 1000 length count.\n",
    "    \n",
    "    Parameters:\n",
    "    -----------\n",
    "    dataset_x : 2D array\n",
    "        array of vectors representing each data\n",
    "    max_length : integer\n",
    "        max_length of each vector\n",
    "        default is 1000\n",
    "    \n",
    "    Returns:\n",
    "    --------\n",
    "    modified_dataset_x : 2D array\n",
    "        the modified dataset with the same length of original dataset but having the same length for each item too\n",
    "    \"\"\"\n",
    "    modified_dataset_x = np.zeros((len(dataset_x) , max_length))\n",
    "    for idx, sample in enumerate(x_train):\n",
    "        modified_dataset_x[idx][:len(sample)] = sample\n",
    "    \n",
    "    return modified_dataset_x"
   ]
  },
  {
   "cell_type": "code",
   "execution_count": 94,
   "id": "49f480c6",
   "metadata": {},
   "outputs": [
    {
     "data": {
      "text/plain": [
       "((25000, 2500), (25000, 2500))"
      ]
     },
     "execution_count": 94,
     "metadata": {},
     "output_type": "execute_result"
    }
   ],
   "source": [
    "x_train = modify_dataset(x_train)\n",
    "x_test = modify_dataset(x_test)\n",
    "\n",
    "x_train.shape, x_test.shape"
   ]
  },
  {
   "cell_type": "code",
   "execution_count": 159,
   "id": "894dfaca",
   "metadata": {},
   "outputs": [
    {
     "data": {
      "text/plain": [
       "array([1, 0, 0, ..., 0, 1, 0], dtype=int64)"
      ]
     },
     "execution_count": 159,
     "metadata": {},
     "output_type": "execute_result"
    }
   ],
   "source": [
    "y_train"
   ]
  },
  {
   "cell_type": "markdown",
   "id": "05306d8b",
   "metadata": {},
   "source": [
    "It seems that there is no need to categorize the output because the output value for each data is having length one."
   ]
  },
  {
   "cell_type": "markdown",
   "id": "02256698",
   "metadata": {},
   "source": [
    "to create one layer network because our outputs are length 1, one neuron must be applied, so we're using two layer network to get better performance. In the first layer we are using 512 neurons with softmax activation function. \n",
    "\n",
    "because we know in the input each sample size is 2500, we put 2500 nerons in the input layer."
   ]
  },
  {
   "cell_type": "code",
   "execution_count": 122,
   "id": "4d1c09b6",
   "metadata": {},
   "outputs": [
    {
     "name": "stdout",
     "output_type": "stream",
     "text": [
      "Model: \"sequential_12\"\n",
      "_________________________________________________________________\n",
      " Layer (type)                Output Shape              Param #   \n",
      "=================================================================\n",
      " dense_16 (Dense)            (None, 2500)              6252500   \n",
      "                                                                 \n",
      " dense_17 (Dense)            (None, 1)                 2501      \n",
      "                                                                 \n",
      "=================================================================\n",
      "Total params: 6,255,001\n",
      "Trainable params: 6,255,001\n",
      "Non-trainable params: 0\n",
      "_________________________________________________________________\n"
     ]
    }
   ],
   "source": [
    "model_imdb = keras.Sequential()\n",
    "model_imdb.add(keras.layers.Dense(2500, activation='softmax', input_shape=(2500, )))\n",
    "model_imdb.add(keras.layers.Dense(1, activation='relu', input_shape=(2500, )))\n",
    "\n",
    "\n",
    "model_imdb.summary()"
   ]
  },
  {
   "cell_type": "code",
   "execution_count": 123,
   "id": "e6fffbec",
   "metadata": {},
   "outputs": [],
   "source": [
    "model_imdb.compile(optimizer=tf.keras.optimizers.Adam(learning_rate=1e-3),\n",
    "              loss=tf.keras.losses.BinaryCrossentropy(),\n",
    "              metrics=[tf.keras.metrics.BinaryAccuracy(),\n",
    "                       tf.keras.metrics.FalseNegatives()], )"
   ]
  },
  {
   "cell_type": "code",
   "execution_count": 124,
   "id": "160a2fcf",
   "metadata": {},
   "outputs": [
    {
     "name": "stdout",
     "output_type": "stream",
     "text": [
      "Epoch 1/15\n",
      "704/704 [==============================] - 5s 7ms/step - loss: 1.2789 - binary_accuracy: 0.4986 - false_negatives_11: 11281.0000 - val_loss: 0.8314 - val_binary_accuracy: 0.5124 - val_false_negatives_11: 1219.0000\n",
      "Epoch 2/15\n",
      "704/704 [==============================] - 5s 7ms/step - loss: 0.7179 - binary_accuracy: 0.4996 - false_negatives_11: 7815.0000 - val_loss: 0.7085 - val_binary_accuracy: 0.4880 - val_false_negatives_11: 27.0000\n",
      "Epoch 3/15\n",
      "704/704 [==============================] - 5s 6ms/step - loss: 0.7037 - binary_accuracy: 0.4966 - false_negatives_11: 5514.0000 - val_loss: 0.6981 - val_binary_accuracy: 0.4996 - val_false_negatives_11: 87.0000\n",
      "Epoch 4/15\n",
      "704/704 [==============================] - 5s 7ms/step - loss: 0.6954 - binary_accuracy: 0.4994 - false_negatives_11: 3102.0000 - val_loss: 0.6930 - val_binary_accuracy: 0.5124 - val_false_negatives_11: 1219.0000\n",
      "Epoch 5/15\n",
      "704/704 [==============================] - 5s 7ms/step - loss: 0.6952 - binary_accuracy: 0.5056 - false_negatives_11: 4567.0000 - val_loss: 0.6932 - val_binary_accuracy: 0.4972 - val_false_negatives_11: 255.0000\n",
      "Epoch 6/15\n",
      "704/704 [==============================] - 5s 7ms/step - loss: 0.6941 - binary_accuracy: 0.4995 - false_negatives_11: 3750.0000 - val_loss: 0.6933 - val_binary_accuracy: 0.4876 - val_false_negatives_11: 95.0000\n",
      "Epoch 7/15\n",
      "704/704 [==============================] - 5s 7ms/step - loss: 0.6945 - binary_accuracy: 0.5032 - false_negatives_11: 4044.0000 - val_loss: 0.6932 - val_binary_accuracy: 0.4876 - val_false_negatives_11: 20.0000\n",
      "Epoch 8/15\n",
      "704/704 [==============================] - 5s 7ms/step - loss: 0.6931 - binary_accuracy: 0.5009 - false_negatives_11: 2555.0000 - val_loss: 0.6930 - val_binary_accuracy: 0.5124 - val_false_negatives_11: 1219.0000\n",
      "Epoch 9/15\n",
      "704/704 [==============================] - 5s 7ms/step - loss: 0.6931 - binary_accuracy: 0.4990 - false_negatives_11: 4363.0000 - val_loss: 0.6936 - val_binary_accuracy: 0.4872 - val_false_negatives_11: 10.0000\n",
      "Epoch 10/15\n",
      "704/704 [==============================] - 5s 7ms/step - loss: 0.6930 - binary_accuracy: 0.5009 - false_negatives_11: 4554.0000 - val_loss: 0.6939 - val_binary_accuracy: 0.4872 - val_false_negatives_11: 10.0000\n",
      "Epoch 11/15\n",
      "704/704 [==============================] - 5s 7ms/step - loss: 0.6930 - binary_accuracy: 0.5013 - false_negatives_11: 3003.0000 - val_loss: 0.6932 - val_binary_accuracy: 0.5124 - val_false_negatives_11: 1219.0000\n",
      "Epoch 12/15\n",
      "704/704 [==============================] - 5s 7ms/step - loss: 0.6928 - binary_accuracy: 0.5060 - false_negatives_11: 6394.0000 - val_loss: 0.6950 - val_binary_accuracy: 0.4872 - val_false_negatives_11: 10.0000\n",
      "Epoch 13/15\n",
      "704/704 [==============================] - 5s 7ms/step - loss: 0.6929 - binary_accuracy: 0.5033 - false_negatives_11: 2661.0000 - val_loss: 0.6941 - val_binary_accuracy: 0.4872 - val_false_negatives_11: 10.0000\n",
      "Epoch 14/15\n",
      "704/704 [==============================] - 5s 7ms/step - loss: 0.6930 - binary_accuracy: 0.5049 - false_negatives_11: 2107.0000 - val_loss: 0.6932 - val_binary_accuracy: 0.5124 - val_false_negatives_11: 1219.0000\n",
      "Epoch 15/15\n",
      "704/704 [==============================] - 5s 7ms/step - loss: 0.6930 - binary_accuracy: 0.5029 - false_negatives_11: 4702.0000 - val_loss: 0.6935 - val_binary_accuracy: 0.4872 - val_false_negatives_11: 10.0000\n"
     ]
    }
   ],
   "source": [
    "history_model_imdb = model_imdb.fit(\n",
    "    x_train , \n",
    "    y_train, \n",
    "    batch_size=32, \n",
    "    epochs=15, \n",
    "    validation_split=0.1\n",
    ")"
   ]
  },
  {
   "cell_type": "code",
   "execution_count": 130,
   "id": "0b7d5c05",
   "metadata": {},
   "outputs": [
    {
     "data": {
      "image/png": "[encoded data removed]",
      "text/plain": [
       "<Figure size 864x288 with 2 Axes>"
      ]
     },
     "metadata": {
      "needs_background": "light"
     },
     "output_type": "display_data"
    }
   ],
   "source": [
    "plot_history(history_model_imdb, \n",
    "             ax1_keys=['binary_accuracy', 'val_binary_accuracy'], \n",
    "             ax2_keys=['loss', 'val_loss'])"
   ]
  },
  {
   "cell_type": "markdown",
   "id": "ab0bc910",
   "metadata": {},
   "source": [
    "With this values we can easily find out the model is underfitted and is not working properly. So we will try another network with 3 layers to see how the performance change."
   ]
  },
  {
   "cell_type": "code",
   "execution_count": 134,
   "id": "96f1fb66",
   "metadata": {},
   "outputs": [
    {
     "name": "stdout",
     "output_type": "stream",
     "text": [
      "Model: \"sequential_14\"\n",
      "_________________________________________________________________\n",
      " Layer (type)                Output Shape              Param #   \n",
      "=================================================================\n",
      " dense_21 (Dense)            (None, 2500)              6252500   \n",
      "                                                                 \n",
      " dense_22 (Dense)            (None, 512)               1280512   \n",
      "                                                                 \n",
      " dense_23 (Dense)            (None, 1)                 513       \n",
      "                                                                 \n",
      "=================================================================\n",
      "Total params: 7,533,525\n",
      "Trainable params: 7,533,525\n",
      "Non-trainable params: 0\n",
      "_________________________________________________________________\n"
     ]
    }
   ],
   "source": [
    "model_imdb2 = keras.Sequential()\n",
    "model_imdb2.add(keras.layers.Dense(2500, activation='softmax', input_shape=(2500, )))\n",
    "model_imdb2.add(keras.layers.Dense(512, activation='relu', input_shape=(2500, )))\n",
    "model_imdb2.add(keras.layers.Dense(1, activation='relu', input_shape=(2500, )))\n",
    "\n",
    "\n",
    "\n",
    "model_imdb2.summary()"
   ]
  },
  {
   "cell_type": "code",
   "execution_count": 135,
   "id": "899777d5",
   "metadata": {},
   "outputs": [],
   "source": [
    "model_imdb2.compile(optimizer=tf.keras.optimizers.Adam(learning_rate=1e-3),\n",
    "              loss=tf.keras.losses.BinaryCrossentropy(),\n",
    "              metrics=[tf.keras.metrics.BinaryAccuracy(),\n",
    "                       tf.keras.metrics.FalseNegatives()], )"
   ]
  },
  {
   "cell_type": "code",
   "execution_count": 136,
   "id": "77fc215f",
   "metadata": {},
   "outputs": [
    {
     "name": "stdout",
     "output_type": "stream",
     "text": [
      "Epoch 1/15\n",
      "704/704 [==============================] - 6s 8ms/step - loss: 0.7177 - binary_accuracy: 0.4964 - false_negatives_13: 6128.0000 - val_loss: 0.6927 - val_binary_accuracy: 0.4952 - val_false_negatives_13: 75.0000\n",
      "Epoch 2/15\n",
      "704/704 [==============================] - 5s 8ms/step - loss: 0.6962 - binary_accuracy: 0.4943 - false_negatives_13: 5391.0000 - val_loss: 0.6939 - val_binary_accuracy: 0.4852 - val_false_negatives_13: 23.0000\n",
      "Epoch 3/15\n",
      "704/704 [==============================] - 6s 8ms/step - loss: 0.6955 - binary_accuracy: 0.4952 - false_negatives_13: 5491.0000 - val_loss: 0.6942 - val_binary_accuracy: 0.4872 - val_false_negatives_13: 36.0000\n",
      "Epoch 4/15\n",
      "704/704 [==============================] - 7s 10ms/step - loss: 0.6951 - binary_accuracy: 0.4972 - false_negatives_13: 5806.0000 - val_loss: 0.6926 - val_binary_accuracy: 0.5156 - val_false_negatives_13: 1184.0000\n",
      "Epoch 5/15\n",
      "704/704 [==============================] - 6s 8ms/step - loss: 0.6953 - binary_accuracy: 0.4995 - false_negatives_13: 6059.0000 - val_loss: 0.6922 - val_binary_accuracy: 0.4916 - val_false_negatives_13: 6.0000\n",
      "Epoch 6/15\n",
      "704/704 [==============================] - 6s 8ms/step - loss: 0.6957 - binary_accuracy: 0.4943 - false_negatives_13: 6224.0000 - val_loss: 0.6947 - val_binary_accuracy: 0.5124 - val_false_negatives_13: 1219.0000\n",
      "Epoch 7/15\n",
      "704/704 [==============================] - 6s 8ms/step - loss: 0.6949 - binary_accuracy: 0.5000 - false_negatives_13: 5742.0000 - val_loss: 0.6929 - val_binary_accuracy: 0.5132 - val_false_negatives_13: 1210.0000\n",
      "Epoch 8/15\n",
      "704/704 [==============================] - 5s 8ms/step - loss: 0.6950 - binary_accuracy: 0.5067 - false_negatives_13: 5054.0000 - val_loss: 0.6935 - val_binary_accuracy: 0.5088 - val_false_negatives_13: 1188.0000\n",
      "Epoch 9/15\n",
      "704/704 [==============================] - 5s 7ms/step - loss: 0.6947 - binary_accuracy: 0.5056 - false_negatives_13: 5765.0000 - val_loss: 0.7007 - val_binary_accuracy: 0.4868 - val_false_negatives_13: 20.0000\n",
      "Epoch 10/15\n",
      "704/704 [==============================] - 6s 8ms/step - loss: 0.6949 - binary_accuracy: 0.5020 - false_negatives_13: 5351.0000 - val_loss: 0.7010 - val_binary_accuracy: 0.4876 - val_false_negatives_13: 25.0000\n",
      "Epoch 11/15\n",
      "704/704 [==============================] - 5s 7ms/step - loss: 0.6948 - binary_accuracy: 0.4966 - false_negatives_13: 6148.0000 - val_loss: 0.6937 - val_binary_accuracy: 0.4868 - val_false_negatives_13: 24.0000\n",
      "Epoch 12/15\n",
      "704/704 [==============================] - 5s 7ms/step - loss: 0.6949 - binary_accuracy: 0.4965 - false_negatives_13: 5391.0000 - val_loss: 0.6934 - val_binary_accuracy: 0.5136 - val_false_negatives_13: 1169.0000\n",
      "Epoch 13/15\n",
      "704/704 [==============================] - 5s 7ms/step - loss: 0.6949 - binary_accuracy: 0.4969 - false_negatives_13: 5894.0000 - val_loss: 0.6929 - val_binary_accuracy: 0.5152 - val_false_negatives_13: 1192.0000\n",
      "Epoch 14/15\n",
      "704/704 [==============================] - 6s 8ms/step - loss: 0.6946 - binary_accuracy: 0.5016 - false_negatives_13: 5412.0000 - val_loss: 0.6945 - val_binary_accuracy: 0.4860 - val_false_negatives_13: 5.0000\n",
      "Epoch 15/15\n",
      "704/704 [==============================] - 5s 8ms/step - loss: 0.6939 - binary_accuracy: 0.5068 - false_negatives_13: 5224.0000 - val_loss: 0.6933 - val_binary_accuracy: 0.4876 - val_false_negatives_13: 5.0000\n"
     ]
    }
   ],
   "source": [
    "history_model_imdb2 = model_imdb2.fit(\n",
    "    x_train , \n",
    "    y_train, \n",
    "    batch_size=32, \n",
    "    epochs=15, \n",
    "    validation_split=0.1\n",
    ")"
   ]
  },
  {
   "cell_type": "code",
   "execution_count": 140,
   "id": "68ee31ac",
   "metadata": {},
   "outputs": [
    {
     "data": {
      "image/png": "[encoded data removed]",
      "text/plain": [
       "<Figure size 864x288 with 2 Axes>"
      ]
     },
     "metadata": {
      "needs_background": "light"
     },
     "output_type": "display_data"
    }
   ],
   "source": [
    "plot_history(history_model_imdb2, \n",
    "             ax1_keys=['binary_accuracy', 'val_binary_accuracy'], \n",
    "             ax2_keys=['loss', 'val_loss'])"
   ]
  },
  {
   "cell_type": "markdown",
   "id": "ae1b6cc2",
   "metadata": {},
   "source": [
    "It seems making a deeper neural network doesn't work for us. Let's change `relu` transfer function, maybe we're losing information because of choosing wrong activation function."
   ]
  },
  {
   "cell_type": "code",
   "execution_count": 138,
   "id": "b46d2958",
   "metadata": {},
   "outputs": [
    {
     "name": "stdout",
     "output_type": "stream",
     "text": [
      "Model: \"sequential_16\"\n",
      "_________________________________________________________________\n",
      " Layer (type)                Output Shape              Param #   \n",
      "=================================================================\n",
      " dense_27 (Dense)            (None, 2500)              6252500   \n",
      "                                                                 \n",
      " dense_28 (Dense)            (None, 512)               1280512   \n",
      "                                                                 \n",
      " dense_29 (Dense)            (None, 1)                 513       \n",
      "                                                                 \n",
      "=================================================================\n",
      "Total params: 7,533,525\n",
      "Trainable params: 7,533,525\n",
      "Non-trainable params: 0\n",
      "_________________________________________________________________\n"
     ]
    }
   ],
   "source": [
    "model_imdb3 = keras.Sequential()\n",
    "model_imdb3.add(keras.layers.Dense(2500, activation='softmax', input_shape=(2500, )))\n",
    "model_imdb3.add(keras.layers.Dense(512, activation='softmax', input_shape=(2500, )))\n",
    "model_imdb3.add(keras.layers.Dense(1, activation='softmax', input_shape=(2500, )))\n",
    "\n",
    "\n",
    "\n",
    "model_imdb3.summary()"
   ]
  },
  {
   "cell_type": "code",
   "execution_count": 139,
   "id": "e53251c5",
   "metadata": {},
   "outputs": [],
   "source": [
    "model_imdb3.compile(optimizer=tf.keras.optimizers.Adam(learning_rate=1e-3),\n",
    "              loss=tf.keras.losses.BinaryCrossentropy(),\n",
    "              metrics=[tf.keras.metrics.BinaryAccuracy(),\n",
    "                       tf.keras.metrics.FalseNegatives()], )"
   ]
  },
  {
   "cell_type": "code",
   "execution_count": 141,
   "id": "bef2c1f7",
   "metadata": {},
   "outputs": [
    {
     "name": "stdout",
     "output_type": "stream",
     "text": [
      "Epoch 1/15\n",
      "704/704 [==============================] - 6s 8ms/step - loss: 0.6931 - binary_accuracy: 0.5014 - false_negatives_14: 0.0000e+00 - val_loss: 0.6931 - val_binary_accuracy: 0.4876 - val_false_negatives_14: 0.0000e+00\n",
      "Epoch 2/15\n",
      "704/704 [==============================] - 5s 8ms/step - loss: 0.6932 - binary_accuracy: 0.5014 - false_negatives_14: 0.0000e+00 - val_loss: 0.6938 - val_binary_accuracy: 0.4876 - val_false_negatives_14: 0.0000e+00\n",
      "Epoch 3/15\n",
      "704/704 [==============================] - 5s 8ms/step - loss: 0.6932 - binary_accuracy: 0.5014 - false_negatives_14: 0.0000e+00 - val_loss: 0.6929 - val_binary_accuracy: 0.4876 - val_false_negatives_14: 0.0000e+00\n",
      "Epoch 4/15\n",
      "704/704 [==============================] - 5s 8ms/step - loss: 0.6932 - binary_accuracy: 0.5014 - false_negatives_14: 0.0000e+00 - val_loss: 0.6935 - val_binary_accuracy: 0.4876 - val_false_negatives_14: 0.0000e+00\n",
      "Epoch 5/15\n",
      "704/704 [==============================] - 5s 8ms/step - loss: 0.6932 - binary_accuracy: 0.5014 - false_negatives_14: 0.0000e+00 - val_loss: 0.6929 - val_binary_accuracy: 0.4876 - val_false_negatives_14: 0.0000e+00\n",
      "Epoch 6/15\n",
      "704/704 [==============================] - 5s 8ms/step - loss: 0.6932 - binary_accuracy: 0.5014 - false_negatives_14: 0.0000e+00 - val_loss: 0.6933 - val_binary_accuracy: 0.4876 - val_false_negatives_14: 0.0000e+00\n",
      "Epoch 7/15\n",
      "704/704 [==============================] - 5s 8ms/step - loss: 0.6932 - binary_accuracy: 0.5014 - false_negatives_14: 0.0000e+00 - val_loss: 0.6933 - val_binary_accuracy: 0.4876 - val_false_negatives_14: 0.0000e+00\n",
      "Epoch 8/15\n",
      "704/704 [==============================] - 5s 7ms/step - loss: 0.6932 - binary_accuracy: 0.5014 - false_negatives_14: 0.0000e+00 - val_loss: 0.6933 - val_binary_accuracy: 0.4876 - val_false_negatives_14: 0.0000e+00\n",
      "Epoch 9/15\n",
      "704/704 [==============================] - 5s 7ms/step - loss: 0.6932 - binary_accuracy: 0.5014 - false_negatives_14: 0.0000e+00 - val_loss: 0.6932 - val_binary_accuracy: 0.4876 - val_false_negatives_14: 0.0000e+00\n",
      "Epoch 10/15\n",
      "704/704 [==============================] - 5s 8ms/step - loss: 0.6932 - binary_accuracy: 0.5014 - false_negatives_14: 0.0000e+00 - val_loss: 0.6930 - val_binary_accuracy: 0.4876 - val_false_negatives_14: 0.0000e+00\n",
      "Epoch 11/15\n",
      "704/704 [==============================] - 5s 7ms/step - loss: 0.6932 - binary_accuracy: 0.5014 - false_negatives_14: 0.0000e+00 - val_loss: 0.6931 - val_binary_accuracy: 0.4876 - val_false_negatives_14: 0.0000e+00\n",
      "Epoch 12/15\n",
      "704/704 [==============================] - 5s 7ms/step - loss: 0.6932 - binary_accuracy: 0.5014 - false_negatives_14: 0.0000e+00 - val_loss: 0.6932 - val_binary_accuracy: 0.4876 - val_false_negatives_14: 0.0000e+00\n",
      "Epoch 13/15\n",
      "704/704 [==============================] - 5s 7ms/step - loss: 0.6932 - binary_accuracy: 0.5014 - false_negatives_14: 0.0000e+00 - val_loss: 0.6938 - val_binary_accuracy: 0.4876 - val_false_negatives_14: 0.0000e+00\n",
      "Epoch 14/15\n",
      "704/704 [==============================] - 5s 7ms/step - loss: 0.6932 - binary_accuracy: 0.5014 - false_negatives_14: 0.0000e+00 - val_loss: 0.6930 - val_binary_accuracy: 0.4876 - val_false_negatives_14: 0.0000e+00\n",
      "Epoch 15/15\n",
      "704/704 [==============================] - 5s 7ms/step - loss: 0.6932 - binary_accuracy: 0.5014 - false_negatives_14: 0.0000e+00 - val_loss: 0.6931 - val_binary_accuracy: 0.4876 - val_false_negatives_14: 0.0000e+00\n"
     ]
    }
   ],
   "source": [
    "history_model_imdb3 = model_imdb3.fit(\n",
    "    x_train , \n",
    "    y_train, \n",
    "    batch_size=32, \n",
    "    epochs=15, \n",
    "    validation_split=0.1\n",
    ")"
   ]
  },
  {
   "cell_type": "code",
   "execution_count": 143,
   "id": "39abde13",
   "metadata": {},
   "outputs": [
    {
     "data": {
      "image/png": "[encoded data removed]",
      "text/plain": [
       "<Figure size 864x288 with 2 Axes>"
      ]
     },
     "metadata": {
      "needs_background": "light"
     },
     "output_type": "display_data"
    }
   ],
   "source": [
    "plot_history(history_model_imdb2, \n",
    "             ax1_keys=['binary_accuracy', 'val_binary_accuracy'], \n",
    "             ax2_keys=['loss', 'val_loss'])"
   ]
  },
  {
   "cell_type": "markdown",
   "id": "f42c2cbb",
   "metadata": {},
   "source": [
    "Again it doesn't work changing the activation functions. Let's create a deeper network with different neurons count."
   ]
  },
  {
   "cell_type": "code",
   "execution_count": 153,
   "id": "dfcbb1e9",
   "metadata": {},
   "outputs": [
    {
     "name": "stdout",
     "output_type": "stream",
     "text": [
      "Model: \"sequential_18\"\n",
      "_________________________________________________________________\n",
      " Layer (type)                Output Shape              Param #   \n",
      "=================================================================\n",
      " dense_36 (Dense)            (None, 2500)              6252500   \n",
      "                                                                 \n",
      " dense_37 (Dense)            (None, 1024)              2561024   \n",
      "                                                                 \n",
      " dense_38 (Dense)            (None, 512)               524800    \n",
      "                                                                 \n",
      " dense_39 (Dense)            (None, 256)               131328    \n",
      "                                                                 \n",
      " dense_40 (Dense)            (None, 128)               32896     \n",
      "                                                                 \n",
      " dense_41 (Dense)            (None, 1)                 129       \n",
      "                                                                 \n",
      "=================================================================\n",
      "Total params: 9,502,677\n",
      "Trainable params: 9,502,677\n",
      "Non-trainable params: 0\n",
      "_________________________________________________________________\n"
     ]
    }
   ],
   "source": [
    "model_imdb4 = keras.Sequential()\n",
    "model_imdb4.add(keras.layers.Dense(2500, activation='softmax', input_shape=(2500, )))\n",
    "model_imdb4.add(keras.layers.Dense(1024, activation='relu', input_shape=(2500, )))\n",
    "model_imdb4.add(keras.layers.Dense(512, activation='relu', input_shape=(2500, )))\n",
    "model_imdb4.add(keras.layers.Dense(256, activation='relu', input_shape=(2500, )))\n",
    "model_imdb4.add(keras.layers.Dense(128, activation='relu', input_shape=(2500, )))\n",
    "model_imdb4.add(keras.layers.Dense(1, activation='relu', input_shape=(2500, )))\n",
    "\n",
    "\n",
    "\n",
    "model_imdb4.summary()"
   ]
  },
  {
   "cell_type": "code",
   "execution_count": 156,
   "id": "04672fe6",
   "metadata": {},
   "outputs": [],
   "source": [
    "## Let's have a high learning rate to see how good it can perform in low count iterations\n",
    "## having high learning rate can cause to near random results and we want that to see how good it can perform \n",
    "model_imdb4.compile(optimizer=tf.keras.optimizers.Adam(learning_rate=1e-1),\n",
    "              loss=tf.keras.losses.BinaryCrossentropy(),\n",
    "              metrics=[tf.keras.metrics.BinaryAccuracy(),\n",
    "                       tf.keras.metrics.FalseNegatives()], )"
   ]
  },
  {
   "cell_type": "code",
   "execution_count": 157,
   "id": "a24af060",
   "metadata": {},
   "outputs": [
    {
     "name": "stdout",
     "output_type": "stream",
     "text": [
      "Epoch 1/15\n",
      "704/704 [==============================] - 7s 9ms/step - loss: 7.7265 - binary_accuracy: 0.4985 - false_negatives_20: 11279.0000 - val_loss: 7.5212 - val_binary_accuracy: 0.5124 - val_false_negatives_20: 1219.0000\n",
      "Epoch 2/15\n",
      "704/704 [==============================] - 6s 9ms/step - loss: 7.7337 - binary_accuracy: 0.4986 - false_negatives_20: 11281.0000 - val_loss: 7.5212 - val_binary_accuracy: 0.5124 - val_false_negatives_20: 1219.0000\n",
      "Epoch 3/15\n",
      "704/704 [==============================] - 6s 9ms/step - loss: 7.7337 - binary_accuracy: 0.4986 - false_negatives_20: 11281.0000 - val_loss: 7.5212 - val_binary_accuracy: 0.5124 - val_false_negatives_20: 1219.0000\n",
      "Epoch 4/15\n",
      "704/704 [==============================] - 6s 9ms/step - loss: 7.7337 - binary_accuracy: 0.4986 - false_negatives_20: 11281.0000 - val_loss: 7.5212 - val_binary_accuracy: 0.5124 - val_false_negatives_20: 1219.0000\n",
      "Epoch 5/15\n",
      "704/704 [==============================] - 6s 9ms/step - loss: 7.7337 - binary_accuracy: 0.4986 - false_negatives_20: 11281.0000 - val_loss: 7.5212 - val_binary_accuracy: 0.5124 - val_false_negatives_20: 1219.0000\n",
      "Epoch 6/15\n",
      "704/704 [==============================] - 6s 9ms/step - loss: 7.7337 - binary_accuracy: 0.4986 - false_negatives_20: 11281.0000 - val_loss: 7.5212 - val_binary_accuracy: 0.5124 - val_false_negatives_20: 1219.0000\n",
      "Epoch 7/15\n",
      "704/704 [==============================] - 6s 9ms/step - loss: 7.7337 - binary_accuracy: 0.4986 - false_negatives_20: 11281.0000 - val_loss: 7.5212 - val_binary_accuracy: 0.5124 - val_false_negatives_20: 1219.0000\n",
      "Epoch 8/15\n",
      "704/704 [==============================] - 6s 9ms/step - loss: 7.7337 - binary_accuracy: 0.4986 - false_negatives_20: 11281.0000 - val_loss: 7.5212 - val_binary_accuracy: 0.5124 - val_false_negatives_20: 1219.0000\n",
      "Epoch 9/15\n",
      "704/704 [==============================] - 6s 9ms/step - loss: 7.7337 - binary_accuracy: 0.4986 - false_negatives_20: 11281.0000 - val_loss: 7.5212 - val_binary_accuracy: 0.5124 - val_false_negatives_20: 1219.0000\n",
      "Epoch 10/15\n",
      "704/704 [==============================] - 6s 9ms/step - loss: 7.7337 - binary_accuracy: 0.4986 - false_negatives_20: 11281.0000 - val_loss: 7.5212 - val_binary_accuracy: 0.5124 - val_false_negatives_20: 1219.0000\n",
      "Epoch 11/15\n",
      "704/704 [==============================] - 6s 9ms/step - loss: 7.7337 - binary_accuracy: 0.4986 - false_negatives_20: 11281.0000 - val_loss: 7.5212 - val_binary_accuracy: 0.5124 - val_false_negatives_20: 1219.0000\n",
      "Epoch 12/15\n",
      "704/704 [==============================] - 6s 9ms/step - loss: 7.7337 - binary_accuracy: 0.4986 - false_negatives_20: 11281.0000 - val_loss: 7.5212 - val_binary_accuracy: 0.5124 - val_false_negatives_20: 1219.0000\n",
      "Epoch 13/15\n",
      "704/704 [==============================] - 6s 9ms/step - loss: 7.7337 - binary_accuracy: 0.4986 - false_negatives_20: 11281.0000 - val_loss: 7.5212 - val_binary_accuracy: 0.5124 - val_false_negatives_20: 1219.0000\n",
      "Epoch 14/15\n",
      "704/704 [==============================] - 6s 9ms/step - loss: 7.7337 - binary_accuracy: 0.4986 - false_negatives_20: 11281.0000 - val_loss: 7.5212 - val_binary_accuracy: 0.5124 - val_false_negatives_20: 1219.0000\n",
      "Epoch 15/15\n",
      "704/704 [==============================] - 6s 9ms/step - loss: 7.7337 - binary_accuracy: 0.4986 - false_negatives_20: 11281.0000 - val_loss: 7.5212 - val_binary_accuracy: 0.5124 - val_false_negatives_20: 1219.0000\n"
     ]
    }
   ],
   "source": [
    "history_model_imdb4 = model_imdb4.fit(\n",
    "    x_train , \n",
    "    y_train, \n",
    "    batch_size=32, \n",
    "    epochs=15, \n",
    "    validation_split=0.1\n",
    ")"
   ]
  },
  {
   "cell_type": "code",
   "execution_count": 158,
   "id": "082f1378",
   "metadata": {},
   "outputs": [
    {
     "data": {
      "image/png": "[encoded data removed]",
      "text/plain": [
       "<Figure size 864x288 with 2 Axes>"
      ]
     },
     "metadata": {
      "needs_background": "light"
     },
     "output_type": "display_data"
    }
   ],
   "source": [
    "plot_history(history_model_imdb4, \n",
    "             ax1_keys=['binary_accuracy', 'val_binary_accuracy'], \n",
    "             ax2_keys=['loss', 'val_loss'])"
   ]
  },
  {
   "cell_type": "markdown",
   "id": "7d5a7691",
   "metadata": {},
   "source": [
    "It is not performing well again! So we need to use other layer types to achieve better performance. "
   ]
  },
  {
   "cell_type": "markdown",
   "id": "539b9915",
   "metadata": {},
   "source": [
    "Maybe categorizing the output values can help us to get a better performance. Because the output values was length one we had to force the output layer to have one neuron and categorizing it can create two values for each output (So we set output nurons to 2)."
   ]
  },
  {
   "cell_type": "code",
   "execution_count": 160,
   "id": "eb995f50",
   "metadata": {},
   "outputs": [],
   "source": [
    "y_train_categorized = keras.utils.to_categorical(y_train)\n",
    "y_test_categorized = keras.utils.to_categorical(y_test)"
   ]
  },
  {
   "cell_type": "code",
   "execution_count": 166,
   "id": "2965a419",
   "metadata": {},
   "outputs": [
    {
     "name": "stdout",
     "output_type": "stream",
     "text": [
      "Epoch 1/15\n",
      "704/704 [==============================] - 7s 9ms/step - loss: 4.2024 - binary_accuracy: 0.4999 - false_negatives_24: 17616.0000 - val_loss: 4.3118 - val_binary_accuracy: 0.4876 - val_false_negatives_24: 1283.0000\n",
      "Epoch 2/15\n",
      "704/704 [==============================] - 6s 9ms/step - loss: 4.1946 - binary_accuracy: 0.4986 - false_negatives_24: 17285.0000 - val_loss: 4.2982 - val_binary_accuracy: 0.5012 - val_false_negatives_24: 2476.0000\n",
      "Epoch 3/15\n",
      "704/704 [==============================] - 6s 9ms/step - loss: 4.1943 - binary_accuracy: 0.4990 - false_negatives_24: 17456.0000 - val_loss: 4.2999 - val_binary_accuracy: 0.4876 - val_false_negatives_24: 1281.0000\n",
      "Epoch 4/15\n",
      "704/704 [==============================] - 6s 9ms/step - loss: 4.1930 - binary_accuracy: 0.5030 - false_negatives_24: 16756.0000 - val_loss: 4.2983 - val_binary_accuracy: 0.5006 - val_false_negatives_24: 2483.0000\n",
      "Epoch 5/15\n",
      "704/704 [==============================] - 6s 9ms/step - loss: 4.1929 - binary_accuracy: 0.5004 - false_negatives_24: 16507.0000 - val_loss: 4.3005 - val_binary_accuracy: 0.4876 - val_false_negatives_24: 1281.0000\n",
      "Epoch 6/15\n",
      "704/704 [==============================] - 6s 9ms/step - loss: 4.1928 - binary_accuracy: 0.5016 - false_negatives_24: 17048.0000 - val_loss: 4.3007 - val_binary_accuracy: 0.4876 - val_false_negatives_24: 1281.0000\n",
      "Epoch 7/15\n",
      "704/704 [==============================] - 6s 9ms/step - loss: 4.1931 - binary_accuracy: 0.4978 - false_negatives_24: 17008.0000 - val_loss: 4.2983 - val_binary_accuracy: 0.5000 - val_false_negatives_24: 2500.0000\n",
      "Epoch 8/15\n",
      "704/704 [==============================] - 6s 9ms/step - loss: 4.1928 - binary_accuracy: 0.4996 - false_negatives_24: 17103.0000 - val_loss: 4.2987 - val_binary_accuracy: 0.4878 - val_false_negatives_24: 1281.0000\n",
      "Epoch 9/15\n",
      "704/704 [==============================] - 6s 9ms/step - loss: 4.1927 - binary_accuracy: 0.5022 - false_negatives_24: 16023.0000 - val_loss: 4.2989 - val_binary_accuracy: 0.4878 - val_false_negatives_24: 1281.0000\n",
      "Epoch 10/15\n",
      "704/704 [==============================] - 6s 9ms/step - loss: 4.1931 - binary_accuracy: 0.4985 - false_negatives_24: 16556.0000 - val_loss: 4.2985 - val_binary_accuracy: 0.4882 - val_false_negatives_24: 1282.0000\n",
      "Epoch 11/15\n",
      "704/704 [==============================] - 6s 9ms/step - loss: 4.1931 - binary_accuracy: 0.4995 - false_negatives_24: 17002.0000 - val_loss: 4.2992 - val_binary_accuracy: 0.4876 - val_false_negatives_24: 1281.0000\n",
      "Epoch 12/15\n",
      "704/704 [==============================] - 7s 9ms/step - loss: 4.1945 - binary_accuracy: 0.5005 - false_negatives_24: 16570.0000 - val_loss: 4.2982 - val_binary_accuracy: 0.5000 - val_false_negatives_24: 2500.0000\n",
      "Epoch 13/15\n",
      "704/704 [==============================] - 7s 9ms/step - loss: 4.1942 - binary_accuracy: 0.4992 - false_negatives_24: 16712.0000 - val_loss: 4.2986 - val_binary_accuracy: 0.4874 - val_false_negatives_24: 1282.0000\n",
      "Epoch 14/15\n",
      "704/704 [==============================] - 6s 9ms/step - loss: 4.1925 - binary_accuracy: 0.5028 - false_negatives_24: 16595.0000 - val_loss: 4.3005 - val_binary_accuracy: 0.4876 - val_false_negatives_24: 1281.0000\n",
      "Epoch 15/15\n",
      "704/704 [==============================] - 6s 9ms/step - loss: 4.1926 - binary_accuracy: 0.4984 - false_negatives_24: 17000.0000 - val_loss: 4.2986 - val_binary_accuracy: 0.5000 - val_false_negatives_24: 2500.0000\n"
     ]
    }
   ],
   "source": [
    "model_imdb5 = keras.Sequential()\n",
    "model_imdb5.add(keras.layers.Dense(2500, activation='softmax', input_shape=(2500, )))\n",
    "model_imdb5.add(keras.layers.Dense(1024, activation='relu', input_shape=(2500, )))\n",
    "model_imdb5.add(keras.layers.Dense(512, activation='relu', input_shape=(2500, )))\n",
    "model_imdb5.add(keras.layers.Dense(256, activation='relu', input_shape=(2500, )))\n",
    "model_imdb5.add(keras.layers.Dense(128, activation='relu', input_shape=(2500, )))\n",
    "model_imdb5.add(keras.layers.Dense(2, activation='relu', input_shape=(2500, )))\n",
    "\n",
    "\n",
    "model_imdb5.compile(optimizer=tf.keras.optimizers.Adam(learning_rate=1e-3),\n",
    "              loss=tf.keras.losses.BinaryCrossentropy(),\n",
    "              metrics=[tf.keras.metrics.BinaryAccuracy(),\n",
    "                       tf.keras.metrics.FalseNegatives()], )\n",
    "\n",
    "history_model_imdb5 = model_imdb5.fit(\n",
    "    x_train,\n",
    "    y_train_categorized, \n",
    "    batch_size=32, \n",
    "    epochs=15, \n",
    "    validation_split=0.1\n",
    ")"
   ]
  },
  {
   "cell_type": "markdown",
   "id": "14be0e61",
   "metadata": {},
   "source": [
    "Until now we tried a lot to get a good performance with dense layers in imdb dataset, but it seems this kind of networks cannot perform well in this situation and we must try other leyers (Here the dense layers can is performing as good as a random classifier).\n",
    "\n",
    "The code above is a use of the example of tensorflow toturials to help us how to create better model using text embeding \n",
    "(https://www.tensorflow.org/tutorials/keras/text_classification_with_hub)."
   ]
  },
  {
   "cell_type": "code",
   "execution_count": 4,
   "id": "c14c4e25",
   "metadata": {},
   "outputs": [],
   "source": [
    "## downloading another version of IMDB dataset\n",
    "## in this version the texts are available\n",
    "train_data, validation_data, test_data = tfds.load(\n",
    "    name=\"imdb_reviews\", \n",
    "    split=('train[:60%]', 'train[60%:]', 'test'),\n",
    "    as_supervised=True)"
   ]
  },
  {
   "cell_type": "code",
   "execution_count": 10,
   "id": "9931b7fe",
   "metadata": {},
   "outputs": [],
   "source": [
    "train_examples_batch, train_labels_batch = next(iter(train_data.batch(5)))"
   ]
  },
  {
   "cell_type": "code",
   "execution_count": 11,
   "id": "dc5ce360",
   "metadata": {},
   "outputs": [
    {
     "data": {
      "text/plain": [
       "<tf.Tensor: shape=(5,), dtype=string, numpy=\n",
       "array([b\"This was an absolutely terrible movie. Don't be lured in by Christopher Walken or Michael Ironside. Both are great actors, but this must simply be their worst role in history. Even their great acting could not redeem this movie's ridiculous storyline. This movie is an early nineties US propaganda piece. The most pathetic scenes were those when the Columbian rebels were making their cases for revolutions. Maria Conchita Alonso appeared phony, and her pseudo-love affair with Walken was nothing but a pathetic emotional plug in a movie that was devoid of any real meaning. I am disappointed that there are movies like this, ruining actor's like Christopher Walken's good name. I could barely sit through it.\",\n",
       "       b'I have been known to fall asleep during films, but this is usually due to a combination of things including, really tired, being warm and comfortable on the sette and having just eaten a lot. However on this occasion I fell asleep because the film was rubbish. The plot development was constant. Constantly slow and boring. Things seemed to happen, but with no explanation of what was causing them or why. I admit, I may have missed part of the film, but i watched the majority of it and everything just seemed to happen of its own accord without any real concern for anything else. I cant recommend this film at all.',\n",
       "       b'Mann photographs the Alberta Rocky Mountains in a superb fashion, and Jimmy Stewart and Walter Brennan give enjoyable performances as they always seem to do. <br /><br />But come on Hollywood - a Mountie telling the people of Dawson City, Yukon to elect themselves a marshal (yes a marshal!) and to enforce the law themselves, then gunfighters battling it out on the streets for control of the town? <br /><br />Nothing even remotely resembling that happened on the Canadian side of the border during the Klondike gold rush. Mr. Mann and company appear to have mistaken Dawson City for Deadwood, the Canadian North for the American Wild West.<br /><br />Canadian viewers be prepared for a Reefer Madness type of enjoyable howl with this ludicrous plot, or, to shake your head in disgust.',\n",
       "       b'This is the kind of film for a snowy Sunday afternoon when the rest of the world can go ahead with its own business as you descend into a big arm-chair and mellow for a couple of hours. Wonderful performances from Cher and Nicolas Cage (as always) gently row the plot along. There are no rapids to cross, no dangerous waters, just a warm and witty paddle through New York life at its best. A family film in every sense and one that deserves the praise it received.',\n",
       "       b'As others have mentioned, all the women that go nude in this film are mostly absolutely gorgeous. The plot very ably shows the hypocrisy of the female libido. When men are around they want to be pursued, but when no \"men\" are around, they become the pursuers of a 14 year old boy. And the boy becomes a man really fast (we should all be so lucky at this age!). He then gets up the courage to pursue his true love.'],\n",
       "      dtype=object)>"
      ]
     },
     "execution_count": 11,
     "metadata": {},
     "output_type": "execute_result"
    }
   ],
   "source": [
    "train_examples_batch"
   ]
  },
  {
   "cell_type": "code",
   "execution_count": 14,
   "id": "31cdf346",
   "metadata": {},
   "outputs": [
    {
     "data": {
      "text/plain": [
       "<tf.Tensor: shape=(5,), dtype=int64, numpy=array([0, 0, 0, 1, 1], dtype=int64)>"
      ]
     },
     "execution_count": 14,
     "metadata": {},
     "output_type": "execute_result"
    }
   ],
   "source": [
    "train_labels_batch"
   ]
  },
  {
   "cell_type": "markdown",
   "id": "84ed022f",
   "metadata": {},
   "source": [
    "We will use a pre-defined text embeding model from TFHub:\"https://tfhub.dev/google/nnlm-en-dim50/2\"\n"
   ]
  },
  {
   "cell_type": "code",
   "execution_count": 18,
   "id": "9ff20a01",
   "metadata": {},
   "outputs": [
    {
     "data": {
      "text/plain": [
       "<tf.Tensor: shape=(3, 50), dtype=float32, numpy=\n",
       "array([[ 0.5423195 , -0.0119017 ,  0.06337538,  0.06862972, -0.16776837,\n",
       "        -0.10581174,  0.16865303, -0.04998824, -0.31148055,  0.07910346,\n",
       "         0.15442263,  0.01488662,  0.03930153,  0.19772711, -0.12215476,\n",
       "        -0.04120981, -0.2704109 , -0.21922152,  0.26517662, -0.80739075,\n",
       "         0.25833532, -0.3100421 ,  0.28683215,  0.1943387 , -0.29036492,\n",
       "         0.03862849, -0.7844411 , -0.0479324 ,  0.4110299 , -0.36388892,\n",
       "        -0.58034706,  0.30269456,  0.3630897 , -0.15227164, -0.44391504,\n",
       "         0.19462997,  0.19528408,  0.05666234,  0.2890704 , -0.28468323,\n",
       "        -0.00531206,  0.0571938 , -0.3201318 , -0.04418665, -0.08550783,\n",
       "        -0.55847436, -0.23336391, -0.20782952, -0.03543064, -0.17533456],\n",
       "       [ 0.56338924, -0.12339553, -0.10862679,  0.7753425 , -0.07667089,\n",
       "        -0.15752277,  0.01872335, -0.08169781, -0.3521876 ,  0.4637341 ,\n",
       "        -0.08492756,  0.07166859, -0.00670817,  0.12686075, -0.19326553,\n",
       "        -0.52626437, -0.3295823 ,  0.14394785,  0.09043556, -0.5417555 ,\n",
       "         0.02468163, -0.15456742,  0.68333143,  0.09068331, -0.45327246,\n",
       "         0.23180096, -0.8615696 ,  0.34480393,  0.12838456, -0.58759046,\n",
       "        -0.4071231 ,  0.23061076,  0.48426893, -0.27128142, -0.5380916 ,\n",
       "         0.47016326,  0.22572741, -0.00830663,  0.2846242 , -0.304985  ,\n",
       "         0.04400365,  0.25025874,  0.14867121,  0.40717036, -0.15422426,\n",
       "        -0.06878027, -0.40825695, -0.3149215 ,  0.09283665, -0.20183425],\n",
       "       [ 0.7456154 ,  0.21256861,  0.14400336,  0.5233862 ,  0.11032254,\n",
       "         0.00902788, -0.3667802 , -0.08938274, -0.24165542,  0.33384594,\n",
       "        -0.11194605, -0.01460047, -0.0071645 ,  0.19562712,  0.00685216,\n",
       "        -0.24886718, -0.42796347,  0.18620004, -0.05241098, -0.66462487,\n",
       "         0.13449019, -0.22205497,  0.08633006,  0.43685386,  0.2972681 ,\n",
       "         0.36140734, -0.7196889 ,  0.05291241, -0.14316116, -0.1573394 ,\n",
       "        -0.15056328, -0.05988009, -0.08178931, -0.15569411, -0.09303783,\n",
       "        -0.18971172,  0.07620788, -0.02541647, -0.27134508, -0.3392682 ,\n",
       "        -0.10296468, -0.27275252, -0.34078008,  0.20083304, -0.26644835,\n",
       "         0.00655449, -0.05141488, -0.04261917, -0.45413622,  0.20023568]],\n",
       "      dtype=float32)>"
      ]
     },
     "execution_count": 18,
     "metadata": {},
     "output_type": "execute_result"
    }
   ],
   "source": [
    "embedding = \"https://tfhub.dev/google/nnlm-en-dim50/2\"\n",
    "hub_layer = hub.KerasLayer(embedding, input_shape=[], \n",
    "                           dtype=tf.string, trainable=True)\n",
    "hub_layer(train_examples_batch[:3])"
   ]
  },
  {
   "cell_type": "code",
   "execution_count": 19,
   "id": "f470217f",
   "metadata": {},
   "outputs": [
    {
     "name": "stdout",
     "output_type": "stream",
     "text": [
      "Model: \"sequential\"\n",
      "_________________________________________________________________\n",
      " Layer (type)                Output Shape              Param #   \n",
      "=================================================================\n",
      " keras_layer (KerasLayer)    (None, 50)                48190600  \n",
      "                                                                 \n",
      " dense (Dense)               (None, 16)                816       \n",
      "                                                                 \n",
      " dense_1 (Dense)             (None, 1)                 17        \n",
      "                                                                 \n",
      "=================================================================\n",
      "Total params: 48,191,433\n",
      "Trainable params: 48,191,433\n",
      "Non-trainable params: 0\n",
      "_________________________________________________________________\n"
     ]
    }
   ],
   "source": [
    "model_imdb_tfhub = tf.keras.Sequential()\n",
    "model_imdb_tfhub.add(hub_layer)\n",
    "model_imdb_tfhub.add(tf.keras.layers.Dense(16, activation='relu'))\n",
    "model_imdb_tfhub.add(tf.keras.layers.Dense(1))\n",
    "\n",
    "model_imdb_tfhub.summary()"
   ]
  },
  {
   "cell_type": "code",
   "execution_count": 23,
   "id": "f2d5b7b0",
   "metadata": {},
   "outputs": [
    {
     "name": "stdout",
     "output_type": "stream",
     "text": [
      "Epoch 1/15\n",
      "30/30 [==============================] - 2s 63ms/step - loss: 0.0386 - accuracy: 0.9937 - mse: 27.3006 - val_loss: 0.3468 - val_accuracy: 0.8688 - val_mse: 24.4022\n",
      "Epoch 2/15\n",
      "30/30 [==============================] - 2s 60ms/step - loss: 0.0237 - accuracy: 0.9978 - mse: 34.7808 - val_loss: 0.3680 - val_accuracy: 0.8672 - val_mse: 30.1637\n",
      "Epoch 3/15\n",
      "30/30 [==============================] - 2s 59ms/step - loss: 0.0158 - accuracy: 0.9989 - mse: 42.3120 - val_loss: 0.3907 - val_accuracy: 0.8648 - val_mse: 35.5622\n",
      "Epoch 4/15\n",
      "30/30 [==============================] - 2s 60ms/step - loss: 0.0104 - accuracy: 0.9995 - mse: 49.2255 - val_loss: 0.4137 - val_accuracy: 0.8671 - val_mse: 40.5303\n",
      "Epoch 5/15\n",
      "30/30 [==============================] - 2s 60ms/step - loss: 0.0072 - accuracy: 0.9997 - mse: 56.1228 - val_loss: 0.4302 - val_accuracy: 0.8635 - val_mse: 45.5260\n",
      "Epoch 6/15\n",
      "30/30 [==============================] - 2s 60ms/step - loss: 0.0053 - accuracy: 0.9999 - mse: 62.4211 - val_loss: 0.4480 - val_accuracy: 0.8641 - val_mse: 50.0269\n",
      "Epoch 7/15\n",
      "30/30 [==============================] - 2s 59ms/step - loss: 0.0040 - accuracy: 0.9999 - mse: 68.1974 - val_loss: 0.4650 - val_accuracy: 0.8660 - val_mse: 54.0439\n",
      "Epoch 8/15\n",
      "30/30 [==============================] - 2s 60ms/step - loss: 0.0031 - accuracy: 0.9999 - mse: 73.5167 - val_loss: 0.4791 - val_accuracy: 0.8638 - val_mse: 57.9952\n",
      "Epoch 9/15\n",
      "30/30 [==============================] - 2s 60ms/step - loss: 0.0024 - accuracy: 0.9999 - mse: 78.7963 - val_loss: 0.4939 - val_accuracy: 0.8645 - val_mse: 61.8141\n",
      "Epoch 10/15\n",
      "30/30 [==============================] - 2s 59ms/step - loss: 0.0019 - accuracy: 1.0000 - mse: 83.6937 - val_loss: 0.5053 - val_accuracy: 0.8636 - val_mse: 65.3866\n",
      "Epoch 11/15\n",
      "30/30 [==============================] - 2s 59ms/step - loss: 0.0016 - accuracy: 1.0000 - mse: 88.6348 - val_loss: 0.5190 - val_accuracy: 0.8632 - val_mse: 69.5248\n",
      "Epoch 12/15\n",
      "30/30 [==============================] - 2s 60ms/step - loss: 0.0013 - accuracy: 1.0000 - mse: 95.0916 - val_loss: 0.5348 - val_accuracy: 0.8629 - val_mse: 74.7366\n",
      "Epoch 13/15\n",
      "30/30 [==============================] - 2s 61ms/step - loss: 0.0010 - accuracy: 1.0000 - mse: 101.8503 - val_loss: 0.5511 - val_accuracy: 0.8619 - val_mse: 79.5027\n",
      "Epoch 14/15\n",
      "30/30 [==============================] - 2s 61ms/step - loss: 8.1029e-04 - accuracy: 1.0000 - mse: 108.2622 - val_loss: 0.5644 - val_accuracy: 0.8615 - val_mse: 84.5848\n",
      "Epoch 15/15\n",
      "30/30 [==============================] - 2s 60ms/step - loss: 6.6532e-04 - accuracy: 1.0000 - mse: 114.5061 - val_loss: 0.5778 - val_accuracy: 0.8609 - val_mse: 89.0296\n"
     ]
    }
   ],
   "source": [
    "model_imdb_tfhub.compile(optimizer='adam',\n",
    "              loss=tf.keras.losses.BinaryCrossentropy(from_logits=True),\n",
    "              metrics=['accuracy', 'mse'])\n",
    "\n",
    "history_imdb_tfhub = model_imdb_tfhub.fit(train_data.shuffle(10000).batch(512),\n",
    "                    epochs=15,\n",
    "                    validation_data=validation_data.batch(512),\n",
    "                    verbose=1)"
   ]
  },
  {
   "cell_type": "code",
   "execution_count": 24,
   "id": "795017b7",
   "metadata": {},
   "outputs": [
    {
     "data": {
      "image/png": "[encoded data removed]",
      "text/plain": [
       "<Figure size 864x288 with 2 Axes>"
      ]
     },
     "metadata": {
      "needs_background": "light"
     },
     "output_type": "display_data"
    }
   ],
   "source": [
    "plot_history(history_imdb_tfhub)"
   ]
  },
  {
   "cell_type": "markdown",
   "id": "f438a02c",
   "metadata": {},
   "source": [
    "It seems using the text embeding model can help us achieve greate performance. So for text data we can say that using a text embeding model that converts strings to numeric data is a good way to create simple neural networks with few layers. (We just used two layers here and we got near 87 percent accuracy on validation dataset!)\n",
    "\n",
    "To speak about the last model history we can say that achieving higher accuracy for train data in last iterations moved us to overfit state that it can easily seen in loss diagram.\n",
    "\n",
    "After getting a good accuracy let's look at the performance of the model on test data."
   ]
  },
  {
   "cell_type": "code",
   "execution_count": 27,
   "id": "8c04dd58",
   "metadata": {},
   "outputs": [
    {
     "name": "stdout",
     "output_type": "stream",
     "text": [
      "49/49 - 1s - loss: 0.6359 - accuracy: 0.8429 - mse: 80.1773 - 1s/epoch - 26ms/step\n",
      "loss: 0.636\n",
      "accuracy: 0.843\n",
      "mse: 80.177\n"
     ]
    }
   ],
   "source": [
    "results = model_imdb_tfhub.evaluate(test_data.batch(512), verbose=2)\n",
    "\n",
    "for name, value in zip(model_imdb_tfhub.metrics_names, results):\n",
    "    print(\"%s: %.3f\" % (name, value))"
   ]
  },
  {
   "cell_type": "markdown",
   "id": "8d70c272",
   "metadata": {},
   "source": [
    "So having about 84 percent accuracy for test data is a great performance comparing to the previous results. "
   ]
  },
  {
   "cell_type": "markdown",
   "id": "8e2ccb32",
   "metadata": {},
   "source": [
    "# Q3"
   ]
  },
  {
   "cell_type": "markdown",
   "id": "e7201be7",
   "metadata": {},
   "source": [
    "## Part a\n",
    "Using CFAR10 dataset, create a convolution network and find the accuracy results."
   ]
  },
  {
   "cell_type": "code",
   "execution_count": 10,
   "id": "a1dc61bb",
   "metadata": {},
   "outputs": [],
   "source": [
    "## to download the dataset we need to renew the ssl certificates\n",
    "import ssl\n",
    "\n",
    "ssl._create_default_https_context = ssl._create_unverified_context"
   ]
  },
  {
   "cell_type": "code",
   "execution_count": 5,
   "id": "d14b9314",
   "metadata": {},
   "outputs": [],
   "source": [
    "(x_train_cifar, y_train_cifar), (x_test_cifar, y_test_cifar) = keras.datasets.cifar10.load_data()\n",
    "assert x_train_cifar.shape == (50000, 32, 32, 3)\n",
    "assert x_test_cifar.shape == (10000, 32, 32, 3)\n",
    "assert y_train_cifar.shape == (50000, 1)\n",
    "assert y_test_cifar.shape == (10000, 1)"
   ]
  },
  {
   "cell_type": "code",
   "execution_count": 6,
   "id": "3b753a1e",
   "metadata": {},
   "outputs": [
    {
     "data": {
      "text/plain": [
       "array([0, 1, 2, 3, 4, 5, 6, 7, 8, 9], dtype=uint8)"
      ]
     },
     "execution_count": 6,
     "metadata": {},
     "output_type": "execute_result"
    }
   ],
   "source": [
    "## lets see how many class we have and then we need to specify the output neurons with the length of unique labels\n",
    "np.unique(y_train_cifar)"
   ]
  },
  {
   "cell_type": "code",
   "execution_count": 7,
   "id": "baebe848",
   "metadata": {},
   "outputs": [],
   "source": [
    "y_train_categorical_cifar = keras.utils.to_categorical(y_train_cifar)\n",
    "y_test_cifar_categorical_cifar = keras.utils.to_categorical(y_test_cifar)"
   ]
  },
  {
   "cell_type": "code",
   "execution_count": 8,
   "id": "f307f263",
   "metadata": {},
   "outputs": [],
   "source": [
    "## normalize data\n",
    "x_train_cifar = x_train_cifar / 255.0\n",
    "x_test_cifar = x_test_cifar / 255.0\n"
   ]
  },
  {
   "cell_type": "code",
   "execution_count": 9,
   "id": "4d098e53",
   "metadata": {},
   "outputs": [
    {
     "name": "stdout",
     "output_type": "stream",
     "text": [
      "Model: \"sequential_1\"\n",
      "_________________________________________________________________\n",
      " Layer (type)                Output Shape              Param #   \n",
      "=================================================================\n",
      " conv2d_1 (Conv2D)           (None, 30, 30, 32)        896       \n",
      "                                                                 \n",
      " max_pooling2d_1 (MaxPooling  (None, 15, 15, 32)       0         \n",
      " 2D)                                                             \n",
      "                                                                 \n",
      " dense_2 (Dense)             (None, 15, 15, 64)        2112      \n",
      "                                                                 \n",
      " flatten_1 (Flatten)         (None, 14400)             0         \n",
      "                                                                 \n",
      " dense_3 (Dense)             (None, 10)                144010    \n",
      "                                                                 \n",
      "=================================================================\n",
      "Total params: 147,018\n",
      "Trainable params: 147,018\n",
      "Non-trainable params: 0\n",
      "_________________________________________________________________\n"
     ]
    }
   ],
   "source": [
    "model_cfar = tf.keras.Sequential()\n",
    "model_cfar.add(keras.layers.Conv2D(filters=32, input_shape=(32, 32, 3),  kernel_size=(3,3), activation='relu'))\n",
    "model_cfar.add(keras.layers.MaxPooling2D(pool_size=(2, 2), padding=\"valid\"))\n",
    "model_cfar.add(keras.layers.Dense(64, activation='softmax'))\n",
    "model_cfar.add(keras.layers.Flatten())\n",
    "model_cfar.add(keras.layers.Dense(10, activation='softmax'))\n",
    "\n",
    "model_cfar.summary()"
   ]
  },
  {
   "cell_type": "code",
   "execution_count": 12,
   "id": "0761fcba",
   "metadata": {},
   "outputs": [
    {
     "name": "stdout",
     "output_type": "stream",
     "text": [
      "Epoch 1/25\n",
      "1407/1407 [==============================] - 8s 5ms/step - loss: 0.7979 - accuracy: 0.7249 - val_loss: 1.1035 - val_accuracy: 0.6348\n",
      "Epoch 2/25\n",
      "1407/1407 [==============================] - 7s 5ms/step - loss: 0.7598 - accuracy: 0.7380 - val_loss: 1.0906 - val_accuracy: 0.6330\n",
      "Epoch 3/25\n",
      "1407/1407 [==============================] - 7s 5ms/step - loss: 0.7244 - accuracy: 0.7525 - val_loss: 1.1206 - val_accuracy: 0.6242\n",
      "Epoch 4/25\n",
      "1407/1407 [==============================] - 7s 5ms/step - loss: 0.6911 - accuracy: 0.7636 - val_loss: 1.1183 - val_accuracy: 0.6314\n",
      "Epoch 5/25\n",
      "1407/1407 [==============================] - 7s 5ms/step - loss: 0.6550 - accuracy: 0.7776 - val_loss: 1.1160 - val_accuracy: 0.6360\n",
      "Epoch 6/25\n",
      "1407/1407 [==============================] - 7s 5ms/step - loss: 0.6203 - accuracy: 0.7904 - val_loss: 1.1572 - val_accuracy: 0.6256\n",
      "Epoch 7/25\n",
      "1407/1407 [==============================] - 8s 5ms/step - loss: 0.5840 - accuracy: 0.8052 - val_loss: 1.1693 - val_accuracy: 0.6242\n",
      "Epoch 8/25\n",
      "1407/1407 [==============================] - 8s 5ms/step - loss: 0.5499 - accuracy: 0.8182 - val_loss: 1.1754 - val_accuracy: 0.6254\n",
      "Epoch 9/25\n",
      "1407/1407 [==============================] - 8s 5ms/step - loss: 0.5134 - accuracy: 0.8332 - val_loss: 1.2162 - val_accuracy: 0.6152\n",
      "Epoch 10/25\n",
      "1407/1407 [==============================] - 8s 5ms/step - loss: 0.4805 - accuracy: 0.8441 - val_loss: 1.2524 - val_accuracy: 0.6098\n",
      "Epoch 11/25\n",
      "1407/1407 [==============================] - 8s 6ms/step - loss: 0.4453 - accuracy: 0.8595 - val_loss: 1.2847 - val_accuracy: 0.6110\n",
      "Epoch 12/25\n",
      "1407/1407 [==============================] - 8s 6ms/step - loss: 0.4141 - accuracy: 0.8710 - val_loss: 1.3121 - val_accuracy: 0.6144\n",
      "Epoch 13/25\n",
      "1407/1407 [==============================] - 9s 6ms/step - loss: 0.3820 - accuracy: 0.8837 - val_loss: 1.3709 - val_accuracy: 0.6044\n",
      "Epoch 14/25\n",
      "1407/1407 [==============================] - 8s 6ms/step - loss: 0.3524 - accuracy: 0.8955 - val_loss: 1.3963 - val_accuracy: 0.6048\n",
      "Epoch 15/25\n",
      "1407/1407 [==============================] - 8s 6ms/step - loss: 0.3226 - accuracy: 0.9072 - val_loss: 1.4381 - val_accuracy: 0.6034\n",
      "Epoch 16/25\n",
      "1407/1407 [==============================] - 8s 6ms/step - loss: 0.2950 - accuracy: 0.9172 - val_loss: 1.5082 - val_accuracy: 0.5972\n",
      "Epoch 17/25\n",
      "1407/1407 [==============================] - 8s 6ms/step - loss: 0.2690 - accuracy: 0.9281 - val_loss: 1.5513 - val_accuracy: 0.5958\n",
      "Epoch 18/25\n",
      "1407/1407 [==============================] - 8s 6ms/step - loss: 0.2453 - accuracy: 0.9368 - val_loss: 1.5764 - val_accuracy: 0.5966\n",
      "Epoch 19/25\n",
      "1407/1407 [==============================] - 8s 6ms/step - loss: 0.2248 - accuracy: 0.9449 - val_loss: 1.6473 - val_accuracy: 0.5838\n",
      "Epoch 20/25\n",
      "1407/1407 [==============================] - 8s 6ms/step - loss: 0.2033 - accuracy: 0.9536 - val_loss: 1.6780 - val_accuracy: 0.5860\n",
      "Epoch 21/25\n",
      "1407/1407 [==============================] - 8s 5ms/step - loss: 0.1829 - accuracy: 0.9607 - val_loss: 1.7418 - val_accuracy: 0.5870\n",
      "Epoch 22/25\n",
      "1407/1407 [==============================] - 8s 6ms/step - loss: 0.1645 - accuracy: 0.9667 - val_loss: 1.8129 - val_accuracy: 0.5774\n",
      "Epoch 23/25\n",
      "1407/1407 [==============================] - 8s 6ms/step - loss: 0.1472 - accuracy: 0.9736 - val_loss: 1.8629 - val_accuracy: 0.5734\n",
      "Epoch 24/25\n",
      "1407/1407 [==============================] - 10s 7ms/step - loss: 0.1327 - accuracy: 0.9773 - val_loss: 1.8950 - val_accuracy: 0.5784\n",
      "Epoch 25/25\n",
      "1407/1407 [==============================] - 9s 6ms/step - loss: 0.1190 - accuracy: 0.9816 - val_loss: 1.9660 - val_accuracy: 0.5746\n"
     ]
    }
   ],
   "source": [
    "model_cfar.compile(\n",
    "    optimizer=keras.optimizers.Adam(),\n",
    "    metrics=['accuracy'] , \n",
    "    loss=tf.keras.losses.categorical_crossentropy,\n",
    ")\n",
    "\n",
    "history_cifar = model_cfar.fit(x_train_cifar, \n",
    "               y_train_categorical_cifar,\n",
    "               epochs=25,\n",
    "               validation_split=0.1,\n",
    "               shuffle=True,\n",
    "               batch_size=32\n",
    ")"
   ]
  },
  {
   "cell_type": "code",
   "execution_count": 14,
   "id": "adc9195c",
   "metadata": {},
   "outputs": [
    {
     "data": {
      "image/png": "[encoded data removed]",
      "text/plain": [
       "<Figure size 864x288 with 2 Axes>"
      ]
     },
     "metadata": {
      "needs_background": "light"
     },
     "output_type": "display_data"
    }
   ],
   "source": [
    "plot_history(history_cifar)"
   ]
  },
  {
   "cell_type": "markdown",
   "id": "50291dd8",
   "metadata": {},
   "source": [
    "Using `relu` activation function got us to 25% accuracy so we changed it to `softmax`, and it easily helped us to get much higer accuracy as we can see above. So using `softmax` activation function in mid and last layer gave us high accuracy but after some iterations we could see that the model got overfitted and the best results happend in iterations 1 and 2!"
   ]
  },
  {
   "cell_type": "markdown",
   "id": "adebb9de",
   "metadata": {},
   "source": [
    "## Part b"
   ]
  },
  {
   "cell_type": "markdown",
   "id": "4f833d41",
   "metadata": {},
   "source": [
    "Use `VGG16` network and report classification accuracy. "
   ]
  },
  {
   "cell_type": "code",
   "execution_count": 23,
   "id": "ae90a3cc",
   "metadata": {},
   "outputs": [
    {
     "name": "stdout",
     "output_type": "stream",
     "text": [
      "1563/1563 [==============================] - 12s 8ms/step\n"
     ]
    }
   ],
   "source": [
    "model_VGG16 = keras.applications.vgg16.VGG16(\n",
    "    include_top=False,\n",
    "    weights=\"imagenet\",\n",
    "    input_shape=(32, 32, 3),\n",
    "#     pooling=None,\n",
    "    classes=1000,\n",
    "    classifier_activation=\"softmax\",\n",
    ")"
   ]
  },
  {
   "cell_type": "code",
   "execution_count": 42,
   "id": "8434fabd",
   "metadata": {},
   "outputs": [
    {
     "name": "stdout",
     "output_type": "stream",
     "text": [
      "Model: \"vgg16\"\n",
      "_________________________________________________________________\n",
      " Layer (type)                Output Shape              Param #   \n",
      "=================================================================\n",
      " input_2 (InputLayer)        [(None, 32, 32, 3)]       0         \n",
      "                                                                 \n",
      " block1_conv1 (Conv2D)       (None, 32, 32, 64)        1792      \n",
      "                                                                 \n",
      " block1_conv2 (Conv2D)       (None, 32, 32, 64)        36928     \n",
      "                                                                 \n",
      " block1_pool (MaxPooling2D)  (None, 16, 16, 64)        0         \n",
      "                                                                 \n",
      " block2_conv1 (Conv2D)       (None, 16, 16, 128)       73856     \n",
      "                                                                 \n",
      " block2_conv2 (Conv2D)       (None, 16, 16, 128)       147584    \n",
      "                                                                 \n",
      " block2_pool (MaxPooling2D)  (None, 8, 8, 128)         0         \n",
      "                                                                 \n",
      " block3_conv1 (Conv2D)       (None, 8, 8, 256)         295168    \n",
      "                                                                 \n",
      " block3_conv2 (Conv2D)       (None, 8, 8, 256)         590080    \n",
      "                                                                 \n",
      " block3_conv3 (Conv2D)       (None, 8, 8, 256)         590080    \n",
      "                                                                 \n",
      " block3_pool (MaxPooling2D)  (None, 4, 4, 256)         0         \n",
      "                                                                 \n",
      " block4_conv1 (Conv2D)       (None, 4, 4, 512)         1180160   \n",
      "                                                                 \n",
      " block4_conv2 (Conv2D)       (None, 4, 4, 512)         2359808   \n",
      "                                                                 \n",
      " block4_conv3 (Conv2D)       (None, 4, 4, 512)         2359808   \n",
      "                                                                 \n",
      " block4_pool (MaxPooling2D)  (None, 2, 2, 512)         0         \n",
      "                                                                 \n",
      " block5_conv1 (Conv2D)       (None, 2, 2, 512)         2359808   \n",
      "                                                                 \n",
      " block5_conv2 (Conv2D)       (None, 2, 2, 512)         2359808   \n",
      "                                                                 \n",
      " block5_conv3 (Conv2D)       (None, 2, 2, 512)         2359808   \n",
      "                                                                 \n",
      " block5_pool (MaxPooling2D)  (None, 1, 1, 512)         0         \n",
      "                                                                 \n",
      "=================================================================\n",
      "Total params: 14,714,688\n",
      "Trainable params: 14,714,688\n",
      "Non-trainable params: 0\n",
      "_________________________________________________________________\n"
     ]
    }
   ],
   "source": [
    "model_VGG16.summary()"
   ]
  },
  {
   "cell_type": "code",
   "execution_count": 21,
   "id": "14b3d5d5",
   "metadata": {},
   "outputs": [],
   "source": [
    "y_pred_cifar = model_VGG16.predict(x_train_cifar)"
   ]
  },
  {
   "cell_type": "code",
   "execution_count": 36,
   "id": "c4b452a4",
   "metadata": {},
   "outputs": [],
   "source": [
    "y_pred_reshaped = np.reshape(y_pred_cifar, (50000, 512))\n"
   ]
  },
  {
   "cell_type": "code",
   "execution_count": 41,
   "id": "2caa2252",
   "metadata": {},
   "outputs": [
    {
     "data": {
      "text/plain": [
       "array([155], dtype=int64)"
      ]
     },
     "execution_count": 41,
     "metadata": {},
     "output_type": "execute_result"
    }
   ],
   "source": [
    "np.unique(np.argmax(y_pred_reshaped, axis=1))"
   ]
  },
  {
   "cell_type": "markdown",
   "id": "abfb46f2",
   "metadata": {},
   "source": [
    "the model predicted the class 155 only, and by this we can say that it is not working well, So we will use another method named *transfer learning*. \n",
    "\n",
    "In *transfer learning* method, the learned concepts by a model will transfered to another model. Using the pre-trained model VGG16 we can create some layers on top of it and transfer the learned concept in the new layers. "
   ]
  },
  {
   "cell_type": "code",
   "execution_count": 43,
   "id": "02e71c3b",
   "metadata": {},
   "outputs": [
    {
     "name": "stdout",
     "output_type": "stream",
     "text": [
      "Model: \"sequential_2\"\n",
      "_________________________________________________________________\n",
      " Layer (type)                Output Shape              Param #   \n",
      "=================================================================\n",
      " vgg16 (Functional)          (None, 1, 1, 512)         14714688  \n",
      "                                                                 \n",
      " flatten_2 (Flatten)         (None, 512)               0         \n",
      "                                                                 \n",
      " dense_4 (Dense)             (None, 64)                32832     \n",
      "                                                                 \n",
      " dense_5 (Dense)             (None, 32)                2080      \n",
      "                                                                 \n",
      " dense_6 (Dense)             (None, 10)                330       \n",
      "                                                                 \n",
      "=================================================================\n",
      "Total params: 14,749,930\n",
      "Trainable params: 35,242\n",
      "Non-trainable params: 14,714,688\n",
      "_________________________________________________________________\n"
     ]
    }
   ],
   "source": [
    "base_model = keras.applications.vgg16.VGG16(weights='imagenet', \n",
    "                                            include_top=False,\n",
    "                                            input_shape=(32,32, 3))\n",
    "base_model.trainable = False\n",
    "\n",
    "model_vgg_transfer_learning = keras.models.Sequential([\n",
    "    base_model,\n",
    "    keras.layers.Flatten(),\n",
    "    keras.layers.Dense(64, activation='relu'),\n",
    "    keras.layers.Dense(32, activation='softmax'),\n",
    "    keras.layers.Dense(10, activation='softmax')\n",
    "])\n",
    "\n",
    "model_vgg_transfer_learning.summary()"
   ]
  },
  {
   "cell_type": "code",
   "execution_count": 45,
   "id": "eb31d842",
   "metadata": {},
   "outputs": [
    {
     "name": "stdout",
     "output_type": "stream",
     "text": [
      "Epoch 1/25\n",
      "1407/1407 [==============================] - 21s 15ms/step - loss: 1.0895 - accuracy: 0.6239 - val_loss: 1.2294 - val_accuracy: 0.5756\n",
      "Epoch 2/25\n",
      "1407/1407 [==============================] - 18s 13ms/step - loss: 1.0702 - accuracy: 0.6337 - val_loss: 1.2038 - val_accuracy: 0.5870\n",
      "Epoch 3/25\n",
      "1407/1407 [==============================] - 19s 13ms/step - loss: 1.0529 - accuracy: 0.6389 - val_loss: 1.2131 - val_accuracy: 0.5892\n",
      "Epoch 4/25\n",
      "1407/1407 [==============================] - 19s 14ms/step - loss: 1.0405 - accuracy: 0.6452 - val_loss: 1.2015 - val_accuracy: 0.5848\n",
      "Epoch 5/25\n",
      "1407/1407 [==============================] - 19s 14ms/step - loss: 1.0239 - accuracy: 0.6506 - val_loss: 1.2211 - val_accuracy: 0.5856\n",
      "Epoch 6/25\n",
      "1407/1407 [==============================] - 19s 14ms/step - loss: 1.0102 - accuracy: 0.6561 - val_loss: 1.2135 - val_accuracy: 0.5912\n",
      "Epoch 7/25\n",
      "1407/1407 [==============================] - 19s 14ms/step - loss: 0.9973 - accuracy: 0.6614 - val_loss: 1.2065 - val_accuracy: 0.5978\n",
      "Epoch 8/25\n",
      "1407/1407 [==============================] - 19s 14ms/step - loss: 0.9848 - accuracy: 0.6671 - val_loss: 1.2371 - val_accuracy: 0.5930\n",
      "Epoch 9/25\n",
      "1407/1407 [==============================] - 19s 14ms/step - loss: 0.9738 - accuracy: 0.6733 - val_loss: 1.2233 - val_accuracy: 0.5976\n",
      "Epoch 10/25\n",
      "1407/1407 [==============================] - 19s 14ms/step - loss: 0.9616 - accuracy: 0.6764 - val_loss: 1.2064 - val_accuracy: 0.6038\n",
      "Epoch 11/25\n",
      "1407/1407 [==============================] - 20s 14ms/step - loss: 0.9518 - accuracy: 0.6794 - val_loss: 1.2084 - val_accuracy: 0.6004\n",
      "Epoch 12/25\n",
      "1407/1407 [==============================] - 20s 14ms/step - loss: 0.9433 - accuracy: 0.6807 - val_loss: 1.2221 - val_accuracy: 0.5976\n",
      "Epoch 13/25\n",
      "1407/1407 [==============================] - 20s 14ms/step - loss: 0.9333 - accuracy: 0.6893 - val_loss: 1.2160 - val_accuracy: 0.5974\n",
      "Epoch 14/25\n",
      "1407/1407 [==============================] - 20s 14ms/step - loss: 0.9242 - accuracy: 0.6889 - val_loss: 1.2391 - val_accuracy: 0.5952\n",
      "Epoch 15/25\n",
      "1407/1407 [==============================] - 20s 14ms/step - loss: 0.9150 - accuracy: 0.6923 - val_loss: 1.2477 - val_accuracy: 0.5958\n",
      "Epoch 16/25\n",
      "1407/1407 [==============================] - 20s 15ms/step - loss: 0.9093 - accuracy: 0.6951 - val_loss: 1.2363 - val_accuracy: 0.5978\n",
      "Epoch 17/25\n",
      "1407/1407 [==============================] - 20s 14ms/step - loss: 0.8983 - accuracy: 0.6984 - val_loss: 1.2184 - val_accuracy: 0.6012\n",
      "Epoch 18/25\n",
      "1407/1407 [==============================] - 20s 14ms/step - loss: 0.8916 - accuracy: 0.7028 - val_loss: 1.2531 - val_accuracy: 0.5926\n",
      "Epoch 19/25\n",
      "1407/1407 [==============================] - 20s 14ms/step - loss: 0.8876 - accuracy: 0.7045 - val_loss: 1.2563 - val_accuracy: 0.5992\n",
      "Epoch 20/25\n",
      "1407/1407 [==============================] - 20s 14ms/step - loss: 0.8793 - accuracy: 0.7060 - val_loss: 1.2627 - val_accuracy: 0.5974\n",
      "Epoch 21/25\n",
      "1407/1407 [==============================] - 20s 14ms/step - loss: 0.8721 - accuracy: 0.7094 - val_loss: 1.2726 - val_accuracy: 0.5940\n",
      "Epoch 22/25\n",
      "1407/1407 [==============================] - 22s 16ms/step - loss: 0.8678 - accuracy: 0.7093 - val_loss: 1.2678 - val_accuracy: 0.5992\n",
      "Epoch 23/25\n",
      "1407/1407 [==============================] - 20s 14ms/step - loss: 0.8623 - accuracy: 0.7109 - val_loss: 1.2809 - val_accuracy: 0.5980\n",
      "Epoch 24/25\n",
      "1407/1407 [==============================] - 20s 14ms/step - loss: 0.8555 - accuracy: 0.7151 - val_loss: 1.2795 - val_accuracy: 0.5934\n",
      "Epoch 25/25\n",
      "1407/1407 [==============================] - 20s 14ms/step - loss: 0.8499 - accuracy: 0.7168 - val_loss: 1.2832 - val_accuracy: 0.5942\n"
     ]
    }
   ],
   "source": [
    "model_vgg_transfer_learning.compile(optimizer='adam',\n",
    "                                    loss=['categorical_crossentropy'], \n",
    "                                    metrics=['accuracy'])\n",
    "\n",
    "history_transfer_learning = model_vgg_transfer_learning.fit(x_train_cifar, \n",
    "                                y_train_categorical_cifar,\n",
    "                                batch_size=32, validation_split=0.1,\n",
    "                                epochs=25)"
   ]
  },
  {
   "cell_type": "code",
   "execution_count": 46,
   "id": "5c91e093",
   "metadata": {},
   "outputs": [
    {
     "data": {
      "image/png": "[encoded data removed]",
      "text/plain": [
       "<Figure size 864x288 with 2 Axes>"
      ]
     },
     "metadata": {
      "needs_background": "light"
     },
     "output_type": "display_data"
    }
   ],
   "source": [
    "plot_history(history_transfer_learning)"
   ]
  },
  {
   "cell_type": "markdown",
   "id": "d579570b",
   "metadata": {},
   "source": [
    "We again see that from the start the model tends to overfit because the accuracy is tending to go higher but for validation set the accuracy is not changing well and in loss is the same behaviour (training loss is decreasing but validation loss is increasing)\n",
    "\n",
    "**Fine tuning the model:** To fine tune the transfer learning model we need to learn the pre-train model with a small learning rate and low count epochs."
   ]
  },
  {
   "cell_type": "code",
   "execution_count": 47,
   "id": "ad75338f",
   "metadata": {},
   "outputs": [],
   "source": [
    "base_model.trainable = True"
   ]
  },
  {
   "cell_type": "code",
   "execution_count": 50,
   "id": "0c8fa323",
   "metadata": {},
   "outputs": [
    {
     "name": "stdout",
     "output_type": "stream",
     "text": [
      "Epoch 1/10\n",
      "1407/1407 [==============================] - 165s 116ms/step - loss: 0.9401 - accuracy: 0.6826 - val_loss: 0.9381 - val_accuracy: 0.6844\n",
      "Epoch 2/10\n",
      "1407/1407 [==============================] - 53s 38ms/step - loss: 0.7358 - accuracy: 0.7518 - val_loss: 0.7828 - val_accuracy: 0.7454\n",
      "Epoch 3/10\n",
      "1407/1407 [==============================] - 53s 38ms/step - loss: 0.6062 - accuracy: 0.7991 - val_loss: 0.7455 - val_accuracy: 0.7654\n",
      "Epoch 4/10\n",
      "1407/1407 [==============================] - 54s 38ms/step - loss: 0.5140 - accuracy: 0.8310 - val_loss: 0.7059 - val_accuracy: 0.7734\n",
      "Epoch 5/10\n",
      "1407/1407 [==============================] - 54s 38ms/step - loss: 0.4303 - accuracy: 0.8602 - val_loss: 0.6925 - val_accuracy: 0.7832\n",
      "Epoch 6/10\n",
      "1407/1407 [==============================] - 54s 39ms/step - loss: 0.3670 - accuracy: 0.8846 - val_loss: 0.6722 - val_accuracy: 0.7922\n",
      "Epoch 7/10\n",
      "1407/1407 [==============================] - 54s 38ms/step - loss: 0.3161 - accuracy: 0.9034 - val_loss: 0.6563 - val_accuracy: 0.7994\n",
      "Epoch 8/10\n",
      "1407/1407 [==============================] - 54s 39ms/step - loss: 0.2674 - accuracy: 0.9214 - val_loss: 0.6968 - val_accuracy: 0.7930\n",
      "Epoch 9/10\n",
      "1407/1407 [==============================] - 55s 39ms/step - loss: 0.2356 - accuracy: 0.9334 - val_loss: 0.6980 - val_accuracy: 0.7972\n",
      "Epoch 10/10\n",
      "1407/1407 [==============================] - 55s 39ms/step - loss: 0.2096 - accuracy: 0.9425 - val_loss: 0.6740 - val_accuracy: 0.8016\n"
     ]
    }
   ],
   "source": [
    "model_vgg_transfer_learning.compile(\n",
    "    optimizer=keras.optimizers.Adam(1e-5),\n",
    "    loss=keras.losses.categorical_crossentropy,\n",
    "    metrics=['accuracy']\n",
    ")\n",
    "\n",
    "history_transfer_learning_fine_tune = model_vgg_transfer_learning.fit(\n",
    "    x_train_cifar, \n",
    "    y_train_categorical_cifar,\n",
    "    batch_size=32,\n",
    "    validation_split=0.1,\n",
    "    epochs=10\n",
    ")"
   ]
  },
  {
   "cell_type": "code",
   "execution_count": 51,
   "id": "d38b433d",
   "metadata": {},
   "outputs": [
    {
     "data": {
      "image/png": "[encoded data removed]",
      "text/plain": [
       "<Figure size 864x288 with 2 Axes>"
      ]
     },
     "metadata": {
      "needs_background": "light"
     },
     "output_type": "display_data"
    }
   ],
   "source": [
    "plot_history(history_transfer_learning_fine_tune)"
   ]
  },
  {
   "cell_type": "markdown",
   "id": "ab5c56f8",
   "metadata": {},
   "source": [
    "In the result of fine tuning we can see that exactly the performance of validation set with training set is increasing and this shows that the overfit effect here is vanished. Let's see how this works with the test set."
   ]
  },
  {
   "cell_type": "code",
   "execution_count": 53,
   "id": "d5f8ea57",
   "metadata": {},
   "outputs": [
    {
     "name": "stdout",
     "output_type": "stream",
     "text": [
      "313/313 [==============================] - 3s 11ms/step - loss: 0.7162 - accuracy: 0.7908\n",
      "test accuracy: 0.7907999753952026, test loss: 0.7161977291107178\n"
     ]
    }
   ],
   "source": [
    "test_loss, test_acc = model_vgg_transfer_learning.evaluate(x_test_cifar, y_test_cifar_categorical_cifar)\n",
    "print(f'test accuracy: {test_acc}, test loss: {test_loss}')"
   ]
  },
  {
   "cell_type": "markdown",
   "id": "05e067c0",
   "metadata": {},
   "source": [
    "And finally our model is working well, let's save it to be able to use it after re-running everything."
   ]
  },
  {
   "cell_type": "code",
   "execution_count": 54,
   "id": "d75863bf",
   "metadata": {},
   "outputs": [],
   "source": [
    "model_vgg_transfer_learning.save('Cifar_transfer_learning_model.h5')"
   ]
  },
  {
   "cell_type": "markdown",
   "id": "f837a4bd",
   "metadata": {},
   "source": [
    "## Part c\n",
    "What is dropout technique, try this technique on previous models and see the results."
   ]
  },
  {
   "cell_type": "markdown",
   "id": "2a8d2b2d",
   "metadata": {},
   "source": [
    "First to define what drop out is, according to https://www.tensorflow.org/api_docs/python/tf/keras/layers/Dropout we can say that drop out randomly sets inputs to zero while training time with a rate of 0 to 1. Via this definition we can conclude that using drop out will reduce the performance of model. Reducing performance can help us to reduce overfit and by this method we can make the chance of overfitting less."
   ]
  },
  {
   "cell_type": "markdown",
   "id": "8d448bd0",
   "metadata": {},
   "source": [
    "Let's try this method for part b, where we had an overfit."
   ]
  },
  {
   "cell_type": "code",
   "execution_count": 10,
   "id": "99cd1ac6",
   "metadata": {},
   "outputs": [
    {
     "name": "stdout",
     "output_type": "stream",
     "text": [
      "Model: \"sequential_1\"\n",
      "_________________________________________________________________\n",
      " Layer (type)                Output Shape              Param #   \n",
      "=================================================================\n",
      " vgg16 (Functional)          (None, 1, 1, 512)         14714688  \n",
      "                                                                 \n",
      " flatten_1 (Flatten)         (None, 512)               0         \n",
      "                                                                 \n",
      " dense_3 (Dense)             (None, 64)                32832     \n",
      "                                                                 \n",
      " dense_4 (Dense)             (None, 32)                2080      \n",
      "                                                                 \n",
      " dropout_1 (Dropout)         (None, 32)                0         \n",
      "                                                                 \n",
      " dense_5 (Dense)             (None, 10)                330       \n",
      "                                                                 \n",
      "=================================================================\n",
      "Total params: 14,749,930\n",
      "Trainable params: 35,242\n",
      "Non-trainable params: 14,714,688\n",
      "_________________________________________________________________\n"
     ]
    }
   ],
   "source": [
    "base_model = keras.applications.vgg16.VGG16(weights='imagenet', \n",
    "                                            include_top=False,\n",
    "                                            input_shape=(32,32, 3))\n",
    "base_model.trainable = False\n",
    "\n",
    "model_vgg_transfer_learning_partC = keras.models.Sequential([\n",
    "    base_model,\n",
    "    keras.layers.Flatten(),\n",
    "    keras.layers.Dense(64, activation='relu'),\n",
    "    keras.layers.Dense(32, activation='softmax'),\n",
    "    keras.layers.Dropout(0.2),\n",
    "    keras.layers.Dense(10, activation='softmax'),\n",
    "])\n",
    "\n",
    "model_vgg_transfer_learning_partC.summary()"
   ]
  },
  {
   "cell_type": "code",
   "execution_count": 11,
   "id": "77f3673e",
   "metadata": {},
   "outputs": [
    {
     "name": "stderr",
     "output_type": "stream",
     "text": [
      "2022-06-13 19:21:54.392707: W tensorflow/core/framework/cpu_allocator_impl.cc:82] Allocation of 552960000 exceeds 10% of free system memory.\n",
      "2022-06-13 19:21:54.693979: W tensorflow/core/framework/cpu_allocator_impl.cc:82] Allocation of 552960000 exceeds 10% of free system memory.\n"
     ]
    },
    {
     "name": "stdout",
     "output_type": "stream",
     "text": [
      "Epoch 1/25\n"
     ]
    },
    {
     "name": "stderr",
     "output_type": "stream",
     "text": [
      "2022-06-13 19:21:56.715388: I tensorflow/stream_executor/cuda/cuda_dnn.cc:366] Loaded cuDNN version 8302\n"
     ]
    },
    {
     "name": "stdout",
     "output_type": "stream",
     "text": [
      "1407/1407 [==============================] - 21s 12ms/step - loss: 1.9913 - accuracy: 0.3129 - val_loss: 1.7452 - val_accuracy: 0.4146\n",
      "Epoch 2/25\n",
      "1407/1407 [==============================] - 16s 12ms/step - loss: 1.7424 - accuracy: 0.3695 - val_loss: 1.5814 - val_accuracy: 0.4382\n",
      "Epoch 3/25\n",
      "1407/1407 [==============================] - 17s 12ms/step - loss: 1.6489 - accuracy: 0.3994 - val_loss: 1.5220 - val_accuracy: 0.4722\n",
      "Epoch 4/25\n",
      "1407/1407 [==============================] - 16s 12ms/step - loss: 1.5874 - accuracy: 0.4303 - val_loss: 1.4347 - val_accuracy: 0.5176\n",
      "Epoch 5/25\n",
      "1407/1407 [==============================] - 17s 12ms/step - loss: 1.5358 - accuracy: 0.4496 - val_loss: 1.3948 - val_accuracy: 0.5394\n",
      "Epoch 6/25\n",
      "1407/1407 [==============================] - 16s 11ms/step - loss: 1.4921 - accuracy: 0.4723 - val_loss: 1.3278 - val_accuracy: 0.5642\n",
      "Epoch 7/25\n",
      "1407/1407 [==============================] - 16s 12ms/step - loss: 1.4414 - accuracy: 0.5008 - val_loss: 1.2971 - val_accuracy: 0.5830\n",
      "Epoch 8/25\n",
      "1407/1407 [==============================] - 17s 12ms/step - loss: 1.4113 - accuracy: 0.5136 - val_loss: 1.2833 - val_accuracy: 0.5836\n",
      "Epoch 9/25\n",
      "1407/1407 [==============================] - 15s 11ms/step - loss: 1.3798 - accuracy: 0.5231 - val_loss: 1.2595 - val_accuracy: 0.5874\n",
      "Epoch 10/25\n",
      "1407/1407 [==============================] - 16s 11ms/step - loss: 1.3516 - accuracy: 0.5351 - val_loss: 1.2264 - val_accuracy: 0.6044\n",
      "Epoch 11/25\n",
      "1407/1407 [==============================] - 17s 12ms/step - loss: 1.3250 - accuracy: 0.5457 - val_loss: 1.2104 - val_accuracy: 0.6074\n",
      "Epoch 12/25\n",
      "1407/1407 [==============================] - 17s 12ms/step - loss: 1.2993 - accuracy: 0.5536 - val_loss: 1.1977 - val_accuracy: 0.6024\n",
      "Epoch 13/25\n",
      "1407/1407 [==============================] - 17s 12ms/step - loss: 1.2840 - accuracy: 0.5627 - val_loss: 1.2128 - val_accuracy: 0.5974\n",
      "Epoch 14/25\n",
      "1407/1407 [==============================] - 15s 10ms/step - loss: 1.2651 - accuracy: 0.5694 - val_loss: 1.1914 - val_accuracy: 0.6030\n",
      "Epoch 15/25\n",
      "1407/1407 [==============================] - 15s 11ms/step - loss: 1.2434 - accuracy: 0.5819 - val_loss: 1.1730 - val_accuracy: 0.6152\n",
      "Epoch 16/25\n",
      "1407/1407 [==============================] - 16s 11ms/step - loss: 1.2196 - accuracy: 0.5947 - val_loss: 1.1662 - val_accuracy: 0.6144\n",
      "Epoch 17/25\n",
      "1407/1407 [==============================] - 15s 11ms/step - loss: 1.1993 - accuracy: 0.6054 - val_loss: 1.1578 - val_accuracy: 0.6124\n",
      "Epoch 18/25\n",
      "1407/1407 [==============================] - 15s 11ms/step - loss: 1.1767 - accuracy: 0.6126 - val_loss: 1.1658 - val_accuracy: 0.6126\n",
      "Epoch 19/25\n",
      "1407/1407 [==============================] - 15s 11ms/step - loss: 1.1584 - accuracy: 0.6187 - val_loss: 1.1519 - val_accuracy: 0.6090\n",
      "Epoch 20/25\n",
      "1407/1407 [==============================] - 16s 12ms/step - loss: 1.1450 - accuracy: 0.6232 - val_loss: 1.1580 - val_accuracy: 0.6152\n",
      "Epoch 21/25\n",
      "1407/1407 [==============================] - 16s 12ms/step - loss: 1.1266 - accuracy: 0.6316 - val_loss: 1.1584 - val_accuracy: 0.6124\n",
      "Epoch 22/25\n",
      "1407/1407 [==============================] - 16s 12ms/step - loss: 1.1167 - accuracy: 0.6359 - val_loss: 1.1656 - val_accuracy: 0.6116\n",
      "Epoch 23/25\n",
      "1407/1407 [==============================] - 17s 12ms/step - loss: 1.1031 - accuracy: 0.6403 - val_loss: 1.1689 - val_accuracy: 0.6092\n",
      "Epoch 24/25\n",
      "1407/1407 [==============================] - 16s 11ms/step - loss: 1.0889 - accuracy: 0.6456 - val_loss: 1.1656 - val_accuracy: 0.6122\n",
      "Epoch 25/25\n",
      "1407/1407 [==============================] - 16s 11ms/step - loss: 1.0764 - accuracy: 0.6501 - val_loss: 1.1635 - val_accuracy: 0.6134\n"
     ]
    }
   ],
   "source": [
    "model_vgg_transfer_learning_partC.compile(optimizer='adam',\n",
    "                                    loss=['categorical_crossentropy'], \n",
    "                                    metrics=['accuracy'])\n",
    "\n",
    "history_transfer_learning_partC = model_vgg_transfer_learning_partC.fit(x_train_cifar, \n",
    "                                y_train_categorical_cifar,\n",
    "                                batch_size=32, validation_split=0.1,\n",
    "                                epochs=25)"
   ]
  },
  {
   "cell_type": "code",
   "execution_count": 13,
   "id": "c52da33a",
   "metadata": {},
   "outputs": [
    {
     "data": {
      "image/png": "[encoded data removed]",
      "text/plain": [
       "<Figure size 864x288 with 2 Axes>"
      ]
     },
     "metadata": {
      "needs_background": "light"
     },
     "output_type": "display_data"
    }
   ],
   "source": [
    "plot_history(history_transfer_learning_partC)"
   ]
  },
  {
   "cell_type": "markdown",
   "id": "8bed119f",
   "metadata": {},
   "source": [
    "As we had in part b, berfore fine tuning the training accuracy got to about 80 percent but the validation set couldn't achive the training accuracy and by the time training goes higher, the validation accuracy drops. \n",
    "\n",
    "Here we can see exactly that the validation accuracy and training accuracy is mostly the same because we've limited the training neurons using the drop out layer. Also the validation accuracy didn't drops at all (we didn't have overfitting).\n",
    "\n",
    "To explain the higher accuracy (and lower loss) for the validation set, we can say that using drop out layer in training phase limited our performance and in the validation phase the drop out layer wasn't zeroing values, So using the facts said it is possible to have lower classification rate for training set than the validation."
   ]
  },
  {
   "cell_type": "markdown",
   "id": "52eb0982",
   "metadata": {},
   "source": [
    "## Part d\n",
    "Explain what is data augmentation is and apply it on the dataset and see how it appears on model performance."
   ]
  },
  {
   "cell_type": "code",
   "execution_count": null,
   "id": "daa5e29a",
   "metadata": {},
   "outputs": [],
   "source": []
  }
 ],
 "metadata": {
  "kernelspec": {
   "display_name": "Python 3 (ipykernel)",
   "language": "python",
   "name": "python3"
  },
  "language_info": {
   "codemirror_mode": {
    "name": "ipython",
    "version": 3
   },
   "file_extension": ".py",
   "mimetype": "text/x-python",
   "name": "python",
   "nbconvert_exporter": "python",
   "pygments_lexer": "ipython3",
   "version": "3.8.10"
  }
 },
 "nbformat": 4,
 "nbformat_minor": 5
}
