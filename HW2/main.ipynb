{
 "cells": [
  {
   "cell_type": "markdown",
   "metadata": {},
   "source": [
    "# Homework no.2\n",
    "**Student name:** Mohammad Amin Dadgar <br>\n",
    "**Student Id:** 4003624016"
   ]
  },
  {
   "cell_type": "code",
   "execution_count": 1,
   "metadata": {},
   "outputs": [],
   "source": [
    "import numpy as np\n",
    "import matplotlib.pyplot as plt"
   ]
  },
  {
   "cell_type": "markdown",
   "metadata": {},
   "source": [
    "# Q1\n",
    "Using the training set below answer these question.\n",
    "\\begin{equation}\n",
    "\\text{Training Set }= \\{(0.5, 2), (0.7, 3),(1, 8), (1.5, 10), (2, 10.3), (2.7, 5.5), (3, 8), (3.3, 11), (4, 10.2), (4.3, 12)\\}\n",
    "\\end{equation}\n",
    "Each data is $(x_i, y_i)$"
   ]
  },
  {
   "cell_type": "markdown",
   "metadata": {},
   "source": [
    "## P1\n",
    "fit the model $y=ax^2+bx+c$ on the given dataset and name the model as model_1. This means\n",
    "\\begin{equation}\n",
    "\\phi_1(x) = \n",
    "\\begin{bmatrix}\n",
    "1 \\\\\n",
    "x \\\\\n",
    "x^2 \\\\\n",
    "\\end{bmatrix}\n",
    "\\end{equation}\n",
    "And the weights matrix is\n",
    "\\begin{equation}\n",
    "W_1 = \n",
    "\\begin{bmatrix}\n",
    "c \\\\\n",
    "b \\\\\n",
    "a \\\\\n",
    "\\end{bmatrix}\n",
    "\\end{equation}"
   ]
  },
  {
   "cell_type": "code",
   "execution_count": 2,
   "metadata": {},
   "outputs": [],
   "source": [
    "def model_1(training_set):\n",
    "    \"\"\"\n",
    "    Linear Regression using quadratic function as the kernel function\n",
    "\n",
    "    \n",
    "    Parameters:\n",
    "    -----------\n",
    "    training_set : array of tuples\n",
    "        array of `x_i` and `y_i`\n",
    "        `x` the input variables\n",
    "        `y` are the output variables\n",
    "        \n",
    "    Returns:\n",
    "    ----------\n",
    "    w : matrix_like\n",
    "        the matrix of learned weights\n",
    "    \"\"\"\n",
    "    ## Extract the X values and covert them using kernel function\n",
    "    X = np.array(training_set)[:, 0]\n",
    "    X = np.matrix(X).T\n",
    "    \n",
    "    ## apply the quadratic function to input data\n",
    "    X_phi = kernel_Quadratic(X)\n",
    "    ## extract the outputs\n",
    "    Y = np.array(training_set)[:, 1]\n",
    "    Y = np.matrix(Y)\n",
    "\n",
    "    ## the `A` and `b` parameters of a Linear Regression function\n",
    "    A = X_phi @ X_phi.T\n",
    "    b = np.multiply(Y, X_phi)\n",
    "    b = np.sum(b, axis=1)\n",
    "    \n",
    "    w = np.dot(np.linalg.inv(A), b)\n",
    "    return w\n",
    "    \n",
    "    \n",
    "def kernel_Quadratic(X):\n",
    "    \"\"\"\n",
    "    The quadratic kernel function\n",
    "    \n",
    "    Parameters:\n",
    "    -----------\n",
    "    X : array_like\n",
    "        the variables to be converted\n",
    "   \n",
    "    Returns:\n",
    "    --------\n",
    "    phi : array_like\n",
    "        the quadratic function applied to `X`\n",
    "    \"\"\"\n",
    "    ## first convert to a numpy array and copy it\n",
    "    X_new = np.array(X).copy()\n",
    "    \n",
    "    ones_arr = np.ones(len(X))\n",
    "    ones_arr = np.matrix(ones_arr)\n",
    "    \n",
    "    X_power_2 = np.power(X_new, 2)\n",
    "\n",
    "    phi = np.vstack((ones_arr, X_new.T, X_power_2.T))\n",
    "    \n",
    "    return phi"
   ]
  },
  {
   "cell_type": "code",
   "execution_count": 3,
   "metadata": {},
   "outputs": [],
   "source": [
    "train = [(0.5,2),(0.7,3),(1,8),(1.5,10),(2,10.3),(2.7,5.5),(3,8),(3.3,11),(4,10.2),(4.3,12)]\n",
    "train = np.array(train)"
   ]
  },
  {
   "cell_type": "code",
   "execution_count": 4,
   "metadata": {},
   "outputs": [
    {
     "data": {
      "text/plain": [
       "matrix([[ 1.94132333],\n",
       "        [ 4.13814418],\n",
       "        [-0.49656258]])"
      ]
     },
     "execution_count": 4,
     "metadata": {},
     "output_type": "execute_result"
    }
   ],
   "source": [
    "model1_weight = model_1(train)\n",
    "model1_weight"
   ]
  },
  {
   "cell_type": "markdown",
   "metadata": {},
   "source": [
    "## P2\n",
    "fit the model $y=ax^2+bx+c$ on the given dataset and name the model as model_1. This means\n",
    "\\begin{equation}\n",
    "\\phi_2(x) = \n",
    "\\begin{bmatrix}\n",
    "1 \\\\\n",
    "x \\\\\n",
    "x^2 \\\\\n",
    "x^3 \\\\\n",
    "\\end{bmatrix}\n",
    "\\end{equation}\n",
    "And the weights matrix is\n",
    "\\begin{equation}\n",
    "W_2 = \n",
    "\\begin{bmatrix}\n",
    "d \\\\\n",
    "c \\\\\n",
    "b \\\\\n",
    "a \\\\\n",
    "\\end{bmatrix}\n",
    "\\end{equation}"
   ]
  },
  {
   "cell_type": "code",
   "execution_count": 5,
   "metadata": {},
   "outputs": [],
   "source": [
    "def mode_2(training_set):\n",
    "    \"\"\"\n",
    "    Linear Regression function using ```ax^3 + bx^2 + cx + d``` as kernel function\n",
    "    \n",
    "    Parameters:\n",
    "    -----------\n",
    "    training_set : array of tuples\n",
    "        array of `x_i` and `y_i`\n",
    "        `x` the input variables\n",
    "        `y` are the output variables\n",
    "        \n",
    "    Returns:\n",
    "    ----------\n",
    "    w : matrix_like\n",
    "        the matrix of learned weights\n",
    "    \"\"\"\n",
    "\n",
    "    ## Extract the X values and covert them using kernel function\n",
    "    X = np.array(training_set)[:, 0]\n",
    "    X = np.matrix(X).T\n",
    "    \n",
    "    ## apply the quadratic function to input data\n",
    "    X_phi = kernel_cubic(X)\n",
    "    ## extract the outputs\n",
    "    Y = np.array(training_set)[:, 1]\n",
    "    Y = np.matrix(Y)\n",
    "\n",
    "    ## the `A` and `b` parameters of a Linear Regression function\n",
    "    A = X_phi @ X_phi.T\n",
    "    b = np.multiply(Y, X_phi)\n",
    "    b = np.sum(b, axis=1)\n",
    "    \n",
    "    w = np.dot(np.linalg.inv(A), b)\n",
    "    return w\n",
    "\n",
    "def kernel_cubic(X):\n",
    "    \"\"\"\n",
    "    The cubic function\n",
    "    \n",
    "    \n",
    "    Parameters:\n",
    "    -----------\n",
    "    X : array_like\n",
    "        the variables to be converted\n",
    "        \n",
    "    Returns:\n",
    "    --------\n",
    "    phi : array_like\n",
    "        the quadratic function applied to `X`\n",
    "    \"\"\"\n",
    "    \n",
    "    ## first convert to a numpy array and copy it\n",
    "    X_new = np.array(X).copy()\n",
    "    \n",
    "    ones_arr = np.ones(len(X))\n",
    "    ones_arr = np.matrix(ones_arr)\n",
    "    \n",
    "    X_power_2 = np.power(X_new, 2)\n",
    "    X_power_3 = np.power(X_new, 3)\n",
    "\n",
    "    phi = np.vstack((ones_arr, X_new.T, X_power_2.T, X_power_3.T))\n",
    "    \n",
    "    return phi"
   ]
  },
  {
   "cell_type": "code",
   "execution_count": 6,
   "metadata": {},
   "outputs": [
    {
     "data": {
      "text/plain": [
       "matrix([[-7.33397387],\n",
       "        [22.63114975],\n",
       "        [-9.53106286],\n",
       "        [ 1.24181752]])"
      ]
     },
     "execution_count": 6,
     "metadata": {},
     "output_type": "execute_result"
    }
   ],
   "source": [
    "model2_weight = mode_2(train)\n",
    "model2_weight"
   ]
  },
  {
   "cell_type": "markdown",
   "metadata": {},
   "source": [
    "## P3\n",
    "Calculate the MSE for $\\text{model}_1$ and $\\text{model}_2$ using the dataset below\n",
    "\\begin{equation}\n",
    "\\text{Test set }= \\{(3.8, 12.9), (1, 9),(2, 8), (1.9, 9), (1.5, 7), (1.6, 9.5), (1.2, 10), (3.3, 11), (1.5, 11), (4, 6)\\}\n",
    "\\end{equation}\n",
    "\\end{equation}"
   ]
  },
  {
   "cell_type": "code",
   "execution_count": 14,
   "metadata": {},
   "outputs": [
    {
     "data": {
      "text/plain": [
       "array([[ 3.8, 12.9],\n",
       "       [ 1. ,  9. ],\n",
       "       [ 2. ,  8. ],\n",
       "       [ 1.9,  9. ],\n",
       "       [ 1.5,  7. ],\n",
       "       [ 1.6,  9.5],\n",
       "       [ 1.2, 10. ],\n",
       "       [ 3.3, 11. ],\n",
       "       [ 1.5, 11. ],\n",
       "       [ 4. ,  6. ]])"
      ]
     },
     "execution_count": 14,
     "metadata": {},
     "output_type": "execute_result"
    }
   ],
   "source": [
    "test = np.array(((3.8, 12.9), (1, 9),(2, 8), (1.9, 9), \n",
    "                    (1.5, 7), (1.6, 9.5), (1.2, 10), (3.3, 11),\n",
    "                    (1.5, 11), (4, 6)))\n",
    "test"
   ]
  },
  {
   "cell_type": "code",
   "execution_count": 8,
   "metadata": {},
   "outputs": [],
   "source": [
    "## applying model_1\n",
    "def model_predict(weights, data, **kwargs):\n",
    "    \"\"\"\n",
    "    predict the output of a model in this question \n",
    "    using the trained weights for the data\n",
    "    \n",
    "    the desired model can be selected using the quadratic or the cubic parameter\n",
    "    \n",
    "    Parameters:\n",
    "    ------------\n",
    "    weights : array_like\n",
    "        the learned parameters for model1\n",
    "    data : array or scaler\n",
    "        the desired data for prediction task\n",
    "    kwargs : \n",
    "        quadratics : use the model_1 in this question \n",
    "        cubic : use the model_2 in this question\n",
    "        \n",
    "    **NOTE:** one of the parameters can be choosed!\n",
    "    **NOTE:** any value can be passed to kwargs, there is no difference in that. (because the value would not be used)\n",
    "    \n",
    "    Returns:\n",
    "    --------\n",
    "    prediction : array or scaler\n",
    "        the predicted output value for the input data\n",
    "    \"\"\"\n",
    "    \n",
    "    ## first we need to apply the transformation for the data \n",
    "    ## as the learned parameters are trained using the transformation\n",
    "    if 'quadratics' in kwargs and 'cubic' in kwargs:\n",
    "        raise ValueError(\"Both parameters cannot be chosen! They have different behaviour\")\n",
    "    elif 'quadratics' in kwargs:\n",
    "        data_phi = kernel_Quadratic(data) \n",
    "    elif 'cubic' in kwargs:\n",
    "        data_phi = kernel_cubic(data) \n",
    "    else:\n",
    "        raise ValueError(\"no parameters cubic or quadratics was chosen!\")\n",
    "        \n",
    "    prediction = np.matrix(weights).T @ data_phi\n",
    "    \n",
    "    return prediction"
   ]
  },
  {
   "cell_type": "code",
   "execution_count": 12,
   "metadata": {},
   "outputs": [],
   "source": [
    "def calculate_MSE(true_outputs, predicted_outputs):\n",
    "    \"\"\"\n",
    "    calculate the Mean Squared Error for the predicted data\n",
    "    \n",
    "    Parameters:\n",
    "    ------------\n",
    "    true_outputs : array_like \n",
    "        the actual output of the data\n",
    "    predicted_outputs : array_like\n",
    "        the predicted outputs for the data\n",
    "        \n",
    "    Returns:\n",
    "    ---------\n",
    "    mse_value : float\n",
    "        the mean squared error value\n",
    "    \"\"\"\n",
    "    \n",
    "    ## the difference \n",
    "    diff = predicted_outputs - true_outputs\n",
    "    ## squeare the difference\n",
    "    diff = np.power(diff, 2)\n",
    "    \n",
    "    ## find the mean value\n",
    "    mse_value = np.mean(diff)\n",
    "    \n",
    "    return mse_value\n",
    "    "
   ]
  },
  {
   "cell_type": "code",
   "execution_count": 15,
   "metadata": {},
   "outputs": [],
   "source": [
    "pred_model1_test = model_predict(model1_weight, test[:, 0], quadratics='True')\n",
    "pred_model2_test = model_predict(model2_weight, test[:, 0], cubic='True')"
   ]
  },
  {
   "cell_type": "code",
   "execution_count": 16,
   "metadata": {},
   "outputs": [
    {
     "name": "stdout",
     "output_type": "stream",
     "text": [
      "MSE for model1 is 7.496789449073051\n",
      "MSE for model2 is 5.812331603917104\n"
     ]
    }
   ],
   "source": [
    "mse_model1 = calculate_MSE(test[:, 1], pred_model1_test)\n",
    "mse_model2 = calculate_MSE(test[:, 1], pred_model2_test)\n",
    "print(f'MSE for model1 is {mse_model1}')\n",
    "print(f'MSE for model2 is {mse_model2}')"
   ]
  },
  {
   "cell_type": "markdown",
   "metadata": {},
   "source": [
    "## P4"
   ]
  },
  {
   "cell_type": "markdown",
   "metadata": {},
   "source": [
    "To find the T value for our datasets we need to use the equation below\n",
    "\\begin{equation}\n",
    "T = \\frac{mean_1 - mean_2}{\\frac{std(diffrences)}{\\sqrt{n}}}\n",
    "\\end{equation}\n",
    "refrence: https://www.investopedia.com/terms/t/t-test.asp"
   ]
  },
  {
   "cell_type": "code",
   "execution_count": 17,
   "metadata": {},
   "outputs": [],
   "source": [
    "def calculate_T_value(dataset1, dataset2):\n",
    "    \"\"\"\n",
    "    Find the T-value for two datasets\n",
    "    \n",
    "    Parameters:\n",
    "    ------------\n",
    "    dataset1 : array_of_Tuples\n",
    "        (`x_i`, `y_i`) data, `x` representing data and `y` representig label\n",
    "    dataset2 : array_of_Tuples\n",
    "        (`x_i`, `y_i`) data, `x` representing data and `y` representig label\n",
    "\n",
    "    Returns:\n",
    "    ---------\n",
    "    T_value : float\n",
    "        the T value for datasets\n",
    "    \"\"\"\n",
    "    ## convert to numpy array for ease of use\n",
    "    set1 = np.array(dataset1)\n",
    "    set2 = np.array(dataset2)\n",
    "    \n",
    "    ## calculate the medians\n",
    "    m1 = np.mean(set1[:, 1])\n",
    "    m2 = np.mean(set2[:, 1])\n",
    "    \n",
    "    ## find the differences\n",
    "    diff = set1[:, 1] - set2[:, 1]\n",
    "    \n",
    "    ## below the division\n",
    "    below = np.std(diff) / np.sqrt(len(diff))\n",
    "    \n",
    "    above = m1 - m2\n",
    "    \n",
    "    T_value = above / below\n",
    "    \n",
    "    return T_value"
   ]
  },
  {
   "cell_type": "code",
   "execution_count": 20,
   "metadata": {},
   "outputs": [
    {
     "data": {
      "text/plain": [
       "-0.9350212787977713"
      ]
     },
     "execution_count": 20,
     "metadata": {},
     "output_type": "execute_result"
    }
   ],
   "source": [
    "calculate_T_value(train, test)"
   ]
  },
  {
   "cell_type": "code",
   "execution_count": 28,
   "metadata": {},
   "outputs": [],
   "source": [
    "z = (train[:, 1] - np.mean(train[:, 1]- test[:, 1]) ) / np.std(train[:, 1] - test[:, 1])"
   ]
  },
  {
   "cell_type": "code",
   "execution_count": 30,
   "metadata": {},
   "outputs": [
    {
     "data": {
      "text/plain": [
       "2.0609315717988514"
      ]
     },
     "execution_count": 30,
     "metadata": {},
     "output_type": "execute_result"
    }
   ],
   "source": [
    "np.mean(z)"
   ]
  },
  {
   "cell_type": "markdown",
   "metadata": {},
   "source": [
    "TODO: As we can see the value for T-test is about `-0.935` and it is not out of the [-1.96, 1.96]. So we can say that the "
   ]
  }
 ],
 "metadata": {
  "interpreter": {
   "hash": "7d67561925ab75f1be6d9f7b02ddab3cd959964be1d904e1c7cc579803053fb1"
  },
  "kernelspec": {
   "display_name": "Python 3 (ipykernel)",
   "language": "python",
   "name": "python3"
  },
  "language_info": {
   "codemirror_mode": {
    "name": "ipython",
    "version": 3
   },
   "file_extension": ".py",
   "mimetype": "text/x-python",
   "name": "python",
   "nbconvert_exporter": "python",
   "pygments_lexer": "ipython3",
   "version": "3.8.10"
  }
 },
 "nbformat": 4,
 "nbformat_minor": 4
}
