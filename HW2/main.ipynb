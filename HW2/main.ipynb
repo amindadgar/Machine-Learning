{
 "cells": [
  {
   "cell_type": "markdown",
   "metadata": {},
   "source": [
    "# Homework no.2\n",
    "**Student name:** Mohammad Amin Dadgar <br>\n",
    "**Student Id:** 4003624016"
   ]
  },
  {
   "cell_type": "code",
   "execution_count": 1,
   "metadata": {},
   "outputs": [],
   "source": [
    "import numpy as np\n",
    "import matplotlib.pyplot as plt\n",
    "import pandas as pd\n",
    "import seaborn as sns\n",
    "\n",
    "from sklearn.cluster import KMeans "
   ]
  },
  {
   "cell_type": "markdown",
   "metadata": {},
   "source": [
    "# Q1\n",
    "Using the training set below answer these question.\n",
    "\\begin{equation}\n",
    "\\text{Training Set }= \\{(0.5, 2), (0.7, 3),(1, 8), (1.5, 10), (2, 10.3), (2.7, 5.5), (3, 8), (3.3, 11), (4, 10.2), (4.3, 12)\\}\n",
    "\\end{equation}\n",
    "Each data is $(x_i, y_i)$"
   ]
  },
  {
   "cell_type": "markdown",
   "metadata": {},
   "source": [
    "## P1\n",
    "fit the model $y=ax^2+bx+c$ on the given dataset and name the model as model_1. This means\n",
    "\\begin{equation}\n",
    "\\phi_1(x) = \n",
    "\\begin{bmatrix}\n",
    "1 \\\\\n",
    "x \\\\\n",
    "x^2 \\\\\n",
    "\\end{bmatrix}\n",
    "\\end{equation}\n",
    "And the weights matrix is\n",
    "\\begin{equation}\n",
    "W_1 = \n",
    "\\begin{bmatrix}\n",
    "c \\\\\n",
    "b \\\\\n",
    "a \\\\\n",
    "\\end{bmatrix}\n",
    "\\end{equation}"
   ]
  },
  {
   "cell_type": "code",
   "execution_count": 2,
   "metadata": {},
   "outputs": [],
   "source": [
    "def model_1(training_set):\n",
    "    \"\"\"\n",
    "    Linear Regression using quadratic function as the kernel function\n",
    "\n",
    "    \n",
    "    Parameters:\n",
    "    -----------\n",
    "    training_set : array of tuples\n",
    "        array of `x_i` and `y_i`\n",
    "        `x` the input variables\n",
    "        `y` are the output variables\n",
    "        \n",
    "    Returns:\n",
    "    ----------\n",
    "    w : matrix_like\n",
    "        the matrix of learned weights\n",
    "    \"\"\"\n",
    "    ## Extract the X values and covert them using kernel function\n",
    "    X = np.array(training_set)[:, 0]\n",
    "    X = np.matrix(X).T\n",
    "    \n",
    "    ## apply the quadratic function to input data\n",
    "    X_phi = kernel_Quadratic(X)\n",
    "    ## extract the outputs\n",
    "    Y = np.array(training_set)[:, 1]\n",
    "    Y = np.matrix(Y)\n",
    "\n",
    "    ## the `A` and `b` parameters of a Linear Regression function\n",
    "    A = X_phi @ X_phi.T\n",
    "    b = np.multiply(Y, X_phi)\n",
    "    b = np.sum(b, axis=1)\n",
    "    \n",
    "    w = np.dot(np.linalg.inv(A), b)\n",
    "    return w\n",
    "    \n",
    "    \n",
    "def kernel_Quadratic(X):\n",
    "    \"\"\"\n",
    "    The quadratic kernel function\n",
    "    \n",
    "    Parameters:\n",
    "    -----------\n",
    "    X : array_like\n",
    "        the variables to be converted\n",
    "   \n",
    "    Returns:\n",
    "    --------\n",
    "    phi : array_like\n",
    "        the quadratic function applied to `X`\n",
    "    \"\"\"\n",
    "    ## first convert to a numpy array and copy it\n",
    "    X_new = np.array(X).copy()\n",
    "    \n",
    "    ones_arr = np.ones(len(X))\n",
    "    ones_arr = np.matrix(ones_arr)\n",
    "    \n",
    "    X_power_2 = np.power(X_new, 2)\n",
    "\n",
    "    phi = np.vstack((ones_arr, X_new.T, X_power_2.T))\n",
    "    \n",
    "    return phi"
   ]
  },
  {
   "cell_type": "code",
   "execution_count": 3,
   "metadata": {},
   "outputs": [],
   "source": [
    "train = [(0.5,2),(0.7,3),(1,8),(1.5,10),(2,10.3),(2.7,5.5),(3,8),(3.3,11),(4,10.2),(4.3,12)]\n",
    "train = np.array(train)"
   ]
  },
  {
   "cell_type": "code",
   "execution_count": 4,
   "metadata": {},
   "outputs": [
    {
     "data": {
      "text/plain": [
       "matrix([[ 1.94132333],\n",
       "        [ 4.13814418],\n",
       "        [-0.49656258]])"
      ]
     },
     "execution_count": 4,
     "metadata": {},
     "output_type": "execute_result"
    }
   ],
   "source": [
    "model1_weight = model_1(train)\n",
    "model1_weight"
   ]
  },
  {
   "cell_type": "markdown",
   "metadata": {},
   "source": [
    "## P2\n",
    "fit the model $y=ax^3+bx^2+cx+d$ on the given dataset and name the model as model_2. This means\n",
    "\\begin{equation}\n",
    "\\phi_2(x) = \n",
    "\\begin{bmatrix}\n",
    "1 \\\\\n",
    "x \\\\\n",
    "x^2 \\\\\n",
    "x^3 \\\\\n",
    "\\end{bmatrix}\n",
    "\\end{equation}\n",
    "And the weights matrix is\n",
    "\\begin{equation}\n",
    "W_2 = \n",
    "\\begin{bmatrix}\n",
    "d \\\\\n",
    "c \\\\\n",
    "b \\\\\n",
    "a \\\\\n",
    "\\end{bmatrix}\n",
    "\\end{equation}"
   ]
  },
  {
   "cell_type": "code",
   "execution_count": 5,
   "metadata": {},
   "outputs": [],
   "source": [
    "def mode_2(training_set):\n",
    "    \"\"\"\n",
    "    Linear Regression function using ```ax^3 + bx^2 + cx + d``` as kernel function\n",
    "    \n",
    "    Parameters:\n",
    "    -----------\n",
    "    training_set : array of tuples\n",
    "        array of `x_i` and `y_i`\n",
    "        `x` the input variables\n",
    "        `y` are the output variables\n",
    "        \n",
    "    Returns:\n",
    "    ----------\n",
    "    w : matrix_like\n",
    "        the matrix of learned weights\n",
    "    \"\"\"\n",
    "\n",
    "    ## Extract the X values and covert them using kernel function\n",
    "    X = np.array(training_set)[:, 0]\n",
    "    X = np.matrix(X).T\n",
    "    \n",
    "    ## apply the quadratic function to input data\n",
    "    X_phi = kernel_cubic(X)\n",
    "    ## extract the outputs\n",
    "    Y = np.array(training_set)[:, 1]\n",
    "    Y = np.matrix(Y)\n",
    "\n",
    "    ## the `A` and `b` parameters of a Linear Regression function\n",
    "    A = X_phi @ X_phi.T\n",
    "    b = np.multiply(Y, X_phi)\n",
    "    b = np.sum(b, axis=1)\n",
    "    \n",
    "    w = np.dot(np.linalg.inv(A), b)\n",
    "    return w\n",
    "\n",
    "def kernel_cubic(X):\n",
    "    \"\"\"\n",
    "    The cubic function\n",
    "    \n",
    "    \n",
    "    Parameters:\n",
    "    -----------\n",
    "    X : array_like\n",
    "        the variables to be converted\n",
    "        \n",
    "    Returns:\n",
    "    --------\n",
    "    phi : array_like\n",
    "        the quadratic function applied to `X`\n",
    "    \"\"\"\n",
    "    \n",
    "    ## first convert to a numpy array and copy it\n",
    "    X_new = np.array(X).copy()\n",
    "    \n",
    "    ones_arr = np.ones(len(X))\n",
    "    ones_arr = np.matrix(ones_arr)\n",
    "    \n",
    "    X_power_2 = np.power(X_new, 2)\n",
    "    X_power_3 = np.power(X_new, 3)\n",
    "\n",
    "    phi = np.vstack((ones_arr, X_new.T, X_power_2.T, X_power_3.T))\n",
    "    \n",
    "    return phi"
   ]
  },
  {
   "cell_type": "code",
   "execution_count": 6,
   "metadata": {},
   "outputs": [
    {
     "data": {
      "text/plain": [
       "matrix([[-7.33397387],\n",
       "        [22.63114975],\n",
       "        [-9.53106286],\n",
       "        [ 1.24181752]])"
      ]
     },
     "execution_count": 6,
     "metadata": {},
     "output_type": "execute_result"
    }
   ],
   "source": [
    "model2_weight = mode_2(train)\n",
    "model2_weight"
   ]
  },
  {
   "cell_type": "markdown",
   "metadata": {},
   "source": [
    "## P3\n",
    "Calculate the MSE for $\\text{model}_1$ and $\\text{model}_2$ using the dataset below\n",
    "\\begin{equation}\n",
    "\\text{Test set }= \\{(3.8, 12.9), (1, 9),(2, 8), (1.9, 9), (1.5, 7), (1.6, 9.5), (1.2, 10), (3.3, 11), (1.5, 11), (4, 6)\\}\n",
    "\\end{equation}"
   ]
  },
  {
   "cell_type": "code",
   "execution_count": 7,
   "metadata": {},
   "outputs": [
    {
     "data": {
      "text/plain": [
       "array([[ 3.8, 12.9],\n",
       "       [ 1. ,  9. ],\n",
       "       [ 2. ,  8. ],\n",
       "       [ 1.9,  9. ],\n",
       "       [ 1.5,  7. ],\n",
       "       [ 1.6,  9.5],\n",
       "       [ 1.2, 10. ],\n",
       "       [ 3.3, 11. ],\n",
       "       [ 1.5, 11. ],\n",
       "       [ 4. ,  6. ]])"
      ]
     },
     "execution_count": 7,
     "metadata": {},
     "output_type": "execute_result"
    }
   ],
   "source": [
    "test = np.array(((3.8, 12.9), (1, 9),(2, 8), (1.9, 9), \n",
    "                    (1.5, 7), (1.6, 9.5), (1.2, 10), (3.3, 11),\n",
    "                    (1.5, 11), (4, 6)))\n",
    "test"
   ]
  },
  {
   "cell_type": "code",
   "execution_count": 8,
   "metadata": {},
   "outputs": [],
   "source": [
    "## applying model_1\n",
    "def model_predict(weights, data, **kwargs):\n",
    "    \"\"\"\n",
    "    predict the output of a model in this question \n",
    "    using the trained weights for the data\n",
    "    \n",
    "    the desired model can be selected using the quadratic or the cubic parameter\n",
    "    \n",
    "    Parameters:\n",
    "    ------------\n",
    "    weights : array_like\n",
    "        the learned parameters for model1\n",
    "    data : array or scaler\n",
    "        the desired data for prediction task\n",
    "    kwargs : \n",
    "        quadratics : use the model_1 in this question \n",
    "        cubic : use the model_2 in this question\n",
    "        \n",
    "    **NOTE:** one of the parameters can be choosed!\n",
    "    **NOTE:** any value can be passed to kwargs, there is no difference in that. (because the value would not be used)\n",
    "    \n",
    "    Returns:\n",
    "    --------\n",
    "    prediction : array or scaler\n",
    "        the predicted output value for the input data\n",
    "    \"\"\"\n",
    "    \n",
    "    ## first we need to apply the transformation for the data \n",
    "    ## as the learned parameters are trained using the transformation\n",
    "    if 'quadratics' in kwargs and 'cubic' in kwargs:\n",
    "        raise ValueError(\"Both parameters cannot be chosen! They have different behaviour\")\n",
    "    elif 'quadratics' in kwargs:\n",
    "        data_phi = kernel_Quadratic(data) \n",
    "    elif 'cubic' in kwargs:\n",
    "        data_phi = kernel_cubic(data) \n",
    "    else:\n",
    "        raise ValueError(\"no parameters cubic or quadratics was chosen!\")\n",
    "        \n",
    "    prediction = np.matrix(weights).T @ data_phi\n",
    "    \n",
    "    return prediction"
   ]
  },
  {
   "cell_type": "code",
   "execution_count": 9,
   "metadata": {},
   "outputs": [],
   "source": [
    "def calculate_MSE(true_outputs, predicted_outputs):\n",
    "    \"\"\"\n",
    "    calculate the Mean Squared Error for the predicted data\n",
    "    \n",
    "    Parameters:\n",
    "    ------------\n",
    "    true_outputs : array_like \n",
    "        the actual output of the data\n",
    "    predicted_outputs : array_like\n",
    "        the predicted outputs for the data\n",
    "        \n",
    "    Returns:\n",
    "    ---------\n",
    "    mse_value : float\n",
    "        the mean squared error value\n",
    "    \"\"\"\n",
    "    \n",
    "    ## the difference \n",
    "    diff = predicted_outputs - true_outputs\n",
    "    ## squeare the difference\n",
    "    diff = np.power(diff, 2)\n",
    "    \n",
    "    ## find the mean value\n",
    "    mse_value = np.mean(diff)\n",
    "    \n",
    "    return mse_value\n",
    "    "
   ]
  },
  {
   "cell_type": "code",
   "execution_count": 10,
   "metadata": {},
   "outputs": [],
   "source": [
    "pred_model1_test = model_predict(model1_weight, test[:, 0], quadratics='True')\n",
    "pred_model2_test = model_predict(model2_weight, test[:, 0], cubic='True')"
   ]
  },
  {
   "cell_type": "code",
   "execution_count": 11,
   "metadata": {},
   "outputs": [
    {
     "name": "stdout",
     "output_type": "stream",
     "text": [
      "MSE for model1 is 7.496789449073051\n",
      "MSE for model2 is 5.812331603917104\n"
     ]
    }
   ],
   "source": [
    "mse_model1 = calculate_MSE(test[:, 1], pred_model1_test)\n",
    "mse_model2 = calculate_MSE(test[:, 1], pred_model2_test)\n",
    "print(f'MSE for model1 is {mse_model1}')\n",
    "print(f'MSE for model2 is {mse_model2}')"
   ]
  },
  {
   "cell_type": "markdown",
   "metadata": {},
   "source": [
    "## P4"
   ]
  },
  {
   "cell_type": "markdown",
   "metadata": {},
   "source": [
    "To find the T value for our datasets we need to use the equation below\n",
    "\\begin{equation}\n",
    "T = \\frac{mean_1 - mean_2}{\\frac{std(diffrences)}{\\sqrt{n}}}\n",
    "\\end{equation}\n",
    "refrence: https://www.investopedia.com/terms/t/t-test.asp"
   ]
  },
  {
   "cell_type": "code",
   "execution_count": 12,
   "metadata": {},
   "outputs": [],
   "source": [
    "def calculate_T_value(dataset1, dataset2):\n",
    "    \"\"\"\n",
    "    Find the T-value for two datasets\n",
    "    \n",
    "    Parameters:\n",
    "    ------------\n",
    "    dataset1 : array_of_Tuples\n",
    "        (`x_i`, `y_i`) data, `x` representing data and `y` representig label\n",
    "    dataset2 : array_of_Tuples\n",
    "        (`x_i`, `y_i`) data, `x` representing data and `y` representig label\n",
    "\n",
    "    Returns:\n",
    "    ---------\n",
    "    T_value : float\n",
    "        the T value for datasets\n",
    "    \"\"\"\n",
    "    ## convert to numpy array for ease of use\n",
    "    set1 = np.array(dataset1)\n",
    "    set2 = np.array(dataset2)\n",
    "    \n",
    "    ## calculate the medians\n",
    "    m1 = np.mean(set1[:, 1])\n",
    "    m2 = np.mean(set2[:, 1])\n",
    "    \n",
    "    ## find the differences\n",
    "    diff = set1[:, 1] - set2[:, 1]\n",
    "    \n",
    "    ## below the division\n",
    "    below = np.std(diff) / np.sqrt(len(diff))\n",
    "    \n",
    "    above = m1 - m2\n",
    "    \n",
    "    T_value = above / below\n",
    "    \n",
    "    return T_value"
   ]
  },
  {
   "cell_type": "code",
   "execution_count": 13,
   "metadata": {},
   "outputs": [
    {
     "data": {
      "text/plain": [
       "-0.9350212787977713"
      ]
     },
     "execution_count": 13,
     "metadata": {},
     "output_type": "execute_result"
    }
   ],
   "source": [
    "calculate_T_value(train, test)"
   ]
  },
  {
   "cell_type": "code",
   "execution_count": 14,
   "metadata": {},
   "outputs": [],
   "source": [
    "z = (train[:, 1] - np.mean(train[:, 1]- test[:, 1]) ) / np.std(train[:, 1] - test[:, 1])"
   ]
  },
  {
   "cell_type": "code",
   "execution_count": 15,
   "metadata": {},
   "outputs": [
    {
     "data": {
      "text/plain": [
       "2.0609315717988514"
      ]
     },
     "execution_count": 15,
     "metadata": {},
     "output_type": "execute_result"
    }
   ],
   "source": [
    "np.mean(z)"
   ]
  },
  {
   "cell_type": "markdown",
   "metadata": {},
   "source": [
    "TODO: As we can see the value for T-test is about `-0.935` and it is not out of the [-1.96, 1.96]. So we can say that the "
   ]
  },
  {
   "cell_type": "markdown",
   "metadata": {},
   "source": [
    "# Q2\n",
    "TODO"
   ]
  },
  {
   "cell_type": "markdown",
   "metadata": {},
   "source": [
    "# Q3\n",
    "Use housing data in Homework no.1 and the linear regression model. The kernel function is\n",
    "\\begin{equation}\n",
    "\\phi_j(x) = exp[-\\frac{1}{2} \\beta (x-m_j)^T(x-m_j)]\n",
    "\\end{equation}\n",
    "Find the parameters of the weight $w$."
   ]
  },
  {
   "cell_type": "code",
   "execution_count": 30,
   "metadata": {},
   "outputs": [],
   "source": [
    "columns = ['CRIM', 'ZN', 'INDUS', 'CHAS', 'NOX', 'RM', 'AGE', 'DIS', 'RAD','TAX', 'PTRATIO', 'B', 'LSTAT', 'MEDV']\n",
    "\n",
    "df_housing = pd.read_csv('../HW1/hw1_data/housing/housing.txt', delimiter=' +'\n",
    "            , engine='python', names=columns, index_col=False)"
   ]
  },
  {
   "cell_type": "code",
   "execution_count": 31,
   "metadata": {},
   "outputs": [
    {
     "data": {
      "text/html": [
       "<div>\n",
       "<style scoped>\n",
       "    .dataframe tbody tr th:only-of-type {\n",
       "        vertical-align: middle;\n",
       "    }\n",
       "\n",
       "    .dataframe tbody tr th {\n",
       "        vertical-align: top;\n",
       "    }\n",
       "\n",
       "    .dataframe thead th {\n",
       "        text-align: right;\n",
       "    }\n",
       "</style>\n",
       "<table border=\"1\" class=\"dataframe\">\n",
       "  <thead>\n",
       "    <tr style=\"text-align: right;\">\n",
       "      <th></th>\n",
       "      <th>CRIM</th>\n",
       "      <th>ZN</th>\n",
       "      <th>INDUS</th>\n",
       "      <th>CHAS</th>\n",
       "      <th>NOX</th>\n",
       "      <th>RM</th>\n",
       "      <th>AGE</th>\n",
       "      <th>DIS</th>\n",
       "      <th>RAD</th>\n",
       "      <th>TAX</th>\n",
       "      <th>PTRATIO</th>\n",
       "      <th>B</th>\n",
       "      <th>LSTAT</th>\n",
       "      <th>MEDV</th>\n",
       "    </tr>\n",
       "  </thead>\n",
       "  <tbody>\n",
       "    <tr>\n",
       "      <th>0</th>\n",
       "      <td>0.00632</td>\n",
       "      <td>18.0</td>\n",
       "      <td>2.31</td>\n",
       "      <td>0</td>\n",
       "      <td>0.538</td>\n",
       "      <td>6.575</td>\n",
       "      <td>65.2</td>\n",
       "      <td>4.0900</td>\n",
       "      <td>1</td>\n",
       "      <td>296.0</td>\n",
       "      <td>15.3</td>\n",
       "      <td>396.90</td>\n",
       "      <td>4.98</td>\n",
       "      <td>24.0</td>\n",
       "    </tr>\n",
       "    <tr>\n",
       "      <th>1</th>\n",
       "      <td>0.02731</td>\n",
       "      <td>0.0</td>\n",
       "      <td>7.07</td>\n",
       "      <td>0</td>\n",
       "      <td>0.469</td>\n",
       "      <td>6.421</td>\n",
       "      <td>78.9</td>\n",
       "      <td>4.9671</td>\n",
       "      <td>2</td>\n",
       "      <td>242.0</td>\n",
       "      <td>17.8</td>\n",
       "      <td>396.90</td>\n",
       "      <td>9.14</td>\n",
       "      <td>21.6</td>\n",
       "    </tr>\n",
       "    <tr>\n",
       "      <th>2</th>\n",
       "      <td>0.02729</td>\n",
       "      <td>0.0</td>\n",
       "      <td>7.07</td>\n",
       "      <td>0</td>\n",
       "      <td>0.469</td>\n",
       "      <td>7.185</td>\n",
       "      <td>61.1</td>\n",
       "      <td>4.9671</td>\n",
       "      <td>2</td>\n",
       "      <td>242.0</td>\n",
       "      <td>17.8</td>\n",
       "      <td>392.83</td>\n",
       "      <td>4.03</td>\n",
       "      <td>34.7</td>\n",
       "    </tr>\n",
       "    <tr>\n",
       "      <th>3</th>\n",
       "      <td>0.03237</td>\n",
       "      <td>0.0</td>\n",
       "      <td>2.18</td>\n",
       "      <td>0</td>\n",
       "      <td>0.458</td>\n",
       "      <td>6.998</td>\n",
       "      <td>45.8</td>\n",
       "      <td>6.0622</td>\n",
       "      <td>3</td>\n",
       "      <td>222.0</td>\n",
       "      <td>18.7</td>\n",
       "      <td>394.63</td>\n",
       "      <td>2.94</td>\n",
       "      <td>33.4</td>\n",
       "    </tr>\n",
       "    <tr>\n",
       "      <th>4</th>\n",
       "      <td>0.06905</td>\n",
       "      <td>0.0</td>\n",
       "      <td>2.18</td>\n",
       "      <td>0</td>\n",
       "      <td>0.458</td>\n",
       "      <td>7.147</td>\n",
       "      <td>54.2</td>\n",
       "      <td>6.0622</td>\n",
       "      <td>3</td>\n",
       "      <td>222.0</td>\n",
       "      <td>18.7</td>\n",
       "      <td>396.90</td>\n",
       "      <td>5.33</td>\n",
       "      <td>36.2</td>\n",
       "    </tr>\n",
       "  </tbody>\n",
       "</table>\n",
       "</div>"
      ],
      "text/plain": [
       "      CRIM    ZN  INDUS  CHAS    NOX     RM   AGE     DIS  RAD    TAX  \\\n",
       "0  0.00632  18.0   2.31     0  0.538  6.575  65.2  4.0900    1  296.0   \n",
       "1  0.02731   0.0   7.07     0  0.469  6.421  78.9  4.9671    2  242.0   \n",
       "2  0.02729   0.0   7.07     0  0.469  7.185  61.1  4.9671    2  242.0   \n",
       "3  0.03237   0.0   2.18     0  0.458  6.998  45.8  6.0622    3  222.0   \n",
       "4  0.06905   0.0   2.18     0  0.458  7.147  54.2  6.0622    3  222.0   \n",
       "\n",
       "   PTRATIO       B  LSTAT  MEDV  \n",
       "0     15.3  396.90   4.98  24.0  \n",
       "1     17.8  396.90   9.14  21.6  \n",
       "2     17.8  392.83   4.03  34.7  \n",
       "3     18.7  394.63   2.94  33.4  \n",
       "4     18.7  396.90   5.33  36.2  "
      ]
     },
     "execution_count": 31,
     "metadata": {},
     "output_type": "execute_result"
    }
   ],
   "source": [
    "df_housing.head()"
   ]
  },
  {
   "cell_type": "code",
   "execution_count": 32,
   "metadata": {},
   "outputs": [
    {
     "data": {
      "text/plain": [
       "(506, 14)"
      ]
     },
     "execution_count": 32,
     "metadata": {},
     "output_type": "execute_result"
    }
   ],
   "source": [
    "df_housing.shape"
   ]
  },
  {
   "cell_type": "code",
   "execution_count": 33,
   "metadata": {},
   "outputs": [],
   "source": [
    "## removing label\n",
    "df_X = df_housing[columns[:-1]]"
   ]
  },
  {
   "cell_type": "code",
   "execution_count": 34,
   "metadata": {},
   "outputs": [
    {
     "data": {
      "text/html": [
       "<div>\n",
       "<style scoped>\n",
       "    .dataframe tbody tr th:only-of-type {\n",
       "        vertical-align: middle;\n",
       "    }\n",
       "\n",
       "    .dataframe tbody tr th {\n",
       "        vertical-align: top;\n",
       "    }\n",
       "\n",
       "    .dataframe thead th {\n",
       "        text-align: right;\n",
       "    }\n",
       "</style>\n",
       "<table border=\"1\" class=\"dataframe\">\n",
       "  <thead>\n",
       "    <tr style=\"text-align: right;\">\n",
       "      <th></th>\n",
       "      <th>CRIM</th>\n",
       "      <th>ZN</th>\n",
       "      <th>INDUS</th>\n",
       "      <th>CHAS</th>\n",
       "      <th>NOX</th>\n",
       "      <th>RM</th>\n",
       "      <th>AGE</th>\n",
       "      <th>DIS</th>\n",
       "      <th>RAD</th>\n",
       "      <th>TAX</th>\n",
       "      <th>PTRATIO</th>\n",
       "      <th>B</th>\n",
       "      <th>LSTAT</th>\n",
       "    </tr>\n",
       "  </thead>\n",
       "  <tbody>\n",
       "    <tr>\n",
       "      <th>0</th>\n",
       "      <td>0.00632</td>\n",
       "      <td>18.0</td>\n",
       "      <td>2.31</td>\n",
       "      <td>0</td>\n",
       "      <td>0.538</td>\n",
       "      <td>6.575</td>\n",
       "      <td>65.2</td>\n",
       "      <td>4.0900</td>\n",
       "      <td>1</td>\n",
       "      <td>296.0</td>\n",
       "      <td>15.3</td>\n",
       "      <td>396.90</td>\n",
       "      <td>4.98</td>\n",
       "    </tr>\n",
       "    <tr>\n",
       "      <th>1</th>\n",
       "      <td>0.02731</td>\n",
       "      <td>0.0</td>\n",
       "      <td>7.07</td>\n",
       "      <td>0</td>\n",
       "      <td>0.469</td>\n",
       "      <td>6.421</td>\n",
       "      <td>78.9</td>\n",
       "      <td>4.9671</td>\n",
       "      <td>2</td>\n",
       "      <td>242.0</td>\n",
       "      <td>17.8</td>\n",
       "      <td>396.90</td>\n",
       "      <td>9.14</td>\n",
       "    </tr>\n",
       "    <tr>\n",
       "      <th>2</th>\n",
       "      <td>0.02729</td>\n",
       "      <td>0.0</td>\n",
       "      <td>7.07</td>\n",
       "      <td>0</td>\n",
       "      <td>0.469</td>\n",
       "      <td>7.185</td>\n",
       "      <td>61.1</td>\n",
       "      <td>4.9671</td>\n",
       "      <td>2</td>\n",
       "      <td>242.0</td>\n",
       "      <td>17.8</td>\n",
       "      <td>392.83</td>\n",
       "      <td>4.03</td>\n",
       "    </tr>\n",
       "    <tr>\n",
       "      <th>3</th>\n",
       "      <td>0.03237</td>\n",
       "      <td>0.0</td>\n",
       "      <td>2.18</td>\n",
       "      <td>0</td>\n",
       "      <td>0.458</td>\n",
       "      <td>6.998</td>\n",
       "      <td>45.8</td>\n",
       "      <td>6.0622</td>\n",
       "      <td>3</td>\n",
       "      <td>222.0</td>\n",
       "      <td>18.7</td>\n",
       "      <td>394.63</td>\n",
       "      <td>2.94</td>\n",
       "    </tr>\n",
       "    <tr>\n",
       "      <th>4</th>\n",
       "      <td>0.06905</td>\n",
       "      <td>0.0</td>\n",
       "      <td>2.18</td>\n",
       "      <td>0</td>\n",
       "      <td>0.458</td>\n",
       "      <td>7.147</td>\n",
       "      <td>54.2</td>\n",
       "      <td>6.0622</td>\n",
       "      <td>3</td>\n",
       "      <td>222.0</td>\n",
       "      <td>18.7</td>\n",
       "      <td>396.90</td>\n",
       "      <td>5.33</td>\n",
       "    </tr>\n",
       "  </tbody>\n",
       "</table>\n",
       "</div>"
      ],
      "text/plain": [
       "      CRIM    ZN  INDUS  CHAS    NOX     RM   AGE     DIS  RAD    TAX  \\\n",
       "0  0.00632  18.0   2.31     0  0.538  6.575  65.2  4.0900    1  296.0   \n",
       "1  0.02731   0.0   7.07     0  0.469  6.421  78.9  4.9671    2  242.0   \n",
       "2  0.02729   0.0   7.07     0  0.469  7.185  61.1  4.9671    2  242.0   \n",
       "3  0.03237   0.0   2.18     0  0.458  6.998  45.8  6.0622    3  222.0   \n",
       "4  0.06905   0.0   2.18     0  0.458  7.147  54.2  6.0622    3  222.0   \n",
       "\n",
       "   PTRATIO       B  LSTAT  \n",
       "0     15.3  396.90   4.98  \n",
       "1     17.8  396.90   9.14  \n",
       "2     17.8  392.83   4.03  \n",
       "3     18.7  394.63   2.94  \n",
       "4     18.7  396.90   5.33  "
      ]
     },
     "execution_count": 34,
     "metadata": {},
     "output_type": "execute_result"
    }
   ],
   "source": [
    "df_X.head()"
   ]
  },
  {
   "cell_type": "markdown",
   "metadata": {},
   "source": [
    "## P1\n",
    "Using \n",
    "\\begin{equation}\n",
    "\\phi_j(x) = exp[-\\frac{1}{2} \\beta (x-m_j)^T(x-m_j)]\n",
    "\\end{equation}"
   ]
  },
  {
   "cell_type": "code",
   "execution_count": 308,
   "metadata": {
    "scrolled": true
   },
   "outputs": [
    {
     "name": "stdout",
     "output_type": "stream",
     "text": [
      "Linear Regression on classification dataset!\n",
      "----------------------------------------------------------------------\n",
      "----------------------------------------------------------------------\n",
      "Loading Training and Test sets\n",
      "datasets loaded!\n",
      "Train set head:\n",
      "[[0.498975   0.99751585 0.27459872 0.93107699 0.99453893 0.96908861\n",
      "  0.96623628 0.77698029 0.96903509 0.47654849]\n",
      " [0.40486622 0.98679349 0.22287077 0.86514918 0.9763808  0.91296394\n",
      "  0.96110207 0.73755377 0.99399332 0.38686512]]\n",
      "Test set head :\n",
      "[[0.50589257 0.96195437 0.38075955 0.91722185 0.95335867 0.92079056\n",
      "  0.90269006 0.9156303  0.92023022 0.52317409]\n",
      " [0.52310506 0.99724226 0.30799186 0.94618438 0.98338536 0.95258474\n",
      "  0.93599425 0.82034324 0.95425447 0.50858823]]\n",
      "----------------------------------------------------------------------\n",
      "----------------------------------------------------------------------\n",
      "\u001b[1mClosed Form Training: \u001b[0m\n",
      " Train Error: \n",
      "  Mean Squared Error:\n",
      " [62.67653522]\n",
      " Test Error: \n",
      "  4986.97115605975\n",
      " Final Weights of the closed form training\n",
      "[[ -64.55010663]\n",
      " [-393.42723102]\n",
      " [  -7.37570236]\n",
      " [ 344.74796187]\n",
      " [-278.16486499]\n",
      " [-119.40059157]\n",
      " [ 294.79884688]\n",
      " [  -7.33643333]\n",
      " [ 230.13799058]\n",
      " [  44.94459508]]\n",
      "----------------------------------------------------------------------\n",
      "----------------------------------------------------------------------\n",
      "\u001b[1mIncremental Learning (Online GD) \u001b[0m\n",
      "  Training Error:\n",
      "   MSE:[1.55273645]\n",
      "  Test Error:\n",
      "   MSE:51514.14104240174\n",
      "\n",
      " Final wights of Incremental Learning\n",
      "[[ 0.05176158]\n",
      " [-0.10785556]\n",
      " [-3.03690983]\n",
      " [-2.0278008 ]\n",
      " [-0.80387686]\n",
      " [-3.89171954]\n",
      " [-1.89304305]\n",
      " [ 4.45976617]\n",
      " [ 1.07929727]\n",
      " [-0.25851748]]\n",
      "----------------------------------------------------------------------\n"
     ]
    }
   ],
   "source": [
    "!python3 scripts/main2_4_1.py learning_rate=0 iterations=500"
   ]
  },
  {
   "cell_type": "markdown",
   "metadata": {},
   "source": [
    "## P2\n",
    "And using the other kernel function\n",
    "\\begin{equation}\n",
    "\\phi_j(x) = \\sigma\\{a||x-m_j||\\}\n",
    "\\end{equation}"
   ]
  },
  {
   "cell_type": "code",
   "execution_count": 309,
   "metadata": {
    "scrolled": true
   },
   "outputs": [
    {
     "name": "stdout",
     "output_type": "stream",
     "text": [
      "Linear Regression on classification dataset!\n",
      "----------------------------------------------------------------------\n",
      "----------------------------------------------------------------------\n",
      "Loading Training and Test sets\n",
      "datasets loaded!\n",
      "Train set head:\n",
      "[[ 1.07956694 13.2619483   4.01649081  1.00458072  1.15354131  1.06494048\n",
      "   1.07111885  1.65647289  1.01282826  4.40342042]\n",
      " [ 1.22564921 20.13251952  6.10072219  1.02583593  1.33604887  1.0121326\n",
      "   1.08259325  1.83830247  1.06031624  6.68167274]]\n",
      "Test set head :\n",
      "[[ 1.19721517  6.89767518  3.90739883  1.08127911  1.18865428  1.18089521\n",
      "   1.22723299  1.1927901   1.1035626   3.65352341]\n",
      " [ 1.12006533 10.54206949  3.65448769  1.00633977  1.11699903  1.09818608\n",
      "   1.14145285  1.4859806   1.03688092  3.86608794]]\n",
      "----------------------------------------------------------------------\n",
      "----------------------------------------------------------------------\n",
      "\u001b[1mClosed Form Training: \u001b[0m\n",
      " Train Error: \n",
      "  Mean Squared Error:\n",
      " [61.89315891]\n",
      " Test Error: \n",
      "  5184.793970713321\n",
      " Final Weights of the closed form training\n",
      "[[ -3.69446901]\n",
      " [ -3.05717393]\n",
      " [-33.28978507]\n",
      " [-10.09092705]\n",
      " [ 24.25689617]\n",
      " [ 16.36590991]\n",
      " [-47.56391814]\n",
      " [ -3.62285238]\n",
      " [ 55.43584553]\n",
      " [ 38.31770048]]\n",
      "----------------------------------------------------------------------\n",
      "----------------------------------------------------------------------\n",
      "\u001b[1mIncremental Learning (Online GD) \u001b[0m\n",
      "  Training Error:\n",
      "   MSE:[30.25776804]\n",
      "  Test Error:\n",
      "   MSE:4502459.014433397\n",
      "\n",
      " Final wights of Incremental Learning\n",
      "[[ -7.53687668]\n",
      " [ 37.11704268]\n",
      " [-24.61501897]\n",
      " [ -0.0943037 ]\n",
      " [  6.64056529]\n",
      " [ -1.38367835]\n",
      " [ -3.17517381]\n",
      " [ 17.80302619]\n",
      " [ -2.93593411]\n",
      " [ -4.28366212]]\n",
      "----------------------------------------------------------------------\n"
     ]
    }
   ],
   "source": [
    "!python3 scripts/main2_4_1.py learning_rate=0 iterations=500"
   ]
  },
  {
   "cell_type": "markdown",
   "metadata": {},
   "source": [
    "We've set the $\\beta$ and $\\alpha$ value to $0.00001$. Setting these hyperparameters to higher values near and more than $1$ can occure overflow due to very high values. "
   ]
  },
  {
   "cell_type": "markdown",
   "metadata": {},
   "source": [
    "# Q4"
   ]
  },
  {
   "cell_type": "markdown",
   "metadata": {},
   "source": [
    "## P1\n",
    "Plot the training and the test data and answer the question that \"Are the data linearly separable?\""
   ]
  },
  {
   "cell_type": "code",
   "execution_count": 20,
   "metadata": {},
   "outputs": [
    {
     "data": {
      "text/plain": [
       "(250, 3)"
      ]
     },
     "execution_count": 20,
     "metadata": {},
     "output_type": "execute_result"
    }
   ],
   "source": [
    "cols = ['X', 'Y', 'label']\n",
    "train_ds = pd.read_csv('./hw2_data/classification_trn.txt',\n",
    "                       delimiter=' +',\n",
    "                      names=cols,\n",
    "                      index_col=False,\n",
    "                      engine='python')\n",
    "train_ds.shape"
   ]
  },
  {
   "cell_type": "code",
   "execution_count": 21,
   "metadata": {},
   "outputs": [
    {
     "data": {
      "text/html": [
       "<div>\n",
       "<style scoped>\n",
       "    .dataframe tbody tr th:only-of-type {\n",
       "        vertical-align: middle;\n",
       "    }\n",
       "\n",
       "    .dataframe tbody tr th {\n",
       "        vertical-align: top;\n",
       "    }\n",
       "\n",
       "    .dataframe thead th {\n",
       "        text-align: right;\n",
       "    }\n",
       "</style>\n",
       "<table border=\"1\" class=\"dataframe\">\n",
       "  <thead>\n",
       "    <tr style=\"text-align: right;\">\n",
       "      <th></th>\n",
       "      <th>X</th>\n",
       "      <th>Y</th>\n",
       "      <th>label</th>\n",
       "    </tr>\n",
       "  </thead>\n",
       "  <tbody>\n",
       "    <tr>\n",
       "      <th>0</th>\n",
       "      <td>0.462766</td>\n",
       "      <td>0.339111</td>\n",
       "      <td>1</td>\n",
       "    </tr>\n",
       "    <tr>\n",
       "      <th>1</th>\n",
       "      <td>0.779089</td>\n",
       "      <td>0.894436</td>\n",
       "      <td>1</td>\n",
       "    </tr>\n",
       "    <tr>\n",
       "      <th>2</th>\n",
       "      <td>0.067501</td>\n",
       "      <td>0.846257</td>\n",
       "      <td>1</td>\n",
       "    </tr>\n",
       "    <tr>\n",
       "      <th>3</th>\n",
       "      <td>-0.048451</td>\n",
       "      <td>0.142165</td>\n",
       "      <td>1</td>\n",
       "    </tr>\n",
       "    <tr>\n",
       "      <th>4</th>\n",
       "      <td>-0.529524</td>\n",
       "      <td>0.792441</td>\n",
       "      <td>1</td>\n",
       "    </tr>\n",
       "  </tbody>\n",
       "</table>\n",
       "</div>"
      ],
      "text/plain": [
       "          X         Y  label\n",
       "0  0.462766  0.339111      1\n",
       "1  0.779089  0.894436      1\n",
       "2  0.067501  0.846257      1\n",
       "3 -0.048451  0.142165      1\n",
       "4 -0.529524  0.792441      1"
      ]
     },
     "execution_count": 21,
     "metadata": {},
     "output_type": "execute_result"
    }
   ],
   "source": [
    "train_ds.head()"
   ]
  },
  {
   "cell_type": "code",
   "execution_count": 22,
   "metadata": {},
   "outputs": [
    {
     "data": {
      "text/plain": [
       "(100, 3)"
      ]
     },
     "execution_count": 22,
     "metadata": {},
     "output_type": "execute_result"
    }
   ],
   "source": [
    "cols = ['X', 'Y', 'label']\n",
    "test_ds = pd.read_csv('./hw2_data/classification_tst.txt',\n",
    "                       delimiter=' +',\n",
    "                      names=cols,\n",
    "                      index_col=False,\n",
    "                      engine='python')\n",
    "test_ds.shape"
   ]
  },
  {
   "cell_type": "code",
   "execution_count": 23,
   "metadata": {},
   "outputs": [
    {
     "data": {
      "image/png": "[encoded data removed]",
      "text/plain": [
       "<Figure size 576x576 with 1 Axes>"
      ]
     },
     "metadata": {
      "needs_background": "light"
     },
     "output_type": "display_data"
    }
   ],
   "source": [
    "## plotting the training data\n",
    "plt.figure(figsize=(8,8))\n",
    "sns.scatterplot(data=train_ds, x='X', y='Y',\n",
    "                style='label',\n",
    "                hue='label')\n",
    "plt.text(y=2.3, x=-2, s='Traning Data', size=16, bbox=dict(boxstyle='round',\n",
    "                                                          color='c'))\n",
    "plt.show()"
   ]
  },
  {
   "cell_type": "code",
   "execution_count": 33,
   "metadata": {},
   "outputs": [
    {
     "data": {
      "image/png": "[encoded data removed]",
      "text/plain": [
       "<Figure size 576x576 with 1 Axes>"
      ]
     },
     "metadata": {
      "needs_background": "light"
     },
     "output_type": "display_data"
    }
   ],
   "source": [
    "## plotting the test data\n",
    "plt.figure(figsize=(8,8))\n",
    "sns.scatterplot(data=test_ds, x='X', y='Y',\n",
    "                style='label',\n",
    "                hue='label')\n",
    "plt.text(y=2, x=-0.5, s='Test Data', size=16, bbox=dict(boxstyle='round',\n",
    "                                                          color='c'))\n",
    "plt.show()"
   ]
  },
  {
   "cell_type": "markdown",
   "metadata": {},
   "source": [
    "It is possible to see that the data is not linearly separable in training set."
   ]
  },
  {
   "cell_type": "markdown",
   "metadata": {},
   "source": [
    "## P2, P3, P4\n",
    "**Question**: Find the gradient descent formulas in order to maximize the likelihood of the regression and using the initial weights as $1$ apply the learning rate $\\frac{1}{t}$. ($t$ is the time steps $1, 2, ..., T$)"
   ]
  },
  {
   "cell_type": "markdown",
   "metadata": {},
   "source": [
    "\\begin{equation}\n",
    "W^{new} \\leftarrow W^{old} + \\alpha(i)\\sum_{i=1}^{n} \\big( y_i - f(x_i, W^{old})\\big) x_{i} \\\\\n",
    "\\text{Where }\\alpha(i) = \\frac{1}{i} \\text{ For i=1, 2, ...}\n",
    "\\end{equation}"
   ]
  },
  {
   "cell_type": "markdown",
   "metadata": {},
   "source": [
    "The `learning_rate=0` corresponds to $\\frac{2}{t}$ and the `learning_rate=1` corresponds to $\\frac{1}{\\sqrt{t}}$.\n",
    "Also the iterations can be adjusted using the argument `iterations`."
   ]
  },
  {
   "cell_type": "markdown",
   "metadata": {},
   "source": [
    "The errors are plotted in images that are saved within the HW2 folder."
   ]
  },
  {
   "cell_type": "code",
   "execution_count": 34,
   "metadata": {
    "scrolled": true
   },
   "outputs": [
    {
     "name": "stdout",
     "output_type": "stream",
     "text": [
      "Logistic Regression on classification dataset!\n",
      "----------------------------------------------------------------------\n",
      "----------------------------------------------------------------------\n",
      "Loading Training and Test sets\n",
      "datasets loaded!\n",
      "Train set head:\n",
      "          X         Y\n",
      "0  0.462766  0.339111\n",
      "1  0.779089  0.894436\n",
      "2  0.067501  0.846257\n",
      "3 -0.048451  0.142165\n",
      "4 -0.529524  0.792441\n",
      "Test set head :\n",
      "          X         Y\n",
      "0 -0.521659  0.363769\n",
      "1 -0.993098 -0.295949\n",
      "2  2.083345  1.483410\n",
      "3 -0.866462  0.166879\n",
      "4 -1.182918 -0.075403\n",
      "----------------------------------------------------------------------\n",
      "----------------------------------------------------------------------\n",
      "\u001b[1mClosed Form Training: \u001b[0m\n",
      " Train Error: \n",
      "  Mean Squared Error: 0.18533821040260134\n",
      " Test Error: \n",
      "  0.28\n",
      " Final Weights of the closed form training\n",
      "[-0.10041674  0.74624728]\n",
      "----------------------------------------------------------------------\n",
      "----------------------------------------------------------------------\n",
      "\u001b[1mGradient descent For Logistic Regression with T=500 iterations\u001b[0m\n",
      " Train Errors: \n",
      "  MSE: [21.179730570075883]\n",
      " Test Error: \n",
      "  MSE: [21.179730570075883]\n",
      "\n",
      " Final wights of Offline Gradient Descent Learning\n",
      "[[2.66828095]\n",
      " [2.44634553]]\n",
      "Train\n",
      "\n",
      "Test\n",
      "\n",
      "----------------------------------------------------------------------\n",
      "----------------------------------------------------------------------\n",
      "\u001b[1mIncremental Learning (Online GD) \u001b[0m\n",
      "  Training Error:\n",
      "   MSE:[[0.7290789712448449, 0.07]]\n",
      "  Test Error:\n",
      "   MSE:0.07\n",
      "\n",
      " Final wights of Incremental Learning\n",
      "[-0.10041674  0.74624728]\n",
      "----------------------------------------------------------------------\n"
     ]
    }
   ],
   "source": [
    "!python3 scripts/main2_5.py learning_rate=0 iterations=500"
   ]
  },
  {
   "cell_type": "markdown",
   "metadata": {},
   "source": [
    "## P5\n",
    "The learning rate is $\\frac{1}{t}$ in the cell below"
   ]
  },
  {
   "cell_type": "code",
   "execution_count": 57,
   "metadata": {
    "scrolled": true
   },
   "outputs": [
    {
     "name": "stdout",
     "output_type": "stream",
     "text": [
      "Logistic Regression on housing dataset!\n",
      "----------------------------------------------------------------------\n",
      "----------------------------------------------------------------------\n",
      "Loading Training and Test sets\n",
      "datasets loaded!\n",
      "Train set head:\n",
      "          X         Y\n",
      "0  0.462766  0.339111\n",
      "1  0.779089  0.894436\n",
      "2  0.067501  0.846257\n",
      "3 -0.048451  0.142165\n",
      "4 -0.529524  0.792441\n",
      "Test set head :\n",
      "          X         Y\n",
      "0 -0.521659  0.363769\n",
      "1 -0.993098 -0.295949\n",
      "2  2.083345  1.483410\n",
      "3 -0.866462  0.166879\n",
      "4 -1.182918 -0.075403\n",
      "----------------------------------------------------------------------\n",
      "----------------------------------------------------------------------\n",
      "\u001b[1mClosed Form Training: \u001b[0m\n",
      " Train Error: \n",
      "  Mean Squared Error: 0.18533821040260134\n",
      " Test Error: \n",
      "  0.28\n",
      " Final Weights of the closed form training\n",
      "[-0.10041674  0.74624728]\n",
      "----------------------------------------------------------------------\n",
      "----------------------------------------------------------------------\n",
      "\u001b[1mGradient descent For Logistic Regression with T=500 iterations\u001b[0m\n",
      " Train Errors: \n",
      "  MSE: [21.514205312276683]\n",
      " Test Error: \n",
      "  MSE: [21.514205312276683]\n",
      "\n",
      " Final wights of Offline Gradient Descent Learning\n",
      "[[3.81875707]\n",
      " [3.33814397]]\n",
      "----------------------------------------------------------------------\n",
      "----------------------------------------------------------------------\n",
      "\u001b[1mIncremental Learning (Online GD) \u001b[0m\n",
      "  Training Error:\n",
      "   MSE:[[0.7268892378981953, 0.07]]\n",
      "  Test Error:\n",
      "   MSE:0.07\n",
      "\n",
      " Final wights of Incremental Learning\n",
      "[13.60834642 14.01209199]\n",
      "----------------------------------------------------------------------\n"
     ]
    }
   ],
   "source": [
    "!python3 scripts/main2_5.py learning_rate=1 iterations=500"
   ]
  },
  {
   "cell_type": "markdown",
   "metadata": {},
   "source": [
    "And using static learning rate `0.5` in below"
   ]
  },
  {
   "cell_type": "code",
   "execution_count": 56,
   "metadata": {
    "scrolled": true
   },
   "outputs": [
    {
     "name": "stdout",
     "output_type": "stream",
     "text": [
      "Logistic Regression on housing dataset!\n",
      "----------------------------------------------------------------------\n",
      "----------------------------------------------------------------------\n",
      "Loading Training and Test sets\n",
      "datasets loaded!\n",
      "Train set head:\n",
      "          X         Y\n",
      "0  0.462766  0.339111\n",
      "1  0.779089  0.894436\n",
      "2  0.067501  0.846257\n",
      "3 -0.048451  0.142165\n",
      "4 -0.529524  0.792441\n",
      "Test set head :\n",
      "          X         Y\n",
      "0 -0.521659  0.363769\n",
      "1 -0.993098 -0.295949\n",
      "2  2.083345  1.483410\n",
      "3 -0.866462  0.166879\n",
      "4 -1.182918 -0.075403\n",
      "----------------------------------------------------------------------\n",
      "----------------------------------------------------------------------\n",
      "\u001b[1mClosed Form Training: \u001b[0m\n",
      " Train Error: \n",
      "  Mean Squared Error: 0.18533821040260134\n",
      " Test Error: \n",
      "  0.28\n",
      " Final Weights of the closed form training\n",
      "[-0.10041674  0.74624728]\n",
      "----------------------------------------------------------------------\n",
      "----------------------------------------------------------------------\n",
      "\u001b[1mGradient descent For Logistic Regression with T=500 iterations\u001b[0m\n",
      " Train Errors: \n",
      "  MSE: [22.45222254661859]\n",
      " Test Error: \n",
      "  MSE: [22.45222254661859]\n",
      "\n",
      " Final wights of Offline Gradient Descent Learning\n",
      "[[6.0130267 ]\n",
      " [4.98060682]]\n",
      "----------------------------------------------------------------------\n",
      "----------------------------------------------------------------------\n",
      "\u001b[1mIncremental Learning (Online GD) \u001b[0m\n",
      "  Training Error:\n",
      "   MSE:[[0.7357933632670419, 0.07]]\n",
      "  Test Error:\n",
      "   MSE:0.07\n",
      "\n",
      " Final wights of Incremental Learning\n",
      "[75.46032218 77.3744382 ]\n",
      "----------------------------------------------------------------------\n"
     ]
    }
   ],
   "source": [
    "!python3 scripts/main2_5.py learning_rate=0.5 iterations=500"
   ]
  },
  {
   "cell_type": "markdown",
   "metadata": {},
   "source": [
    "In high iteration counts there is no obvious difference between different learning rates. To find the difference we used 50 iterations in below"
   ]
  },
  {
   "cell_type": "code",
   "execution_count": 55,
   "metadata": {
    "scrolled": true
   },
   "outputs": [
    {
     "name": "stdout",
     "output_type": "stream",
     "text": [
      "Logistic Regression on housing dataset!\n",
      "----------------------------------------------------------------------\n",
      "----------------------------------------------------------------------\n",
      "Loading Training and Test sets\n",
      "datasets loaded!\n",
      "Train set head:\n",
      "          X         Y\n",
      "0  0.462766  0.339111\n",
      "1  0.779089  0.894436\n",
      "2  0.067501  0.846257\n",
      "3 -0.048451  0.142165\n",
      "4 -0.529524  0.792441\n",
      "Test set head :\n",
      "          X         Y\n",
      "0 -0.521659  0.363769\n",
      "1 -0.993098 -0.295949\n",
      "2  2.083345  1.483410\n",
      "3 -0.866462  0.166879\n",
      "4 -1.182918 -0.075403\n",
      "----------------------------------------------------------------------\n",
      "----------------------------------------------------------------------\n",
      "\u001b[1mClosed Form Training: \u001b[0m\n",
      " Train Error: \n",
      "  Mean Squared Error: 0.18533821040260134\n",
      " Test Error: \n",
      "  0.28\n",
      " Final Weights of the closed form training\n",
      "[-0.10041674  0.74624728]\n",
      "----------------------------------------------------------------------\n",
      "----------------------------------------------------------------------\n",
      "\u001b[1mGradient descent For Logistic Regression with T=50 iterations\u001b[0m\n",
      " Train Errors: \n",
      "  MSE: [21.321777405908414]\n",
      " Test Error: \n",
      "  MSE: [21.321777405908414]\n",
      "\n",
      " Final wights of Offline Gradient Descent Learning\n",
      "[[2.34004787]\n",
      " [2.17965517]]\n",
      "----------------------------------------------------------------------\n",
      "----------------------------------------------------------------------\n",
      "\u001b[1mIncremental Learning (Online GD) \u001b[0m\n",
      "  Training Error:\n",
      "   MSE:[[0.743316177460033, 0.07]]\n",
      "  Test Error:\n",
      "   MSE:0.07\n",
      "\n",
      " Final wights of Incremental Learning\n",
      "[2.70364651 2.3125385 ]\n",
      "----------------------------------------------------------------------\n"
     ]
    }
   ],
   "source": [
    "!python3 scripts/main2_5.py learning_rate=0 iterations=50"
   ]
  },
  {
   "cell_type": "code",
   "execution_count": 54,
   "metadata": {
    "scrolled": true
   },
   "outputs": [
    {
     "name": "stdout",
     "output_type": "stream",
     "text": [
      "Logistic Regression on housing dataset!\n",
      "----------------------------------------------------------------------\n",
      "----------------------------------------------------------------------\n",
      "Loading Training and Test sets\n",
      "datasets loaded!\n",
      "Train set head:\n",
      "          X         Y\n",
      "0  0.462766  0.339111\n",
      "1  0.779089  0.894436\n",
      "2  0.067501  0.846257\n",
      "3 -0.048451  0.142165\n",
      "4 -0.529524  0.792441\n",
      "Test set head :\n",
      "          X         Y\n",
      "0 -0.521659  0.363769\n",
      "1 -0.993098 -0.295949\n",
      "2  2.083345  1.483410\n",
      "3 -0.866462  0.166879\n",
      "4 -1.182918 -0.075403\n",
      "----------------------------------------------------------------------\n",
      "----------------------------------------------------------------------\n",
      "\u001b[1mClosed Form Training: \u001b[0m\n",
      " Train Error: \n",
      "  Mean Squared Error: 0.18533821040260134\n",
      " Test Error: \n",
      "  0.28\n",
      " Final Weights of the closed form training\n",
      "[-0.10041674  0.74624728]\n",
      "----------------------------------------------------------------------\n",
      "----------------------------------------------------------------------\n",
      "\u001b[1mGradient descent For Logistic Regression with T=50 iterations\u001b[0m\n",
      " Train Errors: \n",
      "  MSE: [21.222015553883374]\n",
      " Test Error: \n",
      "  MSE: [21.222015553883374]\n",
      "\n",
      " Final wights of Offline Gradient Descent Learning\n",
      "[[2.59108759]\n",
      " [2.37625462]]\n",
      "----------------------------------------------------------------------\n",
      "----------------------------------------------------------------------\n",
      "\u001b[1mIncremental Learning (Online GD) \u001b[0m\n",
      "  Training Error:\n",
      "   MSE:[[0.7267833093158856, 0.09]]\n",
      "  Test Error:\n",
      "   MSE:0.09\n",
      "\n",
      " Final wights of Incremental Learning\n",
      "[4.70243878 5.20285994]\n",
      "----------------------------------------------------------------------\n"
     ]
    }
   ],
   "source": [
    "!python3 scripts/main2_5.py learning_rate=1 iterations=50"
   ]
  },
  {
   "cell_type": "code",
   "execution_count": 53,
   "metadata": {
    "scrolled": true
   },
   "outputs": [
    {
     "name": "stdout",
     "output_type": "stream",
     "text": [
      "Logistic Regression on housing dataset!\n",
      "----------------------------------------------------------------------\n",
      "----------------------------------------------------------------------\n",
      "Loading Training and Test sets\n",
      "datasets loaded!\n",
      "Train set head:\n",
      "          X         Y\n",
      "0  0.462766  0.339111\n",
      "1  0.779089  0.894436\n",
      "2  0.067501  0.846257\n",
      "3 -0.048451  0.142165\n",
      "4 -0.529524  0.792441\n",
      "Test set head :\n",
      "          X         Y\n",
      "0 -0.521659  0.363769\n",
      "1 -0.993098 -0.295949\n",
      "2  2.083345  1.483410\n",
      "3 -0.866462  0.166879\n",
      "4 -1.182918 -0.075403\n",
      "----------------------------------------------------------------------\n",
      "----------------------------------------------------------------------\n",
      "\u001b[1mClosed Form Training: \u001b[0m\n",
      " Train Error: \n",
      "  Mean Squared Error: 0.18533821040260134\n",
      " Test Error: \n",
      "  0.28\n",
      " Final Weights of the closed form training\n",
      "[-0.10041674  0.74624728]\n",
      "----------------------------------------------------------------------\n",
      "----------------------------------------------------------------------\n",
      "\u001b[1mGradient descent For Logistic Regression with T=500 iterations\u001b[0m\n",
      " Train Errors: \n",
      "  MSE: [22.45222254661859]\n",
      " Test Error: \n",
      "  MSE: [22.45222254661859]\n",
      "\n",
      " Final wights of Offline Gradient Descent Learning\n",
      "[[6.0130267 ]\n",
      " [4.98060682]]\n",
      "----------------------------------------------------------------------\n",
      "----------------------------------------------------------------------\n",
      "\u001b[1mIncremental Learning (Online GD) \u001b[0m\n",
      "  Training Error:\n",
      "   MSE:[[0.7357933632670419, 0.07]]\n",
      "  Test Error:\n",
      "   MSE:0.07\n",
      "\n",
      " Final wights of Incremental Learning\n",
      "[75.46032218 77.3744382 ]\n",
      "----------------------------------------------------------------------\n"
     ]
    }
   ],
   "source": [
    "## And static learning rate\n",
    "!python3 scripts/main2_5.py learning_rate=0.5 iterations=500"
   ]
  },
  {
   "cell_type": "markdown",
   "metadata": {},
   "source": [
    "We lower the iteration counts more to see better the differences "
   ]
  },
  {
   "cell_type": "code",
   "execution_count": 52,
   "metadata": {
    "scrolled": true
   },
   "outputs": [
    {
     "name": "stdout",
     "output_type": "stream",
     "text": [
      "Logistic Regression on housing dataset!\n",
      "----------------------------------------------------------------------\n",
      "----------------------------------------------------------------------\n",
      "Loading Training and Test sets\n",
      "datasets loaded!\n",
      "Train set head:\n",
      "          X         Y\n",
      "0  0.462766  0.339111\n",
      "1  0.779089  0.894436\n",
      "2  0.067501  0.846257\n",
      "3 -0.048451  0.142165\n",
      "4 -0.529524  0.792441\n",
      "Test set head :\n",
      "          X         Y\n",
      "0 -0.521659  0.363769\n",
      "1 -0.993098 -0.295949\n",
      "2  2.083345  1.483410\n",
      "3 -0.866462  0.166879\n",
      "4 -1.182918 -0.075403\n",
      "----------------------------------------------------------------------\n",
      "----------------------------------------------------------------------\n",
      "\u001b[1mClosed Form Training: \u001b[0m\n",
      " Train Error: \n",
      "  Mean Squared Error: 0.18533821040260134\n",
      " Test Error: \n",
      "  0.28\n",
      " Final Weights of the closed form training\n",
      "[-0.10041674  0.74624728]\n",
      "----------------------------------------------------------------------\n",
      "----------------------------------------------------------------------\n",
      "\u001b[1mGradient descent For Logistic Regression with T=5 iterations\u001b[0m\n",
      " Train Errors: \n",
      "  MSE: [21.954185815907675]\n",
      " Test Error: \n",
      "  MSE: [21.954185815907675]\n",
      "\n",
      " Final wights of Offline Gradient Descent Learning\n",
      "[[1.90462057]\n",
      " [1.81567883]]\n",
      "----------------------------------------------------------------------\n",
      "----------------------------------------------------------------------\n",
      "\u001b[1mIncremental Learning (Online GD) \u001b[0m\n",
      "  Training Error:\n",
      "   MSE:[[1.0534808105827163, 0.32000000000000006]]\n",
      "  Test Error:\n",
      "   MSE:0.32000000000000006\n",
      "\n",
      " Final wights of Incremental Learning\n",
      "[ 0.82746549 -0.11811742]\n",
      "----------------------------------------------------------------------\n"
     ]
    }
   ],
   "source": [
    "!python3 scripts/main2_5.py learning_rate=0 iterations=5"
   ]
  },
  {
   "cell_type": "code",
   "execution_count": 51,
   "metadata": {
    "scrolled": true
   },
   "outputs": [
    {
     "name": "stdout",
     "output_type": "stream",
     "text": [
      "Logistic Regression on housing dataset!\n",
      "----------------------------------------------------------------------\n",
      "----------------------------------------------------------------------\n",
      "Loading Training and Test sets\n",
      "datasets loaded!\n",
      "Train set head:\n",
      "          X         Y\n",
      "0  0.462766  0.339111\n",
      "1  0.779089  0.894436\n",
      "2  0.067501  0.846257\n",
      "3 -0.048451  0.142165\n",
      "4 -0.529524  0.792441\n",
      "Test set head :\n",
      "          X         Y\n",
      "0 -0.521659  0.363769\n",
      "1 -0.993098 -0.295949\n",
      "2  2.083345  1.483410\n",
      "3 -0.866462  0.166879\n",
      "4 -1.182918 -0.075403\n",
      "----------------------------------------------------------------------\n",
      "----------------------------------------------------------------------\n",
      "\u001b[1mClosed Form Training: \u001b[0m\n",
      " Train Error: \n",
      "  Mean Squared Error: 0.18533821040260134\n",
      " Test Error: \n",
      "  0.28\n",
      " Final Weights of the closed form training\n",
      "[-0.10041674  0.74624728]\n",
      "----------------------------------------------------------------------\n",
      "----------------------------------------------------------------------\n",
      "\u001b[1mGradient descent For Logistic Regression with T=5 iterations\u001b[0m\n",
      " Train Errors: \n",
      "  MSE: [22.70260229673039]\n",
      " Test Error: \n",
      "  MSE: [22.70260229673039]\n",
      "\n",
      " Final wights of Offline Gradient Descent Learning\n",
      "[[1.6710624 ]\n",
      " [1.60624242]]\n",
      "----------------------------------------------------------------------\n",
      "----------------------------------------------------------------------\n",
      "\u001b[1mIncremental Learning (Online GD) \u001b[0m\n",
      "  Training Error:\n",
      "   MSE:[[1.0748037987641088, 0.28]]\n",
      "  Test Error:\n",
      "   MSE:0.28\n",
      "\n",
      " Final wights of Incremental Learning\n",
      "[ 0.5997547  -0.00995924]\n",
      "----------------------------------------------------------------------\n"
     ]
    }
   ],
   "source": [
    "!python3 scripts/main2_5.py learning_rate=1 iterations=5"
   ]
  },
  {
   "cell_type": "code",
   "execution_count": 50,
   "metadata": {
    "scrolled": true
   },
   "outputs": [
    {
     "name": "stdout",
     "output_type": "stream",
     "text": [
      "Logistic Regression on housing dataset!\n",
      "----------------------------------------------------------------------\n",
      "----------------------------------------------------------------------\n",
      "Loading Training and Test sets\n",
      "datasets loaded!\n",
      "Train set head:\n",
      "          X         Y\n",
      "0  0.462766  0.339111\n",
      "1  0.779089  0.894436\n",
      "2  0.067501  0.846257\n",
      "3 -0.048451  0.142165\n",
      "4 -0.529524  0.792441\n",
      "Test set head :\n",
      "          X         Y\n",
      "0 -0.521659  0.363769\n",
      "1 -0.993098 -0.295949\n",
      "2  2.083345  1.483410\n",
      "3 -0.866462  0.166879\n",
      "4 -1.182918 -0.075403\n",
      "----------------------------------------------------------------------\n",
      "----------------------------------------------------------------------\n",
      "\u001b[1mClosed Form Training: \u001b[0m\n",
      " Train Error: \n",
      "  Mean Squared Error: 0.18533821040260134\n",
      " Test Error: \n",
      "  0.28\n",
      " Final Weights of the closed form training\n",
      "[-0.10041674  0.74624728]\n",
      "----------------------------------------------------------------------\n",
      "----------------------------------------------------------------------\n",
      "\u001b[1mGradient descent For Logistic Regression with T=5 iterations\u001b[0m\n",
      " Train Errors: \n",
      "  MSE: [23.278982955755232]\n",
      " Test Error: \n",
      "  MSE: [23.278982955755232]\n",
      "\n",
      " Final wights of Offline Gradient Descent Learning\n",
      "[[1.54112266]\n",
      " [1.4904238 ]]\n",
      "----------------------------------------------------------------------\n",
      "----------------------------------------------------------------------\n",
      "\u001b[1mIncremental Learning (Online GD) \u001b[0m\n",
      "  Training Error:\n",
      "   MSE:[[1.1067532327276703, 0.23]]\n",
      "  Test Error:\n",
      "   MSE:0.23\n",
      "\n",
      " Final wights of Incremental Learning\n",
      "[0.42850402 0.02784965]\n",
      "----------------------------------------------------------------------\n"
     ]
    }
   ],
   "source": [
    "!python3 scripts/main2_5.py learning_rate=0.5 iterations=5"
   ]
  },
  {
   "cell_type": "markdown",
   "metadata": {},
   "source": [
    "In the results we can see that there may be a little difference and the static learning rate `0.5` show the better results on Test Error in Incremental learning Gradient Descent."
   ]
  },
  {
   "cell_type": "markdown",
   "metadata": {},
   "source": [
    "## P6\n",
    "Comparing the Incremental version of logisitic regression with the normal version shows that it can achive better results with high iteration counts."
   ]
  },
  {
   "cell_type": "markdown",
   "metadata": {},
   "source": [
    "# Q5\n",
    "The data is used from the question 4 and Nive bayes method will be applied."
   ]
  },
  {
   "cell_type": "code",
   "execution_count": 98,
   "metadata": {},
   "outputs": [],
   "source": [
    "def probability_normal_distribution(X, mu, sigma):\n",
    "    \"\"\"\n",
    "    The probability value for normal distribution function\n",
    "    \n",
    "    Parameters:\n",
    "    ------------\n",
    "    x : array_like\n",
    "        the input data\n",
    "    mu : float\n",
    "        the mean value given\n",
    "    sigma : float\n",
    "        the variance given \n",
    "        \n",
    "    Returns:\n",
    "    --------\n",
    "    probability : float\n",
    "        the probability value for the x input values \n",
    "    \"\"\"\n",
    "    ## we've divided the equation in two parts\n",
    "    p1 = 1 / (np.sqrt(np.pi * 2) * sigma)\n",
    "    p2 = np.exp(-0.5 * ((X-mu) / sigma)**2 )\n",
    "    \n",
    "    probability = p1 * p2\n",
    "    \n",
    "    return probability\n",
    "    \n",
    "def find_MLE_Normal_distro(X):\n",
    "    \"\"\"\n",
    "    the maximum likelihood estimation for parameters of normal distribution\n",
    "    the parameters for normal distribution is covariance matrix and mean vector\n",
    "    \n",
    "    Parameters:\n",
    "    ------------\n",
    "    X : array_like\n",
    "        the X input data vectors\n",
    "    \n",
    "    Returns:\n",
    "    ---------\n",
    "    mu : array_like\n",
    "        the means vector\n",
    "    variance : matrix_like\n",
    "        the matrix representing the covariance\n",
    "\n",
    "    \"\"\"\n",
    "    X = np.array(X)\n",
    "    \n",
    "    mu = (1 / len(X)) * np.sum(X)\n",
    "    \n",
    "    ## some changes was made to the ML estimation of variance\n",
    "    ## because of dataset shape\n",
    "    variance = np.sqrt((1 / len(X)) * np.sum((X - mu)**2))    \n",
    "    \n",
    "    return mu, variance"
   ]
  },
  {
   "cell_type": "code",
   "execution_count": 58,
   "metadata": {},
   "outputs": [],
   "source": [
    "cols = ['X', 'Y', 'label']\n",
    "train_ds = pd.read_csv('./hw2_data/classification_trn.txt',\n",
    "                       delimiter=' +',\n",
    "                      names=cols,\n",
    "                      index_col=False,\n",
    "                      engine='python')\n",
    "\n",
    "test_ds = pd.read_csv('./hw2_data/classification_tst.txt',\n",
    "                       delimiter=' +',\n",
    "                      names=cols,\n",
    "                      index_col=False,\n",
    "                      engine='python')"
   ]
  },
  {
   "cell_type": "markdown",
   "metadata": {},
   "source": [
    "In Naive Bayes the class conditional density can be computed by\n",
    "\\begin{equation}\n",
    "p(x|c=1) = \\prod_{i=1}^{d} p(x_i | c=1) \\\\\n",
    "p(x|c=0) = \\prod_{i=1}^{d} p(x_i | c=0) \n",
    "\\end{equation}"
   ]
  },
  {
   "cell_type": "code",
   "execution_count": 72,
   "metadata": {},
   "outputs": [],
   "source": [
    "## divide the dataset into 0 and 1 labels\n",
    "train_ds_0 = train_ds[train_ds.label == 0]\n",
    "test_ds_1 = train_ds[train_ds.label == 1]"
   ]
  },
  {
   "cell_type": "code",
   "execution_count": 128,
   "metadata": {},
   "outputs": [],
   "source": [
    "## dictionary of maximum likelihood estimations\n",
    "MLE_estimates = {}\n",
    "for feature in ['X', 'Y']:\n",
    "    for label in [0, 1]:\n",
    "        mu, var = find_MLE_Normal_distro(train_ds[train_ds.label == label][feature])\n",
    "        ## each feature of class estimation\n",
    "        MLE_estimates[f'{feature},{label}'] = [mu, var]"
   ]
  },
  {
   "cell_type": "code",
   "execution_count": 129,
   "metadata": {},
   "outputs": [
    {
     "data": {
      "text/plain": [
       "{'X,0': [-0.9766294551726316, 0.4043628347745132],\n",
       " 'X,1': [0.01564038684774194, 0.574343819845795],\n",
       " 'Y,0': [-0.04355836269157895, 0.42688761701060846],\n",
       " 'Y,1': [0.9415618305584516, 0.5324787748723679]}"
      ]
     },
     "execution_count": 129,
     "metadata": {},
     "output_type": "execute_result"
    }
   ],
   "source": [
    "MLE_estimates"
   ]
  },
  {
   "cell_type": "code",
   "execution_count": 268,
   "metadata": {},
   "outputs": [],
   "source": [
    "def predict_NB(X, MLE_estimations):\n",
    "    \"\"\"\n",
    "    predict the class Using Naive bayes algorithm\n",
    "    \n",
    "    Parameters:\n",
    "    ------------\n",
    "    X : pandas dataframe\n",
    "        Input data, `X` and `Y` should be the features\n",
    "    MLE_estimations : dictionary\n",
    "        Maximum likelihood estimations corresponding to each dimension and class as a dictionary with keys like `X,0`\n",
    "        meaning X as first feature and 0 as first class \n",
    "        \n",
    "    Returns:\n",
    "    ---------\n",
    "    prediction : array_like\n",
    "        the array representing the probability of each class for data\n",
    "    \"\"\"\n",
    "    ## the predicted value for each data\n",
    "    prediction = []\n",
    "    for idx in range(len(X)):\n",
    "        ## initialize Class probability array\n",
    "        class_p_arr = []\n",
    "        for i in [0, 1]:\n",
    "            ## multiply probability for each dimension\n",
    "            p = 1\n",
    "            for feature in ['X', 'Y']:\n",
    "                mu, var = MLE_estimations[f'{feature},{i}']\n",
    "                p = p * probability_normal_distribution(X.iloc[idx][feature],mu, var)\n",
    "            class_p_arr.append(p)\n",
    "        ## save each class probability of each data\n",
    "        prediction.append(class_p_arr)\n",
    "    \n",
    "    ## for ease of use convert to numpy\n",
    "    prediction = np.array(prediction)\n",
    "    return prediction"
   ]
  },
  {
   "cell_type": "code",
   "execution_count": 276,
   "metadata": {},
   "outputs": [
    {
     "data": {
      "text/plain": [
       "(250, 2)"
      ]
     },
     "execution_count": 276,
     "metadata": {},
     "output_type": "execute_result"
    }
   ],
   "source": [
    "results  = predict_NB(train_ds[['X', 'Y']], MLE_estimates)\n",
    "results.shape"
   ]
  },
  {
   "cell_type": "code",
   "execution_count": 270,
   "metadata": {},
   "outputs": [
    {
     "data": {
      "text/plain": [
       "array([[1.09327234e-03, 2.02663171e-01],\n",
       "       [6.64630522e-06, 2.14271447e-01],\n",
       "       [3.74476058e-03, 5.10057518e-01],\n",
       "       [6.01875199e-02, 1.67582766e-01]])"
      ]
     },
     "execution_count": 270,
     "metadata": {},
     "output_type": "execute_result"
    }
   ],
   "source": [
    "results[:4]"
   ]
  },
  {
   "cell_type": "code",
   "execution_count": 277,
   "metadata": {},
   "outputs": [],
   "source": [
    "y_pred = (results[:, 0] >= results[:, 1]).astype(int)"
   ]
  },
  {
   "cell_type": "code",
   "execution_count": 283,
   "metadata": {},
   "outputs": [],
   "source": [
    "def probability_multivariate_normal_distribution(X,mu, sigma):\n",
    "    \"\"\"\n",
    "    The probability value for multivariate normal distribution function\n",
    "    \n",
    "    Parameters:\n",
    "    ------------\n",
    "    x : array_like\n",
    "        the input data\n",
    "    mu : array_like\n",
    "        the means vector\n",
    "    sigma : matrix_like\n",
    "        the matrix representing the covariance\n",
    "        \n",
    "    Returns:\n",
    "    --------\n",
    "    probability : float\n",
    "        the probability value for the x input values \n",
    "    \"\"\"\n",
    "    dimension = len(mu)\n",
    "    \n",
    "    ## divide the formula into 2 parts\n",
    "    p1 = 1 / np.sqrt(((2*np.pi)**dimension) * np.linalg.det(sigma))\n",
    "    \n",
    "    ## some changes was made to the equation\n",
    "    ## because of dataset shape\n",
    "    p2 = np.exp(-1/2 * (np.dot(X-mu, np.linalg.inv(sigma) @ (X-mu).T)))\n",
    "    \n",
    "    \n",
    "    probability = p1 * p2\n",
    "    \n",
    "    return probability\n",
    "\n",
    "def roc_curve(y, y_pred):\n",
    "    \"\"\"\n",
    "    draw the roc curve\n",
    "    \n",
    "    Parameters:\n",
    "    ------------\n",
    "    y : array_like\n",
    "        the actual output for the data\n",
    "    y_pred : array_like\n",
    "        the predicted output for data\n",
    "\n",
    "    \"\"\"\n",
    "\n",
    "    scores = []\n",
    "    ## find the values for each threshold\n",
    "    ## TP -> True Positive\n",
    "    ## TN -> True Negative\n",
    "    ## FP -> False Positive\n",
    "    ## FN -> False Negative\n",
    "    for threshold in np.linspace(0, 1, 101):\n",
    "        TP = ((y_pred >= threshold) & (y == 1)).sum()\n",
    "        TN = ((y_pred <= threshold) & (y == 0)).sum()\n",
    "        FP = ((y_pred > threshold) & (y == 0)).sum()\n",
    "        FN = ((y_pred < threshold) & (y == 1)).sum()\n",
    "\n",
    "        scores.append([threshold, TP, TN, FP, FN])\n",
    "\n",
    "    df_cols = ['threshold', 'TP', 'TN', 'FP', 'FN']\n",
    "    df_scores = pd.DataFrame(scores, columns=df_cols)\n",
    "\n",
    "    ## sensitivity and specificity\n",
    "    ## True Positive rate = sensitivity\n",
    "    df_scores['sens'] = df_scores.TP / (df_scores.TP + df_scores.FN)\n",
    "    ## False Positive rate = 1 - specificity\n",
    "    df_scores['1-spec'] = df_scores.FP / (df_scores.FP + df_scores.TN)\n",
    "    \n",
    "    plt.plot(df_scores['sens'], df_scores['1-spec'])\n",
    "    plt.xlabel('sens')\n",
    "    plt.ylabel('1-spec')\n",
    "    plt.title(f'ROC Curve')\n",
    "    plt.show()\n"
   ]
  },
  {
   "cell_type": "code",
   "execution_count": 285,
   "metadata": {},
   "outputs": [
    {
     "data": {
      "image/png": "[encoded data removed]",
      "text/plain": [
       "<Figure size 432x288 with 1 Axes>"
      ]
     },
     "metadata": {
      "needs_background": "light"
     },
     "output_type": "display_data"
    }
   ],
   "source": [
    "roc_curve(train_ds[['label']].values, y_pred)"
   ]
  },
  {
   "cell_type": "markdown",
   "metadata": {},
   "source": [
    "Now we're going to apply the estimations on test set."
   ]
  },
  {
   "cell_type": "code",
   "execution_count": 301,
   "metadata": {},
   "outputs": [],
   "source": [
    "## test set\n",
    "results = predict_NB(test_ds[['X', 'Y']], MLE_estimates)\n",
    "y_pred = (results[:, 0] >= results[:, 1]).astype(int)"
   ]
  },
  {
   "cell_type": "code",
   "execution_count": 302,
   "metadata": {},
   "outputs": [
    {
     "data": {
      "image/png": "[encoded data removed]",
      "text/plain": [
       "<Figure size 432x288 with 1 Axes>"
      ]
     },
     "metadata": {
      "needs_background": "light"
     },
     "output_type": "display_data"
    }
   ],
   "source": [
    "roc_curve(test_ds[['label']].values, y_pred)"
   ]
  },
  {
   "cell_type": "markdown",
   "metadata": {},
   "source": [
    "# Q6\n",
    "Use Quadratic Discriminant Analysis for `classification` data. The functions for question 5 can be used."
   ]
  },
  {
   "cell_type": "code",
   "execution_count": 5,
   "metadata": {},
   "outputs": [],
   "source": [
    "## we need to find the mean and covariance of each class\n",
    "\n",
    "## divide into class 0 and class 1\n",
    "train_ds_C0 = train_ds[train_ds.label == 0]\n",
    "train_ds_C1 = train_ds[train_ds.label == 1]\n",
    "\n",
    "train_ds_C0_X = train_ds_C0[['X', 'Y']]\n",
    "train_ds_C0_Y = train_ds_C0[['label']]\n",
    "\n",
    "train_ds_C1_X = train_ds_C1[['X', 'Y']]\n",
    "train_ds_C1_Y = train_ds_C1[['label']]\n",
    "\n",
    "mu0, sigma0 = find_MLE_Normal_distro(train_ds_C0_X.T)\n",
    "mu1, sigma1 = find_MLE_Normal_distro(train_ds_C1_X.T)"
   ]
  },
  {
   "cell_type": "code",
   "execution_count": 6,
   "metadata": {},
   "outputs": [
    {
     "name": "stdout",
     "output_type": "stream",
     "text": [
      "Class 0\n",
      "Covariance:\n",
      "              X            Y\n",
      "X  97970.107123  4371.099911\n",
      "Y   4371.099911   203.525003\n",
      "Mean vector:\n",
      "X   -46.389899\n",
      "Y    -2.069022\n",
      "dtype: float64\n",
      "\n",
      "--------------------\n",
      "Class 1\n",
      "Covariance:\n",
      "             X              Y\n",
      "X   136.513008    6686.281659\n",
      "Y  6686.281659  402111.038432\n",
      "Mean vector:\n",
      "X     1.212130\n",
      "Y    72.971042\n",
      "dtype: float64\n",
      "\n"
     ]
    }
   ],
   "source": [
    "## take a look at properties found\n",
    "print(\"Class 0\")\n",
    "print(f'Covariance:\\n{sigma0}\\nMean vector:\\n{mu0}\\n')\n",
    "print('--'*10)\n",
    "print(\"Class 1\")\n",
    "print(f'Covariance:\\n{sigma1}\\nMean vector:\\n{mu1}\\n')"
   ]
  },
  {
   "cell_type": "markdown",
   "metadata": {},
   "source": [
    "Implementing The functions above and some other in a Class."
   ]
  },
  {
   "cell_type": "code",
   "execution_count": 46,
   "metadata": {},
   "outputs": [],
   "source": [
    "class QDA():\n",
    "    \"\"\"\n",
    "    Quadratic Discriminant Analysis Class\n",
    "    \"\"\"\n",
    "    def __init__(self):\n",
    "        self.mu0 = None\n",
    "        self.mu1 = None\n",
    "        self.sigma0 = None\n",
    "        self.sigma1 = None\n",
    "    \n",
    "    __\n",
    "    def predict(self, X):\n",
    "        \"\"\"\n",
    "        Predict the output for the X input\n",
    "        \n",
    "        Parameters:\n",
    "        ------------\n",
    "        X : array_like\n",
    "            The data to be appended\n",
    "        \"\"\"\n",
    "        mu0 = self.mu0\n",
    "        mu1 = self.mu1\n",
    "        sigma0 = self.sigma0\n",
    "        sigma1 = self.sigma1\n",
    "        \n",
    "        ## check if the model is not learned and the parameters is updated\n",
    "        ## checking one parameter is enough \n",
    "        ## because we are assigning a value to all in learning phase \n",
    "        if len(sigma0) == 0:\n",
    "            raise \"Error! First fit the model on a dataset then try to predict the values!\"\n",
    "        \n",
    "\n",
    "\n",
    "        ## Find the probabilities for class 0\n",
    "        ## save them in an array for furthur comparisons\n",
    "        prediction = []\n",
    "        for i in range(len(X)):\n",
    "            ## Find the predicted Class of each data in class 0\n",
    "            P_Class0 = self.__probability_multivariate_normal_distribution(X.iloc[i]\n",
    "                                                             ,mu0, sigma0)\n",
    "\n",
    "            P_Class1 = self.__probability_multivariate_normal_distribution(X.iloc[i]\n",
    "                                                             ,mu1, sigma1)\n",
    "            ## Compare and set the class to highest probability\n",
    "            P = P_Class1 >= P_Class0\n",
    "\n",
    "            ## Append the number of Class\n",
    "            prediction.append(int(P))\n",
    "        \n",
    "        return prediction\n",
    "    def fit(self, X, Y):\n",
    "        \"\"\"\n",
    "        Learning the parameters of the model (Binary Classification model!)\n",
    "        \n",
    "        Parameters:\n",
    "        -----------\n",
    "        X : array_like\n",
    "            the input values to be learned\n",
    "        Y : array_like\n",
    "            the label for the data (The binary classification task is here)\n",
    "        \"\"\"\n",
    "        ## we need to find the mean and covariance of each class\n",
    "\n",
    "        ## divide into class 0 and class 1\n",
    "        train_ds_C0 = train_ds[train_ds.label == 0]\n",
    "        train_ds_C1 = train_ds[train_ds.label == 1]\n",
    "\n",
    "        train_ds_C0_X = train_ds_C0[['X', 'Y']]\n",
    "        train_ds_C0_Y = train_ds_C0[['label']]\n",
    "\n",
    "        train_ds_C1_X = train_ds_C1[['X', 'Y']]\n",
    "        train_ds_C1_Y = train_ds_C1[['label']]\n",
    "\n",
    "        mu0, sigma0 = self.__find_MLE_Normal_distro(train_ds_C0_X.T)\n",
    "        mu1, sigma1 = self.__find_MLE_Normal_distro(train_ds_C1_X.T)\n",
    "        \n",
    "        ## Save the parameters of the model\n",
    "        self.mu0 = mu0\n",
    "        self.mu1 = mu1\n",
    "        self.sigma0 = sigma0\n",
    "        self.sigma1 = sigma1\n",
    "            \n",
    "    def __probability_multivariate_normal_distribution(self, X, mu, sigma):\n",
    "        \"\"\"\n",
    "        The probability value for multivariate normal distribution function\n",
    "\n",
    "        Parameters:\n",
    "        ------------\n",
    "        x : array_like\n",
    "            the input data\n",
    "        mu : array_like\n",
    "            the means vector\n",
    "        sigma : matrix_like\n",
    "            the matrix representing the covariance\n",
    "\n",
    "        Returns:\n",
    "        --------\n",
    "        probability : float\n",
    "            the probability value for the x input values \n",
    "        \"\"\"\n",
    "        dimension = len(mu)\n",
    "\n",
    "        ## divide the formula into 2 parts\n",
    "        p1 = 1 / np.sqrt(((2*np.pi)**dimension) * np.linalg.det(sigma))\n",
    "\n",
    "        ## some changes was made to the equation\n",
    "        ## because of dataset shape\n",
    "        p2 = np.exp(-1/2 * (np.dot(X-mu, np.linalg.inv(sigma) @ (X-mu).T)))\n",
    "\n",
    "\n",
    "        probability = p1 * p2\n",
    "\n",
    "        return probability\n",
    "\n",
    "    def __find_MLE_Normal_distro(self, X):\n",
    "        \"\"\"\n",
    "        the maximum likelihood estimation for parameters of multivatiate normal distribution\n",
    "        the parameters for normal distribution is covariance matrix and mean vector\n",
    "\n",
    "        Parameters:\n",
    "        ------------\n",
    "        X : array_like\n",
    "            the X input data vectors\n",
    "\n",
    "        Returns:\n",
    "        ---------\n",
    "        mu : array_like\n",
    "            the means vector\n",
    "        covariance : matrix_like\n",
    "            the matrix representing the covariance\n",
    "\n",
    "        \"\"\"\n",
    "\n",
    "        mu = (1 / len(X.T)) * np.sum(X, axis=1)\n",
    "\n",
    "        ## some changes was made to the ML estimation of covariance\n",
    "        ## because of dataset shape\n",
    "        covariance = (1 / len(X.T)) * ((X.T-mu).T @ (X.T-mu))    \n",
    "\n",
    "        return mu, covariance\n",
    "   "
   ]
  },
  {
   "cell_type": "code",
   "execution_count": 47,
   "metadata": {},
   "outputs": [],
   "source": [
    "## convert probabilities to numpy array\n",
    "model_QDA = QDA()\n",
    "\n",
    "train_ds_X = train_ds[['X', 'Y']]\n",
    "train_ds_Y = train_ds[['label']]\n",
    "\n",
    "model_QDA.fit(train_ds_X,train_ds_Y)"
   ]
  },
  {
   "cell_type": "code",
   "execution_count": 48,
   "metadata": {},
   "outputs": [],
   "source": [
    "test_Y_pred = model_QDA.predict(test_ds[['X','Y']])\n",
    "train_Y_pred = model_QDA.predict(train_ds_X)"
   ]
  },
  {
   "cell_type": "code",
   "execution_count": 49,
   "metadata": {},
   "outputs": [
    {
     "name": "stdout",
     "output_type": "stream",
     "text": [
      "Mu0:\n",
      "X   -0.976629\n",
      "Y   -0.043558\n",
      "dtype: float64\n",
      "\n",
      "Mu1:\n",
      "X    0.015640\n",
      "Y    0.941562\n",
      "dtype: float64\n"
     ]
    }
   ],
   "source": [
    "print(f'Mu0:\\n{model_QDA.mu0}\\n')\n",
    "print(f'Mu1:\\n{model_QDA.mu1}')"
   ]
  },
  {
   "cell_type": "code",
   "execution_count": 50,
   "metadata": {},
   "outputs": [
    {
     "name": "stdout",
     "output_type": "stream",
     "text": [
      "Covariance_0:\n",
      "           X         Y\n",
      "X  0.163509  0.040219\n",
      "Y  0.040219  0.182233\n",
      "\n",
      "Covariance_1:\n",
      "           X         Y\n",
      "X  0.329871  0.092079\n",
      "Y  0.092079  0.283534\n",
      "\n"
     ]
    }
   ],
   "source": [
    "print(f'Covariance_0:\\n {model_QDA.sigma0}\\n')\n",
    "print(f'Covariance_1:\\n {model_QDA.sigma1}\\n')"
   ]
  },
  {
   "cell_type": "code",
   "execution_count": 60,
   "metadata": {},
   "outputs": [
    {
     "data": {
      "text/plain": [
       "0.9"
      ]
     },
     "execution_count": 60,
     "metadata": {},
     "output_type": "execute_result"
    }
   ],
   "source": [
    "## test accuracy\n",
    "test_Y = test_ds[['label']].values.flatten()\n",
    "\n",
    "acc_test = (test_Y == test_Y_pred).sum() / len(test_Y_pred)\n",
    "acc_test"
   ]
  },
  {
   "cell_type": "code",
   "execution_count": 89,
   "metadata": {},
   "outputs": [],
   "source": [
    "def find_ROC(y_pred, y_true, thresholds = 101):\n",
    "    \"\"\"\n",
    "    Find the confusion matrix for each threshold (ROC)\n",
    "    \n",
    "    Parameters:\n",
    "    ------------\n",
    "    y_true : array_like\n",
    "        the actual output of inputs\n",
    "    y_pred : array_like\n",
    "        the predicted values of inputs\n",
    "    thresholds : positive integer\n",
    "        the count of thresholds to be evaluated between 0 and 1\n",
    "        default is 101\n",
    "\n",
    "    Returns:\n",
    "    ---------\n",
    "    df_scores : pandas dataframe\n",
    "        dataframe contains the confusion matrix for different thresholds\n",
    "    \"\"\"\n",
    "\n",
    "    assert thresholds >= 5, \"Error: Thresholds must be more than 5!\" \n",
    "    \n",
    "    scores = []\n",
    "\n",
    "    ## find the values for each threshold\n",
    "    ## TP -> True Positive\n",
    "    ## TN -> True Negative\n",
    "    ## FP -> False Positive\n",
    "    ## FN -> False Negative\n",
    "    for threshold in np.linspace(0, 1, thresholds):\n",
    "        TP = ((y_pred >= threshold) & (y_true == 1)).sum()\n",
    "        TN = ((y_pred <= threshold) & (y_true == 0)).sum()\n",
    "        FP = ((y_pred > threshold) & (y_true == 0)).sum()\n",
    "        FN = ((y_pred < threshold) & (y_true == 1)).sum()\n",
    "        \n",
    "\n",
    "        scores.append([threshold, TP, TN, FP, FN])\n",
    "\n",
    "    df_cols = ['threshold', 'TP', 'TN', 'FP', 'FN']\n",
    "    df_scores = pd.DataFrame(scores, columns=df_cols)\n",
    "\n",
    "    ## sensitivity and specificity\n",
    "    ## True Positive rate = sensitivity\n",
    "    df_scores['sens'] = df_scores.TP / (df_scores.TP + df_scores.FN)\n",
    "    ## False Positive rate = 1 - specificity\n",
    "    df_scores['1-spec'] = df_scores.FP / (df_scores.FP + df_scores.TN)\n",
    "\n",
    "    return df_scores\n",
    "def export_ROC_Curve(df_scores, description):\n",
    "    \"\"\"\n",
    "    save the roc curve using the dataframe scores\n",
    "    \n",
    "    Parameters:\n",
    "    ------------\n",
    "    df_scores : array_like\n",
    "        the results computed for different thresholds\n",
    "    description : string\n",
    "        the name of the saved file\n",
    "    \"\"\"\n",
    "\n",
    "    plt.plot(df_scores['sens'], df_scores['1-spec'])\n",
    "    plt.title(f'ROC Curve for {description}')\n",
    "    plt.savefig(f'Q6_QDA_{description}.png')\n",
    "    plt.close()"
   ]
  },
  {
   "cell_type": "code",
   "execution_count": 90,
   "metadata": {},
   "outputs": [],
   "source": [
    "roc_scores = find_ROC(test_Y_pred, test_Y)\n",
    "export_ROC_Curve(roc_scores, 'MLE')"
   ]
  },
  {
   "cell_type": "code",
   "execution_count": 91,
   "metadata": {},
   "outputs": [
    {
     "data": {
      "text/html": [
       "<div>\n",
       "<style scoped>\n",
       "    .dataframe tbody tr th:only-of-type {\n",
       "        vertical-align: middle;\n",
       "    }\n",
       "\n",
       "    .dataframe tbody tr th {\n",
       "        vertical-align: top;\n",
       "    }\n",
       "\n",
       "    .dataframe thead th {\n",
       "        text-align: right;\n",
       "    }\n",
       "</style>\n",
       "<table border=\"1\" class=\"dataframe\">\n",
       "  <thead>\n",
       "    <tr style=\"text-align: right;\">\n",
       "      <th></th>\n",
       "      <th>threshold</th>\n",
       "      <th>TP</th>\n",
       "      <th>TN</th>\n",
       "      <th>FP</th>\n",
       "      <th>FN</th>\n",
       "      <th>sens</th>\n",
       "      <th>1-spec</th>\n",
       "    </tr>\n",
       "  </thead>\n",
       "  <tbody>\n",
       "    <tr>\n",
       "      <th>0</th>\n",
       "      <td>0.00</td>\n",
       "      <td>62</td>\n",
       "      <td>35</td>\n",
       "      <td>3</td>\n",
       "      <td>0</td>\n",
       "      <td>1.000000</td>\n",
       "      <td>0.078947</td>\n",
       "    </tr>\n",
       "    <tr>\n",
       "      <th>11</th>\n",
       "      <td>0.11</td>\n",
       "      <td>55</td>\n",
       "      <td>35</td>\n",
       "      <td>3</td>\n",
       "      <td>7</td>\n",
       "      <td>0.887097</td>\n",
       "      <td>0.078947</td>\n",
       "    </tr>\n",
       "    <tr>\n",
       "      <th>22</th>\n",
       "      <td>0.22</td>\n",
       "      <td>55</td>\n",
       "      <td>35</td>\n",
       "      <td>3</td>\n",
       "      <td>7</td>\n",
       "      <td>0.887097</td>\n",
       "      <td>0.078947</td>\n",
       "    </tr>\n",
       "    <tr>\n",
       "      <th>33</th>\n",
       "      <td>0.33</td>\n",
       "      <td>55</td>\n",
       "      <td>35</td>\n",
       "      <td>3</td>\n",
       "      <td>7</td>\n",
       "      <td>0.887097</td>\n",
       "      <td>0.078947</td>\n",
       "    </tr>\n",
       "    <tr>\n",
       "      <th>44</th>\n",
       "      <td>0.44</td>\n",
       "      <td>55</td>\n",
       "      <td>35</td>\n",
       "      <td>3</td>\n",
       "      <td>7</td>\n",
       "      <td>0.887097</td>\n",
       "      <td>0.078947</td>\n",
       "    </tr>\n",
       "    <tr>\n",
       "      <th>55</th>\n",
       "      <td>0.55</td>\n",
       "      <td>55</td>\n",
       "      <td>35</td>\n",
       "      <td>3</td>\n",
       "      <td>7</td>\n",
       "      <td>0.887097</td>\n",
       "      <td>0.078947</td>\n",
       "    </tr>\n",
       "    <tr>\n",
       "      <th>66</th>\n",
       "      <td>0.66</td>\n",
       "      <td>55</td>\n",
       "      <td>35</td>\n",
       "      <td>3</td>\n",
       "      <td>7</td>\n",
       "      <td>0.887097</td>\n",
       "      <td>0.078947</td>\n",
       "    </tr>\n",
       "    <tr>\n",
       "      <th>77</th>\n",
       "      <td>0.77</td>\n",
       "      <td>55</td>\n",
       "      <td>35</td>\n",
       "      <td>3</td>\n",
       "      <td>7</td>\n",
       "      <td>0.887097</td>\n",
       "      <td>0.078947</td>\n",
       "    </tr>\n",
       "    <tr>\n",
       "      <th>88</th>\n",
       "      <td>0.88</td>\n",
       "      <td>55</td>\n",
       "      <td>35</td>\n",
       "      <td>3</td>\n",
       "      <td>7</td>\n",
       "      <td>0.887097</td>\n",
       "      <td>0.078947</td>\n",
       "    </tr>\n",
       "    <tr>\n",
       "      <th>100</th>\n",
       "      <td>1.00</td>\n",
       "      <td>55</td>\n",
       "      <td>38</td>\n",
       "      <td>0</td>\n",
       "      <td>7</td>\n",
       "      <td>0.887097</td>\n",
       "      <td>0.000000</td>\n",
       "    </tr>\n",
       "  </tbody>\n",
       "</table>\n",
       "</div>"
      ],
      "text/plain": [
       "     threshold  TP  TN  FP  FN      sens    1-spec\n",
       "0         0.00  62  35   3   0  1.000000  0.078947\n",
       "11        0.11  55  35   3   7  0.887097  0.078947\n",
       "22        0.22  55  35   3   7  0.887097  0.078947\n",
       "33        0.33  55  35   3   7  0.887097  0.078947\n",
       "44        0.44  55  35   3   7  0.887097  0.078947\n",
       "55        0.55  55  35   3   7  0.887097  0.078947\n",
       "66        0.66  55  35   3   7  0.887097  0.078947\n",
       "77        0.77  55  35   3   7  0.887097  0.078947\n",
       "88        0.88  55  35   3   7  0.887097  0.078947\n",
       "100       1.00  55  38   0   7  0.887097  0.000000"
      ]
     },
     "execution_count": 91,
     "metadata": {},
     "output_type": "execute_result"
    }
   ],
   "source": [
    "roc_scores.iloc[np.linspace(0, 100, 10, dtype=int)]"
   ]
  },
  {
   "cell_type": "code",
   "execution_count": null,
   "metadata": {},
   "outputs": [],
   "source": []
  }
 ],
 "metadata": {
  "interpreter": {
   "hash": "7d67561925ab75f1be6d9f7b02ddab3cd959964be1d904e1c7cc579803053fb1"
  },
  "kernelspec": {
   "display_name": "Python 3 (ipykernel)",
   "language": "python",
   "name": "python3"
  },
  "language_info": {
   "codemirror_mode": {
    "name": "ipython",
    "version": 3
   },
   "file_extension": ".py",
   "mimetype": "text/x-python",
   "name": "python",
   "nbconvert_exporter": "python",
   "pygments_lexer": "ipython3",
   "version": "3.8.10"
  }
 },
 "nbformat": 4,
 "nbformat_minor": 4
}
